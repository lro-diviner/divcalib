{
 "cells": [
  {
   "cell_type": "code",
   "execution_count": 1,
   "metadata": {},
   "outputs": [],
   "source": [
    "%load_ext lab_black"
   ]
  },
  {
   "cell_type": "code",
   "execution_count": 2,
   "metadata": {},
   "outputs": [],
   "source": [
    "import warnings\n",
    "\n",
    "warnings.filterwarnings(\"ignore\", \"This figure was using constrained_layout\")"
   ]
  },
  {
   "cell_type": "code",
   "execution_count": 3,
   "metadata": {},
   "outputs": [],
   "source": [
    "%matplotlib widget"
   ]
  },
  {
   "cell_type": "code",
   "execution_count": 4,
   "metadata": {
    "collapsed": false,
    "jupyter": {
     "outputs_hidden": false
    }
   },
   "outputs": [],
   "source": [
    "from diviner import file_utils as fu\n",
    "import pandas as pd\n",
    "from diviner import calib\n",
    "from diviner import div_l1a_fix"
   ]
  },
  {
   "cell_type": "code",
   "execution_count": 5,
   "metadata": {
    "collapsed": false,
    "jupyter": {
     "outputs_hidden": false
    }
   },
   "outputs": [],
   "source": [
    "root = \"/Users/maye/data/diviner/l1a_data/\""
   ]
  },
  {
   "cell_type": "markdown",
   "metadata": {},
   "source": [
    "read in the previously defined scaling factors"
   ]
  },
  {
   "cell_type": "code",
   "execution_count": 6,
   "metadata": {
    "collapsed": false,
    "jupyter": {
     "outputs_hidden": false
    }
   },
   "outputs": [],
   "source": [
    "factors = div_l1a_fix.factors"
   ]
  },
  {
   "cell_type": "markdown",
   "metadata": {},
   "source": [
    "read in the data, but only from column 59, which is where the science data starts. The result has 189 columns, for all Diviner detectors."
   ]
  },
  {
   "cell_type": "code",
   "execution_count": 7,
   "metadata": {
    "collapsed": false,
    "jupyter": {
     "outputs_hidden": false
    }
   },
   "outputs": [],
   "source": [
    "# columns = arange(59, 248, dtype=int)\n",
    "# olddata = loadtxt(root+'2012011400_L1A.TAB', delimiter=',',skiprows=8,\n",
    "#                usecols=columns)\n",
    "tstr = \"2010120102\"\n",
    "tstr = \"2012011400\"\n",
    "tstr = \"2012071305\"\n",
    "data = fu.get_clean_l1a(tstr)"
   ]
  },
  {
   "cell_type": "code",
   "execution_count": 8,
   "metadata": {
    "collapsed": false,
    "jupyter": {
     "outputs_hidden": false
    }
   },
   "outputs": [
    {
     "data": {
      "text/plain": [
       "(28128, 257)"
      ]
     },
     "execution_count": 8,
     "metadata": {},
     "output_type": "execute_result"
    }
   ],
   "source": [
    "data.shape"
   ]
  },
  {
   "cell_type": "code",
   "execution_count": null,
   "metadata": {
    "collapsed": false,
    "jupyter": {
     "outputs_hidden": false
    }
   },
   "outputs": [],
   "source": [
    "c = calib.Calibrator(data, fix_noise=True)"
   ]
  },
  {
   "cell_type": "code",
   "execution_count": 9,
   "metadata": {},
   "outputs": [],
   "source": [
    "from diviner.plot_utils import plot_all_calib_blocks, plot_calib_block"
   ]
  },
  {
   "cell_type": "code",
   "execution_count": 10,
   "metadata": {},
   "outputs": [],
   "source": [
    "calib_ids = data.calib_block_labels.unique().tolist()"
   ]
  },
  {
   "cell_type": "code",
   "execution_count": 11,
   "metadata": {},
   "outputs": [
    {
     "data": {
      "application/vnd.jupyter.widget-view+json": {
       "model_id": "b174ee7e798c46938a00cdfc0338fe60",
       "version_major": 2,
       "version_minor": 0
      },
      "text/plain": [
       "Canvas(toolbar=Toolbar(toolitems=[('Home', 'Reset original view', 'home', 'home'), ('Back', 'Back to previous …"
      ]
     },
     "metadata": {},
     "output_type": "display_data"
    }
   ],
   "source": [
    "plot_calib_block(data, \"calib\", 6, det=\"b3_11\")"
   ]
  },
  {
   "cell_type": "code",
   "execution_count": 12,
   "metadata": {},
   "outputs": [],
   "source": [
    "ch1and2 = data.filter(regex=\"a[1,2]_\").copy()"
   ]
  },
  {
   "cell_type": "code",
   "execution_count": 13,
   "metadata": {},
   "outputs": [],
   "source": [
    "ch1 = data.filter(regex=\"a1_\").copy()\n",
    "ch2 = data.filter(regex=\"a2_\").copy()"
   ]
  },
  {
   "cell_type": "code",
   "execution_count": 14,
   "metadata": {},
   "outputs": [
    {
     "data": {
      "text/plain": [
       "(28128, 42)"
      ]
     },
     "execution_count": 14,
     "metadata": {},
     "output_type": "execute_result"
    }
   ],
   "source": [
    "ch1and2.shape"
   ]
  },
  {
   "cell_type": "code",
   "execution_count": 15,
   "metadata": {
    "collapsed": false,
    "jupyter": {
     "outputs_hidden": false
    }
   },
   "outputs": [],
   "source": [
    "averaged = np.average(ch1and2, axis=1)\n",
    "ch1and2[\"averaged\"] = averaged"
   ]
  },
  {
   "cell_type": "code",
   "execution_count": 16,
   "metadata": {},
   "outputs": [
    {
     "data": {
      "application/vnd.jupyter.widget-view+json": {
       "model_id": "c331907440c0468f990d2542573c14a5",
       "version_major": 2,
       "version_minor": 0
      },
      "text/plain": [
       "Canvas(toolbar=Toolbar(toolitems=[('Home', 'Reset original view', 'home', 'home'), ('Back', 'Back to previous …"
      ]
     },
     "metadata": {},
     "output_type": "display_data"
    },
    {
     "data": {
      "text/plain": [
       "Text(0.5, 1.0, 'CH 2')"
      ]
     },
     "execution_count": 16,
     "metadata": {},
     "output_type": "execute_result"
    }
   ],
   "source": [
    "t1 = \"20120713 5:49\"\n",
    "t2 = \"20120713 5:52\"\n",
    "ch1and2[t1:t2].filter(regex=\"a2_\").plot()\n",
    "plt.title(\"CH 2\")"
   ]
  },
  {
   "cell_type": "code",
   "execution_count": 30,
   "metadata": {
    "collapsed": false,
    "jupyter": {
     "outputs_hidden": false
    }
   },
   "outputs": [
    {
     "data": {
      "application/vnd.jupyter.widget-view+json": {
       "model_id": "88300a0ce63b402b9add2102be2d4ea3",
       "version_major": 2,
       "version_minor": 0
      },
      "text/plain": [
       "Canvas(toolbar=Toolbar(toolitems=[('Home', 'Reset original view', 'home', 'home'), ('Back', 'Back to previous …"
      ]
     },
     "metadata": {},
     "output_type": "display_data"
    },
    {
     "data": {
      "text/plain": [
       "<matplotlib.axes._subplots.AxesSubplot at 0x1237ba210>"
      ]
     },
     "execution_count": 30,
     "metadata": {},
     "output_type": "execute_result"
    }
   ],
   "source": [
    "ch1and2[\"a1_11 a2_11 averaged\".split()].plot()"
   ]
  },
  {
   "cell_type": "code",
   "execution_count": 17,
   "metadata": {},
   "outputs": [],
   "source": [
    "from scipy import signal"
   ]
  },
  {
   "cell_type": "code",
   "execution_count": 18,
   "metadata": {},
   "outputs": [],
   "source": [
    "ch2[\"corr\"] = signal.correlate(ch2.a2_01, ch2.a2_02, mode=\"same\")"
   ]
  },
  {
   "cell_type": "code",
   "execution_count": 18,
   "metadata": {},
   "outputs": [],
   "source": [
    "corr = ch2.corr()"
   ]
  },
  {
   "cell_type": "code",
   "execution_count": 24,
   "metadata": {},
   "outputs": [
    {
     "data": {
      "text/html": [
       "<div>\n",
       "<style scoped>\n",
       "    .dataframe tbody tr th:only-of-type {\n",
       "        vertical-align: middle;\n",
       "    }\n",
       "\n",
       "    .dataframe tbody tr th {\n",
       "        vertical-align: top;\n",
       "    }\n",
       "\n",
       "    .dataframe thead th {\n",
       "        text-align: right;\n",
       "    }\n",
       "</style>\n",
       "<table border=\"1\" class=\"dataframe\">\n",
       "  <thead>\n",
       "    <tr style=\"text-align: right;\">\n",
       "      <th></th>\n",
       "      <th>a2_01</th>\n",
       "      <th>a2_02</th>\n",
       "      <th>a2_03</th>\n",
       "      <th>a2_04</th>\n",
       "      <th>a2_05</th>\n",
       "      <th>a2_06</th>\n",
       "      <th>a2_07</th>\n",
       "      <th>a2_08</th>\n",
       "      <th>a2_09</th>\n",
       "      <th>a2_10</th>\n",
       "      <th>...</th>\n",
       "      <th>a2_12</th>\n",
       "      <th>a2_13</th>\n",
       "      <th>a2_14</th>\n",
       "      <th>a2_15</th>\n",
       "      <th>a2_16</th>\n",
       "      <th>a2_17</th>\n",
       "      <th>a2_18</th>\n",
       "      <th>a2_19</th>\n",
       "      <th>a2_20</th>\n",
       "      <th>a2_21</th>\n",
       "    </tr>\n",
       "  </thead>\n",
       "  <tbody>\n",
       "    <tr>\n",
       "      <th>a2_01</th>\n",
       "      <td>1.000000</td>\n",
       "      <td>0.992515</td>\n",
       "      <td>0.978729</td>\n",
       "      <td>0.966920</td>\n",
       "      <td>0.960424</td>\n",
       "      <td>0.951993</td>\n",
       "      <td>0.944336</td>\n",
       "      <td>0.935228</td>\n",
       "      <td>0.923958</td>\n",
       "      <td>0.917885</td>\n",
       "      <td>...</td>\n",
       "      <td>0.900896</td>\n",
       "      <td>0.892064</td>\n",
       "      <td>0.883511</td>\n",
       "      <td>0.878036</td>\n",
       "      <td>0.874686</td>\n",
       "      <td>0.874172</td>\n",
       "      <td>0.868693</td>\n",
       "      <td>0.863350</td>\n",
       "      <td>0.860365</td>\n",
       "      <td>0.859232</td>\n",
       "    </tr>\n",
       "    <tr>\n",
       "      <th>a2_02</th>\n",
       "      <td>0.992515</td>\n",
       "      <td>1.000000</td>\n",
       "      <td>0.989811</td>\n",
       "      <td>0.977587</td>\n",
       "      <td>0.969145</td>\n",
       "      <td>0.959377</td>\n",
       "      <td>0.950508</td>\n",
       "      <td>0.941528</td>\n",
       "      <td>0.930664</td>\n",
       "      <td>0.924360</td>\n",
       "      <td>...</td>\n",
       "      <td>0.906094</td>\n",
       "      <td>0.896422</td>\n",
       "      <td>0.888033</td>\n",
       "      <td>0.882088</td>\n",
       "      <td>0.878015</td>\n",
       "      <td>0.877190</td>\n",
       "      <td>0.871293</td>\n",
       "      <td>0.865978</td>\n",
       "      <td>0.862806</td>\n",
       "      <td>0.861728</td>\n",
       "    </tr>\n",
       "    <tr>\n",
       "      <th>a2_03</th>\n",
       "      <td>0.978729</td>\n",
       "      <td>0.989811</td>\n",
       "      <td>1.000000</td>\n",
       "      <td>0.991686</td>\n",
       "      <td>0.980417</td>\n",
       "      <td>0.968618</td>\n",
       "      <td>0.958566</td>\n",
       "      <td>0.949613</td>\n",
       "      <td>0.938979</td>\n",
       "      <td>0.931369</td>\n",
       "      <td>...</td>\n",
       "      <td>0.911802</td>\n",
       "      <td>0.901261</td>\n",
       "      <td>0.892094</td>\n",
       "      <td>0.885924</td>\n",
       "      <td>0.881685</td>\n",
       "      <td>0.880661</td>\n",
       "      <td>0.874823</td>\n",
       "      <td>0.870094</td>\n",
       "      <td>0.866561</td>\n",
       "      <td>0.865006</td>\n",
       "    </tr>\n",
       "    <tr>\n",
       "      <th>a2_04</th>\n",
       "      <td>0.966920</td>\n",
       "      <td>0.977587</td>\n",
       "      <td>0.991686</td>\n",
       "      <td>1.000000</td>\n",
       "      <td>0.991154</td>\n",
       "      <td>0.978913</td>\n",
       "      <td>0.968314</td>\n",
       "      <td>0.958177</td>\n",
       "      <td>0.947180</td>\n",
       "      <td>0.938264</td>\n",
       "      <td>...</td>\n",
       "      <td>0.917307</td>\n",
       "      <td>0.906480</td>\n",
       "      <td>0.896343</td>\n",
       "      <td>0.889509</td>\n",
       "      <td>0.884366</td>\n",
       "      <td>0.882998</td>\n",
       "      <td>0.877231</td>\n",
       "      <td>0.872627</td>\n",
       "      <td>0.868766</td>\n",
       "      <td>0.866749</td>\n",
       "    </tr>\n",
       "    <tr>\n",
       "      <th>a2_05</th>\n",
       "      <td>0.960424</td>\n",
       "      <td>0.969145</td>\n",
       "      <td>0.980417</td>\n",
       "      <td>0.991154</td>\n",
       "      <td>1.000000</td>\n",
       "      <td>0.991314</td>\n",
       "      <td>0.979607</td>\n",
       "      <td>0.968172</td>\n",
       "      <td>0.956474</td>\n",
       "      <td>0.947175</td>\n",
       "      <td>...</td>\n",
       "      <td>0.926254</td>\n",
       "      <td>0.915369</td>\n",
       "      <td>0.904734</td>\n",
       "      <td>0.897608</td>\n",
       "      <td>0.891676</td>\n",
       "      <td>0.889343</td>\n",
       "      <td>0.883195</td>\n",
       "      <td>0.878097</td>\n",
       "      <td>0.874450</td>\n",
       "      <td>0.872524</td>\n",
       "    </tr>\n",
       "    <tr>\n",
       "      <th>a2_06</th>\n",
       "      <td>0.951993</td>\n",
       "      <td>0.959377</td>\n",
       "      <td>0.968618</td>\n",
       "      <td>0.978913</td>\n",
       "      <td>0.991314</td>\n",
       "      <td>1.000000</td>\n",
       "      <td>0.991849</td>\n",
       "      <td>0.980079</td>\n",
       "      <td>0.967698</td>\n",
       "      <td>0.957349</td>\n",
       "      <td>...</td>\n",
       "      <td>0.934871</td>\n",
       "      <td>0.923254</td>\n",
       "      <td>0.912012</td>\n",
       "      <td>0.904783</td>\n",
       "      <td>0.897717</td>\n",
       "      <td>0.893973</td>\n",
       "      <td>0.887577</td>\n",
       "      <td>0.882145</td>\n",
       "      <td>0.877961</td>\n",
       "      <td>0.875236</td>\n",
       "    </tr>\n",
       "    <tr>\n",
       "      <th>a2_07</th>\n",
       "      <td>0.944336</td>\n",
       "      <td>0.950508</td>\n",
       "      <td>0.958566</td>\n",
       "      <td>0.968314</td>\n",
       "      <td>0.979607</td>\n",
       "      <td>0.991849</td>\n",
       "      <td>1.000000</td>\n",
       "      <td>0.991516</td>\n",
       "      <td>0.978465</td>\n",
       "      <td>0.967671</td>\n",
       "      <td>...</td>\n",
       "      <td>0.943113</td>\n",
       "      <td>0.931277</td>\n",
       "      <td>0.919968</td>\n",
       "      <td>0.912018</td>\n",
       "      <td>0.904561</td>\n",
       "      <td>0.900140</td>\n",
       "      <td>0.893685</td>\n",
       "      <td>0.888232</td>\n",
       "      <td>0.883965</td>\n",
       "      <td>0.881381</td>\n",
       "    </tr>\n",
       "    <tr>\n",
       "      <th>a2_08</th>\n",
       "      <td>0.935228</td>\n",
       "      <td>0.941528</td>\n",
       "      <td>0.949613</td>\n",
       "      <td>0.958177</td>\n",
       "      <td>0.968172</td>\n",
       "      <td>0.980079</td>\n",
       "      <td>0.991516</td>\n",
       "      <td>1.000000</td>\n",
       "      <td>0.991055</td>\n",
       "      <td>0.980003</td>\n",
       "      <td>...</td>\n",
       "      <td>0.953828</td>\n",
       "      <td>0.941711</td>\n",
       "      <td>0.929743</td>\n",
       "      <td>0.921261</td>\n",
       "      <td>0.914300</td>\n",
       "      <td>0.909800</td>\n",
       "      <td>0.902552</td>\n",
       "      <td>0.896816</td>\n",
       "      <td>0.892328</td>\n",
       "      <td>0.889713</td>\n",
       "    </tr>\n",
       "    <tr>\n",
       "      <th>a2_09</th>\n",
       "      <td>0.923958</td>\n",
       "      <td>0.930664</td>\n",
       "      <td>0.938979</td>\n",
       "      <td>0.947180</td>\n",
       "      <td>0.956474</td>\n",
       "      <td>0.967698</td>\n",
       "      <td>0.978465</td>\n",
       "      <td>0.991055</td>\n",
       "      <td>1.000000</td>\n",
       "      <td>0.991623</td>\n",
       "      <td>...</td>\n",
       "      <td>0.964291</td>\n",
       "      <td>0.951672</td>\n",
       "      <td>0.939592</td>\n",
       "      <td>0.931086</td>\n",
       "      <td>0.924744</td>\n",
       "      <td>0.920069</td>\n",
       "      <td>0.912799</td>\n",
       "      <td>0.907086</td>\n",
       "      <td>0.902360</td>\n",
       "      <td>0.899299</td>\n",
       "    </tr>\n",
       "    <tr>\n",
       "      <th>a2_10</th>\n",
       "      <td>0.917885</td>\n",
       "      <td>0.924360</td>\n",
       "      <td>0.931369</td>\n",
       "      <td>0.938264</td>\n",
       "      <td>0.947175</td>\n",
       "      <td>0.957349</td>\n",
       "      <td>0.967671</td>\n",
       "      <td>0.980003</td>\n",
       "      <td>0.991623</td>\n",
       "      <td>1.000000</td>\n",
       "      <td>...</td>\n",
       "      <td>0.976572</td>\n",
       "      <td>0.963903</td>\n",
       "      <td>0.952171</td>\n",
       "      <td>0.943704</td>\n",
       "      <td>0.936834</td>\n",
       "      <td>0.931821</td>\n",
       "      <td>0.924455</td>\n",
       "      <td>0.917534</td>\n",
       "      <td>0.912605</td>\n",
       "      <td>0.909444</td>\n",
       "    </tr>\n",
       "    <tr>\n",
       "      <th>a2_11</th>\n",
       "      <td>0.910652</td>\n",
       "      <td>0.917300</td>\n",
       "      <td>0.923727</td>\n",
       "      <td>0.929630</td>\n",
       "      <td>0.938269</td>\n",
       "      <td>0.947093</td>\n",
       "      <td>0.956474</td>\n",
       "      <td>0.967861</td>\n",
       "      <td>0.978701</td>\n",
       "      <td>0.990983</td>\n",
       "      <td>...</td>\n",
       "      <td>0.990589</td>\n",
       "      <td>0.978728</td>\n",
       "      <td>0.967506</td>\n",
       "      <td>0.958854</td>\n",
       "      <td>0.951322</td>\n",
       "      <td>0.945787</td>\n",
       "      <td>0.938413</td>\n",
       "      <td>0.930987</td>\n",
       "      <td>0.925626</td>\n",
       "      <td>0.922438</td>\n",
       "    </tr>\n",
       "    <tr>\n",
       "      <th>a2_12</th>\n",
       "      <td>0.900896</td>\n",
       "      <td>0.906094</td>\n",
       "      <td>0.911802</td>\n",
       "      <td>0.917307</td>\n",
       "      <td>0.926254</td>\n",
       "      <td>0.934871</td>\n",
       "      <td>0.943113</td>\n",
       "      <td>0.953828</td>\n",
       "      <td>0.964291</td>\n",
       "      <td>0.976572</td>\n",
       "      <td>...</td>\n",
       "      <td>1.000000</td>\n",
       "      <td>0.992199</td>\n",
       "      <td>0.981316</td>\n",
       "      <td>0.972197</td>\n",
       "      <td>0.964632</td>\n",
       "      <td>0.957897</td>\n",
       "      <td>0.949833</td>\n",
       "      <td>0.942268</td>\n",
       "      <td>0.936518</td>\n",
       "      <td>0.932535</td>\n",
       "    </tr>\n",
       "    <tr>\n",
       "      <th>a2_13</th>\n",
       "      <td>0.892064</td>\n",
       "      <td>0.896422</td>\n",
       "      <td>0.901261</td>\n",
       "      <td>0.906480</td>\n",
       "      <td>0.915369</td>\n",
       "      <td>0.923254</td>\n",
       "      <td>0.931277</td>\n",
       "      <td>0.941711</td>\n",
       "      <td>0.951672</td>\n",
       "      <td>0.963903</td>\n",
       "      <td>...</td>\n",
       "      <td>0.992199</td>\n",
       "      <td>1.000000</td>\n",
       "      <td>0.992200</td>\n",
       "      <td>0.982877</td>\n",
       "      <td>0.974843</td>\n",
       "      <td>0.967522</td>\n",
       "      <td>0.959084</td>\n",
       "      <td>0.950863</td>\n",
       "      <td>0.944474</td>\n",
       "      <td>0.939810</td>\n",
       "    </tr>\n",
       "    <tr>\n",
       "      <th>a2_14</th>\n",
       "      <td>0.883511</td>\n",
       "      <td>0.888033</td>\n",
       "      <td>0.892094</td>\n",
       "      <td>0.896343</td>\n",
       "      <td>0.904734</td>\n",
       "      <td>0.912012</td>\n",
       "      <td>0.919968</td>\n",
       "      <td>0.929743</td>\n",
       "      <td>0.939592</td>\n",
       "      <td>0.952171</td>\n",
       "      <td>...</td>\n",
       "      <td>0.981316</td>\n",
       "      <td>0.992200</td>\n",
       "      <td>1.000000</td>\n",
       "      <td>0.992799</td>\n",
       "      <td>0.984266</td>\n",
       "      <td>0.976120</td>\n",
       "      <td>0.967294</td>\n",
       "      <td>0.957928</td>\n",
       "      <td>0.950640</td>\n",
       "      <td>0.945373</td>\n",
       "    </tr>\n",
       "    <tr>\n",
       "      <th>a2_15</th>\n",
       "      <td>0.878036</td>\n",
       "      <td>0.882088</td>\n",
       "      <td>0.885924</td>\n",
       "      <td>0.889509</td>\n",
       "      <td>0.897608</td>\n",
       "      <td>0.904783</td>\n",
       "      <td>0.912018</td>\n",
       "      <td>0.921261</td>\n",
       "      <td>0.931086</td>\n",
       "      <td>0.943704</td>\n",
       "      <td>...</td>\n",
       "      <td>0.972197</td>\n",
       "      <td>0.982877</td>\n",
       "      <td>0.992799</td>\n",
       "      <td>1.000000</td>\n",
       "      <td>0.992908</td>\n",
       "      <td>0.983106</td>\n",
       "      <td>0.973437</td>\n",
       "      <td>0.963145</td>\n",
       "      <td>0.954875</td>\n",
       "      <td>0.949312</td>\n",
       "    </tr>\n",
       "    <tr>\n",
       "      <th>a2_16</th>\n",
       "      <td>0.874686</td>\n",
       "      <td>0.878015</td>\n",
       "      <td>0.881685</td>\n",
       "      <td>0.884366</td>\n",
       "      <td>0.891676</td>\n",
       "      <td>0.897717</td>\n",
       "      <td>0.904561</td>\n",
       "      <td>0.914300</td>\n",
       "      <td>0.924744</td>\n",
       "      <td>0.936834</td>\n",
       "      <td>...</td>\n",
       "      <td>0.964632</td>\n",
       "      <td>0.974843</td>\n",
       "      <td>0.984266</td>\n",
       "      <td>0.992908</td>\n",
       "      <td>1.000000</td>\n",
       "      <td>0.992506</td>\n",
       "      <td>0.982447</td>\n",
       "      <td>0.971816</td>\n",
       "      <td>0.962545</td>\n",
       "      <td>0.955971</td>\n",
       "    </tr>\n",
       "    <tr>\n",
       "      <th>a2_17</th>\n",
       "      <td>0.874172</td>\n",
       "      <td>0.877190</td>\n",
       "      <td>0.880661</td>\n",
       "      <td>0.882998</td>\n",
       "      <td>0.889343</td>\n",
       "      <td>0.893973</td>\n",
       "      <td>0.900140</td>\n",
       "      <td>0.909800</td>\n",
       "      <td>0.920069</td>\n",
       "      <td>0.931821</td>\n",
       "      <td>...</td>\n",
       "      <td>0.957897</td>\n",
       "      <td>0.967522</td>\n",
       "      <td>0.976120</td>\n",
       "      <td>0.983106</td>\n",
       "      <td>0.992506</td>\n",
       "      <td>1.000000</td>\n",
       "      <td>0.993050</td>\n",
       "      <td>0.982508</td>\n",
       "      <td>0.973331</td>\n",
       "      <td>0.965850</td>\n",
       "    </tr>\n",
       "    <tr>\n",
       "      <th>a2_18</th>\n",
       "      <td>0.868693</td>\n",
       "      <td>0.871293</td>\n",
       "      <td>0.874823</td>\n",
       "      <td>0.877231</td>\n",
       "      <td>0.883195</td>\n",
       "      <td>0.887577</td>\n",
       "      <td>0.893685</td>\n",
       "      <td>0.902552</td>\n",
       "      <td>0.912799</td>\n",
       "      <td>0.924455</td>\n",
       "      <td>...</td>\n",
       "      <td>0.949833</td>\n",
       "      <td>0.959084</td>\n",
       "      <td>0.967294</td>\n",
       "      <td>0.973437</td>\n",
       "      <td>0.982447</td>\n",
       "      <td>0.993050</td>\n",
       "      <td>1.000000</td>\n",
       "      <td>0.992759</td>\n",
       "      <td>0.983454</td>\n",
       "      <td>0.974587</td>\n",
       "    </tr>\n",
       "    <tr>\n",
       "      <th>a2_19</th>\n",
       "      <td>0.863350</td>\n",
       "      <td>0.865978</td>\n",
       "      <td>0.870094</td>\n",
       "      <td>0.872627</td>\n",
       "      <td>0.878097</td>\n",
       "      <td>0.882145</td>\n",
       "      <td>0.888232</td>\n",
       "      <td>0.896816</td>\n",
       "      <td>0.907086</td>\n",
       "      <td>0.917534</td>\n",
       "      <td>...</td>\n",
       "      <td>0.942268</td>\n",
       "      <td>0.950863</td>\n",
       "      <td>0.957928</td>\n",
       "      <td>0.963145</td>\n",
       "      <td>0.971816</td>\n",
       "      <td>0.982508</td>\n",
       "      <td>0.992759</td>\n",
       "      <td>1.000000</td>\n",
       "      <td>0.992933</td>\n",
       "      <td>0.982974</td>\n",
       "    </tr>\n",
       "    <tr>\n",
       "      <th>a2_20</th>\n",
       "      <td>0.860365</td>\n",
       "      <td>0.862806</td>\n",
       "      <td>0.866561</td>\n",
       "      <td>0.868766</td>\n",
       "      <td>0.874450</td>\n",
       "      <td>0.877961</td>\n",
       "      <td>0.883965</td>\n",
       "      <td>0.892328</td>\n",
       "      <td>0.902360</td>\n",
       "      <td>0.912605</td>\n",
       "      <td>...</td>\n",
       "      <td>0.936518</td>\n",
       "      <td>0.944474</td>\n",
       "      <td>0.950640</td>\n",
       "      <td>0.954875</td>\n",
       "      <td>0.962545</td>\n",
       "      <td>0.973331</td>\n",
       "      <td>0.983454</td>\n",
       "      <td>0.992933</td>\n",
       "      <td>1.000000</td>\n",
       "      <td>0.992887</td>\n",
       "    </tr>\n",
       "    <tr>\n",
       "      <th>a2_21</th>\n",
       "      <td>0.859232</td>\n",
       "      <td>0.861728</td>\n",
       "      <td>0.865006</td>\n",
       "      <td>0.866749</td>\n",
       "      <td>0.872524</td>\n",
       "      <td>0.875236</td>\n",
       "      <td>0.881381</td>\n",
       "      <td>0.889713</td>\n",
       "      <td>0.899299</td>\n",
       "      <td>0.909444</td>\n",
       "      <td>...</td>\n",
       "      <td>0.932535</td>\n",
       "      <td>0.939810</td>\n",
       "      <td>0.945373</td>\n",
       "      <td>0.949312</td>\n",
       "      <td>0.955971</td>\n",
       "      <td>0.965850</td>\n",
       "      <td>0.974587</td>\n",
       "      <td>0.982974</td>\n",
       "      <td>0.992887</td>\n",
       "      <td>1.000000</td>\n",
       "    </tr>\n",
       "  </tbody>\n",
       "</table>\n",
       "<p>21 rows × 21 columns</p>\n",
       "</div>"
      ],
      "text/plain": [
       "          a2_01     a2_02     a2_03     a2_04     a2_05     a2_06     a2_07  \\\n",
       "a2_01  1.000000  0.992515  0.978729  0.966920  0.960424  0.951993  0.944336   \n",
       "a2_02  0.992515  1.000000  0.989811  0.977587  0.969145  0.959377  0.950508   \n",
       "a2_03  0.978729  0.989811  1.000000  0.991686  0.980417  0.968618  0.958566   \n",
       "a2_04  0.966920  0.977587  0.991686  1.000000  0.991154  0.978913  0.968314   \n",
       "a2_05  0.960424  0.969145  0.980417  0.991154  1.000000  0.991314  0.979607   \n",
       "a2_06  0.951993  0.959377  0.968618  0.978913  0.991314  1.000000  0.991849   \n",
       "a2_07  0.944336  0.950508  0.958566  0.968314  0.979607  0.991849  1.000000   \n",
       "a2_08  0.935228  0.941528  0.949613  0.958177  0.968172  0.980079  0.991516   \n",
       "a2_09  0.923958  0.930664  0.938979  0.947180  0.956474  0.967698  0.978465   \n",
       "a2_10  0.917885  0.924360  0.931369  0.938264  0.947175  0.957349  0.967671   \n",
       "a2_11  0.910652  0.917300  0.923727  0.929630  0.938269  0.947093  0.956474   \n",
       "a2_12  0.900896  0.906094  0.911802  0.917307  0.926254  0.934871  0.943113   \n",
       "a2_13  0.892064  0.896422  0.901261  0.906480  0.915369  0.923254  0.931277   \n",
       "a2_14  0.883511  0.888033  0.892094  0.896343  0.904734  0.912012  0.919968   \n",
       "a2_15  0.878036  0.882088  0.885924  0.889509  0.897608  0.904783  0.912018   \n",
       "a2_16  0.874686  0.878015  0.881685  0.884366  0.891676  0.897717  0.904561   \n",
       "a2_17  0.874172  0.877190  0.880661  0.882998  0.889343  0.893973  0.900140   \n",
       "a2_18  0.868693  0.871293  0.874823  0.877231  0.883195  0.887577  0.893685   \n",
       "a2_19  0.863350  0.865978  0.870094  0.872627  0.878097  0.882145  0.888232   \n",
       "a2_20  0.860365  0.862806  0.866561  0.868766  0.874450  0.877961  0.883965   \n",
       "a2_21  0.859232  0.861728  0.865006  0.866749  0.872524  0.875236  0.881381   \n",
       "\n",
       "          a2_08     a2_09     a2_10  ...     a2_12     a2_13     a2_14  \\\n",
       "a2_01  0.935228  0.923958  0.917885  ...  0.900896  0.892064  0.883511   \n",
       "a2_02  0.941528  0.930664  0.924360  ...  0.906094  0.896422  0.888033   \n",
       "a2_03  0.949613  0.938979  0.931369  ...  0.911802  0.901261  0.892094   \n",
       "a2_04  0.958177  0.947180  0.938264  ...  0.917307  0.906480  0.896343   \n",
       "a2_05  0.968172  0.956474  0.947175  ...  0.926254  0.915369  0.904734   \n",
       "a2_06  0.980079  0.967698  0.957349  ...  0.934871  0.923254  0.912012   \n",
       "a2_07  0.991516  0.978465  0.967671  ...  0.943113  0.931277  0.919968   \n",
       "a2_08  1.000000  0.991055  0.980003  ...  0.953828  0.941711  0.929743   \n",
       "a2_09  0.991055  1.000000  0.991623  ...  0.964291  0.951672  0.939592   \n",
       "a2_10  0.980003  0.991623  1.000000  ...  0.976572  0.963903  0.952171   \n",
       "a2_11  0.967861  0.978701  0.990983  ...  0.990589  0.978728  0.967506   \n",
       "a2_12  0.953828  0.964291  0.976572  ...  1.000000  0.992199  0.981316   \n",
       "a2_13  0.941711  0.951672  0.963903  ...  0.992199  1.000000  0.992200   \n",
       "a2_14  0.929743  0.939592  0.952171  ...  0.981316  0.992200  1.000000   \n",
       "a2_15  0.921261  0.931086  0.943704  ...  0.972197  0.982877  0.992799   \n",
       "a2_16  0.914300  0.924744  0.936834  ...  0.964632  0.974843  0.984266   \n",
       "a2_17  0.909800  0.920069  0.931821  ...  0.957897  0.967522  0.976120   \n",
       "a2_18  0.902552  0.912799  0.924455  ...  0.949833  0.959084  0.967294   \n",
       "a2_19  0.896816  0.907086  0.917534  ...  0.942268  0.950863  0.957928   \n",
       "a2_20  0.892328  0.902360  0.912605  ...  0.936518  0.944474  0.950640   \n",
       "a2_21  0.889713  0.899299  0.909444  ...  0.932535  0.939810  0.945373   \n",
       "\n",
       "          a2_15     a2_16     a2_17     a2_18     a2_19     a2_20     a2_21  \n",
       "a2_01  0.878036  0.874686  0.874172  0.868693  0.863350  0.860365  0.859232  \n",
       "a2_02  0.882088  0.878015  0.877190  0.871293  0.865978  0.862806  0.861728  \n",
       "a2_03  0.885924  0.881685  0.880661  0.874823  0.870094  0.866561  0.865006  \n",
       "a2_04  0.889509  0.884366  0.882998  0.877231  0.872627  0.868766  0.866749  \n",
       "a2_05  0.897608  0.891676  0.889343  0.883195  0.878097  0.874450  0.872524  \n",
       "a2_06  0.904783  0.897717  0.893973  0.887577  0.882145  0.877961  0.875236  \n",
       "a2_07  0.912018  0.904561  0.900140  0.893685  0.888232  0.883965  0.881381  \n",
       "a2_08  0.921261  0.914300  0.909800  0.902552  0.896816  0.892328  0.889713  \n",
       "a2_09  0.931086  0.924744  0.920069  0.912799  0.907086  0.902360  0.899299  \n",
       "a2_10  0.943704  0.936834  0.931821  0.924455  0.917534  0.912605  0.909444  \n",
       "a2_11  0.958854  0.951322  0.945787  0.938413  0.930987  0.925626  0.922438  \n",
       "a2_12  0.972197  0.964632  0.957897  0.949833  0.942268  0.936518  0.932535  \n",
       "a2_13  0.982877  0.974843  0.967522  0.959084  0.950863  0.944474  0.939810  \n",
       "a2_14  0.992799  0.984266  0.976120  0.967294  0.957928  0.950640  0.945373  \n",
       "a2_15  1.000000  0.992908  0.983106  0.973437  0.963145  0.954875  0.949312  \n",
       "a2_16  0.992908  1.000000  0.992506  0.982447  0.971816  0.962545  0.955971  \n",
       "a2_17  0.983106  0.992506  1.000000  0.993050  0.982508  0.973331  0.965850  \n",
       "a2_18  0.973437  0.982447  0.993050  1.000000  0.992759  0.983454  0.974587  \n",
       "a2_19  0.963145  0.971816  0.982508  0.992759  1.000000  0.992933  0.982974  \n",
       "a2_20  0.954875  0.962545  0.973331  0.983454  0.992933  1.000000  0.992887  \n",
       "a2_21  0.949312  0.955971  0.965850  0.974587  0.982974  0.992887  1.000000  \n",
       "\n",
       "[21 rows x 21 columns]"
      ]
     },
     "execution_count": 24,
     "metadata": {},
     "output_type": "execute_result"
    }
   ],
   "source": [
    "corr"
   ]
  },
  {
   "cell_type": "code",
   "execution_count": 25,
   "metadata": {},
   "outputs": [
    {
     "data": {
      "application/vnd.jupyter.widget-view+json": {
       "model_id": "0b9b1dfc4276494d91447a78b46037cb",
       "version_major": 2,
       "version_minor": 0
      },
      "text/plain": [
       "Canvas(toolbar=Toolbar(toolitems=[('Home', 'Reset original view', 'home', 'home'), ('Back', 'Back to previous …"
      ]
     },
     "metadata": {},
     "output_type": "display_data"
    },
    {
     "data": {
      "text/plain": [
       "<matplotlib.colorbar.Colorbar at 0x121b73ed0>"
      ]
     },
     "execution_count": 25,
     "metadata": {},
     "output_type": "execute_result"
    }
   ],
   "source": [
    "plt.figure()\n",
    "plt.imshow(corr.values)\n",
    "plt.colorbar()"
   ]
  },
  {
   "cell_type": "code",
   "execution_count": 19,
   "metadata": {},
   "outputs": [],
   "source": [
    "import seaborn as sns"
   ]
  },
  {
   "cell_type": "code",
   "execution_count": 20,
   "metadata": {},
   "outputs": [
    {
     "data": {
      "application/vnd.jupyter.widget-view+json": {
       "model_id": "e81a1eacfa214fc4b0587dc07d49a9f4",
       "version_major": 2,
       "version_minor": 0
      },
      "text/plain": [
       "Canvas(toolbar=Toolbar(toolitems=[('Home', 'Reset original view', 'home', 'home'), ('Back', 'Back to previous …"
      ]
     },
     "metadata": {},
     "output_type": "display_data"
    },
    {
     "data": {
      "text/plain": [
       "<matplotlib.axes._subplots.AxesSubplot at 0x1216519d0>"
      ]
     },
     "execution_count": 20,
     "metadata": {},
     "output_type": "execute_result"
    }
   ],
   "source": [
    "mask = np.triu(np.ones_like(corr, dtype=np.bool))\n",
    "\n",
    "# Set up the matplotlib figure\n",
    "f, ax = plt.subplots(figsize=(11, 9))\n",
    "\n",
    "# Generate a custom diverging colormap\n",
    "cmap = sns.diverging_palette(220, 10, as_cmap=True)\n",
    "\n",
    "# Draw the heatmap with the mask and correct aspect ratio\n",
    "sns.heatmap(\n",
    "    corr,\n",
    "    mask=mask,\n",
    "    cmap=cmap,\n",
    "    center=0,\n",
    "    square=True,\n",
    "    linewidths=0.5,\n",
    "    cbar_kws={\"shrink\": 0.5},\n",
    ")"
   ]
  },
  {
   "cell_type": "code",
   "execution_count": null,
   "metadata": {},
   "outputs": [],
   "source": []
  },
  {
   "cell_type": "code",
   "execution_count": 20,
   "metadata": {
    "collapsed": false,
    "jupyter": {
     "outputs_hidden": false
    }
   },
   "outputs": [
    {
     "data": {
      "application/vnd.jupyter.widget-view+json": {
       "model_id": "5f304c5421fb4bc4bbe596e26b8f361c",
       "version_major": 2,
       "version_minor": 0
      },
      "text/plain": [
       "Canvas(toolbar=Toolbar(toolitems=[('Home', 'Reset original view', 'home', 'home'), ('Back', 'Back to previous …"
      ]
     },
     "metadata": {},
     "output_type": "display_data"
    },
    {
     "data": {
      "text/plain": [
       "<matplotlib.axes._subplots.AxesSubplot at 0x12408cc10>"
      ]
     },
     "execution_count": 20,
     "metadata": {},
     "output_type": "execute_result"
    }
   ],
   "source": [
    "ch1and2[t1:t2][\"a1_11 a2_11 averaged\".split()].plot()"
   ]
  },
  {
   "cell_type": "code",
   "execution_count": 21,
   "metadata": {},
   "outputs": [],
   "source": [
    "ch1and2[\"rolling_mean\"] = ch1and2.averaged.rolling(window=75, center=True).mean()"
   ]
  },
  {
   "cell_type": "code",
   "execution_count": 22,
   "metadata": {},
   "outputs": [],
   "source": [
    "ch1and2[\"noise\"] = ch1and2[\"averaged\"] - ch1and2[\"rolling_mean\"]"
   ]
  },
  {
   "cell_type": "code",
   "execution_count": 24,
   "metadata": {},
   "outputs": [
    {
     "data": {
      "application/vnd.jupyter.widget-view+json": {
       "model_id": "488be3f610624a54a06a8e2248f43a2c",
       "version_major": 2,
       "version_minor": 0
      },
      "text/plain": [
       "Canvas(toolbar=Toolbar(toolitems=[('Home', 'Reset original view', 'home', 'home'), ('Back', 'Back to previous …"
      ]
     },
     "metadata": {},
     "output_type": "display_data"
    },
    {
     "data": {
      "text/plain": [
       "Text(0.5, 0.98, 'NOISE = AVERAGE - ROLLING_MEAN (BOXCAR)')"
      ]
     },
     "execution_count": 24,
     "metadata": {},
     "output_type": "execute_result"
    }
   ],
   "source": [
    "fig, ax = plt.subplots(nrows=2, sharex=True)\n",
    "ch1and2[t1:t2][[\"averaged\", \"rolling_mean\"]].plot(ax=ax[0])\n",
    "ch1and2[t1:t2][[\"noise\"]].plot(alpha=1.0, ax=ax[1])\n",
    "fig.suptitle(\"NOISE = AVERAGE - ROLLING_MEAN (BOXCAR)\")"
   ]
  },
  {
   "cell_type": "code",
   "execution_count": 30,
   "metadata": {},
   "outputs": [
    {
     "data": {
      "text/plain": [
       "0.5076190476138436"
      ]
     },
     "execution_count": 30,
     "metadata": {},
     "output_type": "execute_result"
    }
   ],
   "source": [
    "ch1and2[t1:t2].noise.abs().median()"
   ]
  },
  {
   "cell_type": "code",
   "execution_count": 33,
   "metadata": {},
   "outputs": [],
   "source": [
    "length = ch1and2.shape[0]"
   ]
  },
  {
   "cell_type": "code",
   "execution_count": 36,
   "metadata": {},
   "outputs": [
    {
     "data": {
      "text/plain": [
       "28128"
      ]
     },
     "execution_count": 36,
     "metadata": {},
     "output_type": "execute_result"
    }
   ],
   "source": [
    "length"
   ]
  },
  {
   "cell_type": "code",
   "execution_count": 37,
   "metadata": {},
   "outputs": [
    {
     "data": {
      "text/plain": [
       "(28128, 21)"
      ]
     },
     "execution_count": 37,
     "metadata": {},
     "output_type": "execute_result"
    }
   ],
   "source": [
    "ch1.shape"
   ]
  },
  {
   "cell_type": "code",
   "execution_count": 39,
   "metadata": {},
   "outputs": [
    {
     "data": {
      "text/plain": [
       "(28128, 22)"
      ]
     },
     "execution_count": 39,
     "metadata": {},
     "output_type": "execute_result"
    }
   ],
   "source": [
    "ch2.shape"
   ]
  },
  {
   "cell_type": "code",
   "execution_count": 38,
   "metadata": {},
   "outputs": [
    {
     "data": {
      "text/plain": [
       "(28128, 21, 81)"
      ]
     },
     "execution_count": 38,
     "metadata": {},
     "output_type": "execute_result"
    }
   ],
   "source": [
    "c1.shape"
   ]
  },
  {
   "cell_type": "code",
   "execution_count": 34,
   "metadata": {
    "collapsed": false,
    "jupyter": {
     "outputs_hidden": false
    }
   },
   "outputs": [],
   "source": [
    "c1 = np.zeros((length, 21, 81))\n",
    "c2 = np.zeros((length, 21, 81))"
   ]
  },
  {
   "cell_type": "code",
   "execution_count": 40,
   "metadata": {
    "collapsed": false,
    "jupyter": {
     "outputs_hidden": false
    }
   },
   "outputs": [],
   "source": [
    "for i in range(0, 81):\n",
    "    c1[40 : length - 40, :, i] = ch1.iloc[i : length - 80 + i]\n",
    "    c2[40 : length - 40, :, i] = ch2.iloc[i : length - 80 + i, :-1]"
   ]
  },
  {
   "cell_type": "code",
   "execution_count": 41,
   "metadata": {},
   "outputs": [],
   "source": [
    "from numpy import ma, transpose, dstack"
   ]
  },
  {
   "cell_type": "code",
   "execution_count": 42,
   "metadata": {
    "collapsed": false,
    "jupyter": {
     "outputs_hidden": false
    }
   },
   "outputs": [],
   "source": [
    "max_diff1 = ma.max(ma.max(c1, axis=2) - ma.min(c1, axis=2), axis=1)\n",
    "max_diff2 = ma.max(ma.max(c2, axis=2) - ma.min(c2, axis=2), axis=1)\n",
    "max_diff = ma.max(transpose(dstack((max_diff1, max_diff2)), (1, 0, 2)), axis=2)"
   ]
  },
  {
   "cell_type": "code",
   "execution_count": 43,
   "metadata": {
    "collapsed": false,
    "jupyter": {
     "outputs_hidden": false
    }
   },
   "outputs": [],
   "source": [
    "mydiff1 = ma.max(c1.max(axis=2) - c1.min(axis=2), axis=1)\n",
    "mydiff2 = ma.max(c2.max(axis=2) - c2.min(axis=2), axis=1)\n",
    "mydiff = ma.max(transpose(dstack((mydiff1, mydiff2)), (1, 0, 2)), axis=2)"
   ]
  },
  {
   "cell_type": "code",
   "execution_count": 44,
   "metadata": {},
   "outputs": [
    {
     "data": {
      "text/plain": [
       "(28128,)"
      ]
     },
     "execution_count": 44,
     "metadata": {},
     "output_type": "execute_result"
    }
   ],
   "source": [
    "ch1and2.noise.shape"
   ]
  },
  {
   "cell_type": "code",
   "execution_count": 45,
   "metadata": {},
   "outputs": [
    {
     "data": {
      "text/plain": [
       "(28128, 1)"
      ]
     },
     "execution_count": 45,
     "metadata": {},
     "output_type": "execute_result"
    }
   ],
   "source": [
    "max_diff.shape"
   ]
  },
  {
   "cell_type": "code",
   "execution_count": 46,
   "metadata": {
    "collapsed": false,
    "jupyter": {
     "outputs_hidden": false
    }
   },
   "outputs": [],
   "source": [
    "noise = ch1and2.noise.where(max_diff.flatten() <= 50, 0)"
   ]
  },
  {
   "cell_type": "code",
   "execution_count": 47,
   "metadata": {
    "collapsed": false,
    "jupyter": {
     "outputs_hidden": false
    }
   },
   "outputs": [],
   "source": [
    "noise[:40] = 0"
   ]
  },
  {
   "cell_type": "code",
   "execution_count": 48,
   "metadata": {
    "collapsed": false,
    "jupyter": {
     "outputs_hidden": false
    }
   },
   "outputs": [],
   "source": [
    "noise[length - 40 : length] = 0"
   ]
  },
  {
   "cell_type": "code",
   "execution_count": 49,
   "metadata": {},
   "outputs": [
    {
     "data": {
      "application/vnd.jupyter.widget-view+json": {
       "model_id": "ec59adf932014c4d814c7b5563d13838",
       "version_major": 2,
       "version_minor": 0
      },
      "text/plain": [
       "Canvas(toolbar=Toolbar(toolitems=[('Home', 'Reset original view', 'home', 'home'), ('Back', 'Back to previous …"
      ]
     },
     "metadata": {},
     "output_type": "display_data"
    },
    {
     "data": {
      "text/plain": [
       "Text(0.5, 1.0, 'Correction factors')"
      ]
     },
     "execution_count": 49,
     "metadata": {},
     "output_type": "execute_result"
    }
   ],
   "source": [
    "pd.DataFrame(factors, columns=range(1, 10)).plot()\n",
    "plt.title(\"Correction factors\")"
   ]
  },
  {
   "cell_type": "code",
   "execution_count": 50,
   "metadata": {},
   "outputs": [],
   "source": [
    "i = 3"
   ]
  },
  {
   "cell_type": "code",
   "execution_count": 51,
   "metadata": {
    "collapsed": false,
    "jupyter": {
     "outputs_hidden": false
    }
   },
   "outputs": [],
   "source": [
    "row = factors[:, 5]"
   ]
  },
  {
   "cell_type": "code",
   "execution_count": 52,
   "metadata": {},
   "outputs": [
    {
     "data": {
      "text/plain": [
       "(21,)"
      ]
     },
     "execution_count": 52,
     "metadata": {},
     "output_type": "execute_result"
    }
   ],
   "source": [
    "row.shape"
   ]
  },
  {
   "cell_type": "code",
   "execution_count": 53,
   "metadata": {},
   "outputs": [
    {
     "data": {
      "text/plain": [
       "array([1.16166665, 1.11666665, 1.11166666, 1.15499997, 1.22666661,\n",
       "       1.18333332, 1.20499996, 1.1833333 , 1.22999998, 1.23166662,\n",
       "       1.08999997, 1.08499997, 1.17666666, 1.15666668, 1.17333333,\n",
       "       1.14666667, 1.10666664, 1.13499999, 1.08666664, 1.08333329,\n",
       "       1.06333329])"
      ]
     },
     "execution_count": 53,
     "metadata": {},
     "output_type": "execute_result"
    }
   ],
   "source": [
    "row"
   ]
  },
  {
   "cell_type": "code",
   "execution_count": 54,
   "metadata": {},
   "outputs": [
    {
     "data": {
      "text/plain": [
       "(28128,)"
      ]
     },
     "execution_count": 54,
     "metadata": {},
     "output_type": "execute_result"
    }
   ],
   "source": [
    "noise.shape"
   ]
  },
  {
   "cell_type": "code",
   "execution_count": 55,
   "metadata": {},
   "outputs": [],
   "source": [
    "ch1and2[\"masked_noise\"] = noise"
   ]
  },
  {
   "cell_type": "code",
   "execution_count": 56,
   "metadata": {},
   "outputs": [
    {
     "data": {
      "application/vnd.jupyter.widget-view+json": {
       "model_id": "d2940cb1725a4ad99f4f5ad195e8f4b8",
       "version_major": 2,
       "version_minor": 0
      },
      "text/plain": [
       "Canvas(toolbar=Toolbar(toolitems=[('Home', 'Reset original view', 'home', 'home'), ('Back', 'Back to previous …"
      ]
     },
     "metadata": {},
     "output_type": "display_data"
    },
    {
     "data": {
      "text/plain": [
       "<matplotlib.axes._subplots.AxesSubplot at 0x12b467dd0>"
      ]
     },
     "execution_count": 56,
     "metadata": {},
     "output_type": "execute_result"
    }
   ],
   "source": [
    "fig, ax = plt.subplots(nrows=2)\n",
    "ch1and2[[\"noise\"]].plot(ax=ax[0], alpha=1)\n",
    "ch1and2[[\"masked_noise\"]].plot(ax=ax[1], alpha=1, color=\"green\")"
   ]
  },
  {
   "cell_type": "code",
   "execution_count": 57,
   "metadata": {},
   "outputs": [],
   "source": [
    "ch1and2[\"corrected_masked_noise\"] = ch1and2.masked_noise"
   ]
  },
  {
   "cell_type": "code",
   "execution_count": 58,
   "metadata": {},
   "outputs": [],
   "source": [
    "is_not_science = data.sdtype != 0"
   ]
  },
  {
   "cell_type": "code",
   "execution_count": 59,
   "metadata": {},
   "outputs": [],
   "source": [
    "ch1and2.loc[is_not_science, \"corrected_masked_noise\"] = 0"
   ]
  },
  {
   "cell_type": "code",
   "execution_count": 60,
   "metadata": {},
   "outputs": [
    {
     "data": {
      "application/vnd.jupyter.widget-view+json": {
       "model_id": "df35cb251bcc49aa9849c9d60ff53c68",
       "version_major": 2,
       "version_minor": 0
      },
      "text/plain": [
       "Canvas(toolbar=Toolbar(toolitems=[('Home', 'Reset original view', 'home', 'home'), ('Back', 'Back to previous …"
      ]
     },
     "metadata": {},
     "output_type": "display_data"
    },
    {
     "data": {
      "text/plain": [
       "Text(0.5, 1.0, 'Corrected masked noise')"
      ]
     },
     "execution_count": 60,
     "metadata": {},
     "output_type": "execute_result"
    }
   ],
   "source": [
    "fig, ax = plt.subplots()\n",
    "ch1and2[[\"masked_noise\"]].plot(ax=ax, alpha=0.5)\n",
    "ch1and2[[\"corrected_masked_noise\"]].plot(ax=ax, alpha=0.5)\n",
    "plt.title(\"Corrected masked noise\")\n",
    "# ch1and2[[\"noise\"]].plot(secondary_y=True, ax=ax, alpha=0.5)"
   ]
  },
  {
   "cell_type": "code",
   "execution_count": 44,
   "metadata": {
    "collapsed": false,
    "jupyter": {
     "outputs_hidden": false
    }
   },
   "outputs": [],
   "source": [
    "term = noise.values[:, np.newaxis] * row"
   ]
  },
  {
   "cell_type": "code",
   "execution_count": 45,
   "metadata": {},
   "outputs": [
    {
     "data": {
      "text/plain": [
       "(28128, 21)"
      ]
     },
     "execution_count": 45,
     "metadata": {},
     "output_type": "execute_result"
    }
   ],
   "source": [
    "term.shape"
   ]
  },
  {
   "cell_type": "code",
   "execution_count": 46,
   "metadata": {},
   "outputs": [
    {
     "data": {
      "text/plain": [
       "[<matplotlib.lines.Line2D at 0x7fb6c05e3828>]"
      ]
     },
     "execution_count": 46,
     "metadata": {},
     "output_type": "execute_result"
    },
    {
     "data": {
      "image/png": "[encoded data removed]",
      "text/plain": [
       "<Figure size 432x288 with 1 Axes>"
      ]
     },
     "metadata": {
      "needs_background": "light"
     },
     "output_type": "display_data"
    }
   ],
   "source": [
    "plt.figure()\n",
    "plt.plot(term[:, 3])"
   ]
  },
  {
   "cell_type": "code",
   "execution_count": 47,
   "metadata": {},
   "outputs": [],
   "source": [
    "ch = data.filter(regex=\"a6_\").copy()"
   ]
  },
  {
   "cell_type": "code",
   "execution_count": 48,
   "metadata": {},
   "outputs": [],
   "source": [
    "ch_corr = ch - term"
   ]
  },
  {
   "cell_type": "code",
   "execution_count": 49,
   "metadata": {},
   "outputs": [
    {
     "data": {
      "text/plain": [
       "<matplotlib.legend.Legend at 0x7fb6c054f470>"
      ]
     },
     "execution_count": 49,
     "metadata": {},
     "output_type": "execute_result"
    },
    {
     "data": {
      "image/png": "[encoded data removed]",
      "text/plain": [
       "<Figure size 432x288 with 1 Axes>"
      ]
     },
     "metadata": {
      "needs_background": "light"
     },
     "output_type": "display_data"
    }
   ],
   "source": [
    "_, ax = plt.subplots()\n",
    "ch[t1:t2].a6_01.plot(ax=ax, label=\"orig\")\n",
    "ch_corr[t1:t2].a6_01.plot(ax=ax, label=\"corr\")\n",
    "plt.title(\"CH 6, det 1\")\n",
    "plt.legend()"
   ]
  },
  {
   "cell_type": "code",
   "execution_count": 50,
   "metadata": {},
   "outputs": [
    {
     "data": {
      "text/plain": [
       "<matplotlib.legend.Legend at 0x7fb6c04e3d68>"
      ]
     },
     "execution_count": 50,
     "metadata": {},
     "output_type": "execute_result"
    },
    {
     "data": {
      "image/png": "[encoded data removed]",
      "text/plain": [
       "<Figure size 432x288 with 1 Axes>"
      ]
     },
     "metadata": {
      "needs_background": "light"
     },
     "output_type": "display_data"
    }
   ],
   "source": [
    "_, ax = plt.subplots()\n",
    "ch.a6_01.plot(ax=ax, label=\"orig\")\n",
    "ch_corr.a6_01.plot(ax=ax, label=\"corr\")\n",
    "plt.title(\"CH 6, det 1\")\n",
    "plt.legend()"
   ]
  },
  {
   "cell_type": "code",
   "execution_count": 54,
   "metadata": {},
   "outputs": [
    {
     "data": {
      "text/plain": [
       "Text(0.5, 1.0, '(orig - corr) / orig')"
      ]
     },
     "execution_count": 54,
     "metadata": {},
     "output_type": "execute_result"
    },
    {
     "data": {
      "image/png": "[encoded data removed]",
      "text/plain": [
       "<Figure size 720x576 with 1 Axes>"
      ]
     },
     "metadata": {
      "needs_background": "light"
     },
     "output_type": "display_data"
    }
   ],
   "source": [
    "_, ax = plt.subplots(figsize=(10,8))\n",
    "((ch.a6_01 - ch_corr.a6_01)/ ch.a6_01).plot(ax=ax)\n",
    "plt.title(\"(orig - corr) / orig\")"
   ]
  },
  {
   "cell_type": "code",
   "execution_count": 93,
   "metadata": {},
   "outputs": [
    {
     "data": {
      "text/plain": [
       "(28128, 21)"
      ]
     },
     "execution_count": 93,
     "metadata": {},
     "output_type": "execute_result"
    }
   ],
   "source": [
    "term.shape"
   ]
  },
  {
   "cell_type": "code",
   "execution_count": 219,
   "metadata": {},
   "outputs": [],
   "source": [
    "data.ix[:, 'a3_01':'a3_21'] -= term"
   ]
  },
  {
   "cell_type": "code",
   "execution_count": 70,
   "metadata": {},
   "outputs": [
    {
     "data": {
      "text/plain": [
       "(21, 9)"
      ]
     },
     "execution_count": 70,
     "metadata": {},
     "output_type": "execute_result"
    }
   ],
   "source": [
    "factors.shape"
   ]
  },
  {
   "cell_type": "code",
   "execution_count": null,
   "metadata": {},
   "outputs": [],
   "source": [
    "for i in range(2, 9):\n",
    "        if i < 6:\n",
    "            # a3..a6\n",
    "            ch = \"a\" + str(i + 1)\n",
    "        else:\n",
    "            # b1..b3\n",
    "            ch = \"b\" + str(i - 6 + 1)\n",
    "        row = factors[:, i]\n",
    "        term = noise.values[:, np.newaxis] * row\n",
    "        data.ix[:, ch + \"_01\" : ch + \"_21\"] -= term"
   ]
  }
 ],
 "metadata": {
  "kernelspec": {
   "display_name": "Python [conda env:py37] *",
   "language": "python",
   "name": "conda-env-py37-py"
  },
  "language_info": {
   "codemirror_mode": {
    "name": "ipython",
    "version": 3
   },
   "file_extension": ".py",
   "mimetype": "text/x-python",
   "name": "python",
   "nbconvert_exporter": "python",
   "pygments_lexer": "ipython3",
   "version": "3.7.6"
  },
  "widgets": {
   "application/vnd.jupyter.widget-state+json": {
    "state": {
     "0b9b1dfc4276494d91447a78b46037cb": {
      "model_module": "jupyter-matplotlib",
      "model_module_version": "^0.5.0",
      "model_name": "MPLCanvasModel",
      "state": {
       "layout": "IPY_MODEL_f6f9ea2dae8d4312b7e81d0db7e99424",
       "toolbar": "IPY_MODEL_7b807006f8bc4b95a20c1676b69cc94b",
       "toolbar_position": "left"
      }
     },
     "19ef566b51a7429c98dec34b85be2a0b": {
      "model_module": "@jupyter-widgets/base",
      "model_module_version": "1.2.0",
      "model_name": "LayoutModel",
      "state": {}
     },
     "24d6eb8b934d4c44b6c53c62dd835d08": {
      "model_module": "jupyter-matplotlib",
      "model_module_version": "^0.5.0",
      "model_name": "ToolbarModel",
      "state": {
       "layout": "IPY_MODEL_f9722fd92a764f85bd70dfccdd5cbbbf",
       "toolitems": [
        [
         "Home",
         "Reset original view",
         "home",
         "home"
        ],
        [
         "Back",
         "Back to previous view",
         "arrow-left",
         "back"
        ],
        [
         "Forward",
         "Forward to next view",
         "arrow-right",
         "forward"
        ],
        [
         "Pan",
         "Pan axes with left mouse, zoom with right",
         "arrows",
         "pan"
        ],
        [
         "Zoom",
         "Zoom to rectangle",
         "square-o",
         "zoom"
        ],
        [
         "Download",
         "Download plot",
         "floppy-o",
         "save_figure"
        ]
       ]
      }
     },
     "361852f344f84698890c2a8275166e01": {
      "model_module": "@jupyter-widgets/base",
      "model_module_version": "1.2.0",
      "model_name": "LayoutModel",
      "state": {}
     },
     "6b1086dfa5bc498f9097d17329e2887f": {
      "model_module": "jupyter-matplotlib",
      "model_module_version": "^0.5.0",
      "model_name": "ToolbarModel",
      "state": {
       "layout": "IPY_MODEL_19ef566b51a7429c98dec34b85be2a0b",
       "toolitems": [
        [
         "Home",
         "Reset original view",
         "home",
         "home"
        ],
        [
         "Back",
         "Back to previous view",
         "arrow-left",
         "back"
        ],
        [
         "Forward",
         "Forward to next view",
         "arrow-right",
         "forward"
        ],
        [
         "Pan",
         "Pan axes with left mouse, zoom with right",
         "arrows",
         "pan"
        ],
        [
         "Zoom",
         "Zoom to rectangle",
         "square-o",
         "zoom"
        ],
        [
         "Download",
         "Download plot",
         "floppy-o",
         "save_figure"
        ]
       ]
      }
     },
     "7b807006f8bc4b95a20c1676b69cc94b": {
      "model_module": "jupyter-matplotlib",
      "model_module_version": "^0.5.0",
      "model_name": "ToolbarModel",
      "state": {
       "layout": "IPY_MODEL_361852f344f84698890c2a8275166e01",
       "toolitems": [
        [
         "Home",
         "Reset original view",
         "home",
         "home"
        ],
        [
         "Back",
         "Back to previous view",
         "arrow-left",
         "back"
        ],
        [
         "Forward",
         "Forward to next view",
         "arrow-right",
         "forward"
        ],
        [
         "Pan",
         "Pan axes with left mouse, zoom with right",
         "arrows",
         "pan"
        ],
        [
         "Zoom",
         "Zoom to rectangle",
         "square-o",
         "zoom"
        ],
        [
         "Download",
         "Download plot",
         "floppy-o",
         "save_figure"
        ]
       ]
      }
     },
     "7c73f3c21734410892483c8ee36c35b8": {
      "model_module": "@jupyter-widgets/base",
      "model_module_version": "1.2.0",
      "model_name": "LayoutModel",
      "state": {}
     },
     "81e6e2e44ad545a7ba5ca83ad07405c8": {
      "model_module": "@jupyter-widgets/base",
      "model_module_version": "1.2.0",
      "model_name": "LayoutModel",
      "state": {}
     },
     "97f55c562bb942dfa8a0c7cff9fc3106": {
      "model_module": "@jupyter-widgets/base",
      "model_module_version": "1.2.0",
      "model_name": "LayoutModel",
      "state": {}
     },
     "b174ee7e798c46938a00cdfc0338fe60": {
      "model_module": "jupyter-matplotlib",
      "model_module_version": "^0.5.0",
      "model_name": "MPLCanvasModel",
      "state": {
       "layout": "IPY_MODEL_97f55c562bb942dfa8a0c7cff9fc3106",
       "toolbar": "IPY_MODEL_b8304f27ce4242faa47b6292c10d744d",
       "toolbar_position": "left"
      }
     },
     "b8304f27ce4242faa47b6292c10d744d": {
      "model_module": "jupyter-matplotlib",
      "model_module_version": "^0.5.0",
      "model_name": "ToolbarModel",
      "state": {
       "layout": "IPY_MODEL_81e6e2e44ad545a7ba5ca83ad07405c8",
       "toolitems": [
        [
         "Home",
         "Reset original view",
         "home",
         "home"
        ],
        [
         "Back",
         "Back to previous view",
         "arrow-left",
         "back"
        ],
        [
         "Forward",
         "Forward to next view",
         "arrow-right",
         "forward"
        ],
        [
         "Pan",
         "Pan axes with left mouse, zoom with right",
         "arrows",
         "pan"
        ],
        [
         "Zoom",
         "Zoom to rectangle",
         "square-o",
         "zoom"
        ],
        [
         "Download",
         "Download plot",
         "floppy-o",
         "save_figure"
        ]
       ]
      }
     },
     "c331907440c0468f990d2542573c14a5": {
      "model_module": "jupyter-matplotlib",
      "model_module_version": "^0.5.0",
      "model_name": "MPLCanvasModel",
      "state": {
       "layout": "IPY_MODEL_f786e3f178b34a99a71553535462ca51",
       "toolbar": "IPY_MODEL_e2bedcd4c72344578221d00cc930d047",
       "toolbar_position": "left"
      }
     },
     "c63dcf06797b4afb9d9685c220b1bcb5": {
      "model_module": "@jupyter-widgets/base",
      "model_module_version": "1.2.0",
      "model_name": "LayoutModel",
      "state": {}
     },
     "e2bedcd4c72344578221d00cc930d047": {
      "model_module": "jupyter-matplotlib",
      "model_module_version": "^0.5.0",
      "model_name": "ToolbarModel",
      "state": {
       "layout": "IPY_MODEL_ecc8dc8010f94d5891cb42ccfcda6db6",
       "toolitems": [
        [
         "Home",
         "Reset original view",
         "home",
         "home"
        ],
        [
         "Back",
         "Back to previous view",
         "arrow-left",
         "back"
        ],
        [
         "Forward",
         "Forward to next view",
         "arrow-right",
         "forward"
        ],
        [
         "Pan",
         "Pan axes with left mouse, zoom with right",
         "arrows",
         "pan"
        ],
        [
         "Zoom",
         "Zoom to rectangle",
         "square-o",
         "zoom"
        ],
        [
         "Download",
         "Download plot",
         "floppy-o",
         "save_figure"
        ]
       ]
      }
     },
     "e81a1eacfa214fc4b0587dc07d49a9f4": {
      "model_module": "jupyter-matplotlib",
      "model_module_version": "^0.5.0",
      "model_name": "MPLCanvasModel",
      "state": {
       "layout": "IPY_MODEL_c63dcf06797b4afb9d9685c220b1bcb5",
       "toolbar": "IPY_MODEL_24d6eb8b934d4c44b6c53c62dd835d08",
       "toolbar_position": "left"
      }
     },
     "ecc8dc8010f94d5891cb42ccfcda6db6": {
      "model_module": "@jupyter-widgets/base",
      "model_module_version": "1.2.0",
      "model_name": "LayoutModel",
      "state": {}
     },
     "f323402354d9477586569daf03198c4d": {
      "model_module": "jupyter-matplotlib",
      "model_module_version": "^0.5.0",
      "model_name": "MPLCanvasModel",
      "state": {
       "layout": "IPY_MODEL_7c73f3c21734410892483c8ee36c35b8",
       "toolbar": "IPY_MODEL_6b1086dfa5bc498f9097d17329e2887f",
       "toolbar_position": "left"
      }
     },
     "f6f9ea2dae8d4312b7e81d0db7e99424": {
      "model_module": "@jupyter-widgets/base",
      "model_module_version": "1.2.0",
      "model_name": "LayoutModel",
      "state": {}
     },
     "f786e3f178b34a99a71553535462ca51": {
      "model_module": "@jupyter-widgets/base",
      "model_module_version": "1.2.0",
      "model_name": "LayoutModel",
      "state": {}
     },
     "f9722fd92a764f85bd70dfccdd5cbbbf": {
      "model_module": "@jupyter-widgets/base",
      "model_module_version": "1.2.0",
      "model_name": "LayoutModel",
      "state": {}
     }
    },
    "version_major": 2,
    "version_minor": 0
   }
  }
 },
 "nbformat": 4,
 "nbformat_minor": 4
}
