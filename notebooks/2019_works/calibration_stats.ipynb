{
 "cells": [
  {
   "cell_type": "code",
   "execution_count": 2,
   "metadata": {},
   "outputs": [
    {
     "name": "stdout",
     "output_type": "stream",
     "text": [
      "The lab_black extension is already loaded. To reload it, use:\n",
      "  %reload_ext lab_black\n"
     ]
    }
   ],
   "source": [
    "%load_ext lab_black"
   ]
  },
  {
   "cell_type": "code",
   "execution_count": 3,
   "metadata": {},
   "outputs": [],
   "source": [
    "from diviner import file_utils as fu, calib"
   ]
  },
  {
   "cell_type": "code",
   "execution_count": 3,
   "metadata": {},
   "outputs": [],
   "source": [
    "rdrs_list = sorted(fu.available_rdrs_files())"
   ]
  },
  {
   "cell_type": "code",
   "execution_count": 5,
   "metadata": {},
   "outputs": [
    {
     "data": {
      "text/plain": [
       "['/luna5/marks/rdrs_data/2018120514.rdrs',\n",
       " '/luna5/marks/rdrs_data/2018120515.rdrs',\n",
       " '/luna5/marks/rdrs_data/2018120516.rdrs',\n",
       " '/luna5/marks/rdrs_data/2018120517.rdrs',\n",
       " '/luna5/marks/rdrs_data/2018120518.rdrs',\n",
       " '/luna5/marks/rdrs_data/2018120519.rdrs',\n",
       " '/luna5/marks/rdrs_data/2018120520.rdrs',\n",
       " '/luna5/marks/rdrs_data/2018120521.rdrs',\n",
       " '/luna5/marks/rdrs_data/2018120522.rdrs',\n",
       " '/luna5/marks/rdrs_data/2018120523.rdrs']"
      ]
     },
     "execution_count": 5,
     "metadata": {},
     "output_type": "execute_result"
    }
   ],
   "source": [
    "rdrs_list[-10:]"
   ]
  },
  {
   "cell_type": "code",
   "execution_count": 6,
   "metadata": {},
   "outputs": [],
   "source": [
    "l1a_list = sorted(fu.available_l1a_files())"
   ]
  },
  {
   "cell_type": "code",
   "execution_count": 7,
   "metadata": {},
   "outputs": [
    {
     "data": {
      "text/plain": [
       "63931"
      ]
     },
     "execution_count": 7,
     "metadata": {},
     "output_type": "execute_result"
    }
   ],
   "source": [
    "len(l1a_list)"
   ]
  },
  {
   "cell_type": "code",
   "execution_count": 8,
   "metadata": {},
   "outputs": [
    {
     "data": {
      "text/plain": [
       "['/luna5/marks/feidata/DIV:opsL1A/data/2016110920_L1A.TAB',\n",
       " '/luna5/marks/feidata/DIV:opsL1A/data/2016110921_L1A.TAB',\n",
       " '/luna5/marks/feidata/DIV:opsL1A/data/2016110922_L1A.TAB',\n",
       " '/luna5/marks/feidata/DIV:opsL1A/data/2016110923_L1A.TAB',\n",
       " '/luna5/marks/feidata/DIV:opsL1A/data/2016111000_L1A.TAB',\n",
       " '/luna5/marks/feidata/DIV:opsL1A/data/2016111001_L1A.TAB',\n",
       " '/luna5/marks/feidata/DIV:opsL1A/data/2016111002_L1A.TAB',\n",
       " '/luna5/marks/feidata/DIV:opsL1A/data/2016111003_L1A.TAB',\n",
       " '/luna5/marks/feidata/DIV:opsL1A/data/2016111004_L1A.TAB',\n",
       " '/luna5/marks/feidata/DIV:opsL1A/data/2016111005_L1A.TAB']"
      ]
     },
     "execution_count": 8,
     "metadata": {},
     "output_type": "execute_result"
    }
   ],
   "source": [
    "l1a_list[-10:]"
   ]
  },
  {
   "cell_type": "code",
   "execution_count": 12,
   "metadata": {},
   "outputs": [],
   "source": [
    "obs = fu.DivObs('2010010100')"
   ]
  },
  {
   "cell_type": "code",
   "execution_count": 13,
   "metadata": {},
   "outputs": [],
   "source": [
    "df = obs.get_rdrs()"
   ]
  },
  {
   "cell_type": "code",
   "execution_count": 14,
   "metadata": {},
   "outputs": [
    {
     "name": "stdout",
     "output_type": "stream",
     "text": [
      "<class 'pandas.core.frame.DataFrame'>\n",
      "DatetimeIndex: 28125 entries, 2010-01-01 00:00:00.039000 to 2010-01-01 00:59:59.989000\n",
      "Columns: 2952 entries, jdate to earbore\n",
      "dtypes: float64(2952)\n",
      "memory usage: 633.6 MB\n"
     ]
    }
   ],
   "source": [
    "df.info()"
   ]
  },
  {
   "cell_type": "code",
   "execution_count": 15,
   "metadata": {},
   "outputs": [
    {
     "data": {
      "text/plain": [
       "(28125, 2952)"
      ]
     },
     "execution_count": 15,
     "metadata": {},
     "output_type": "execute_result"
    }
   ],
   "source": [
    "df.shape"
   ]
  },
  {
   "cell_type": "code",
   "execution_count": 16,
   "metadata": {},
   "outputs": [
    {
     "data": {
      "text/plain": [
       "Index(['jdate', 'orbit', 'sundist', 'sunlat', 'sunlon', 'sclk', 'sclat',\n",
       "       'sclon', 'scrad', 'scalt',\n",
       "       ...\n",
       "       'vel_lroz', 'vsunx', 'vsuny', 'vsunz', 'vearx', 'veary', 'vearz',\n",
       "       'nadirangle', 'sunbore', 'earbore'],\n",
       "      dtype='object', length=2952)"
      ]
     },
     "execution_count": 16,
     "metadata": {},
     "output_type": "execute_result"
    }
   ],
   "source": [
    "df.columns"
   ]
  },
  {
   "cell_type": "code",
   "execution_count": 55,
   "metadata": {},
   "outputs": [],
   "source": [
    "tstr = '2010010100'"
   ]
  },
  {
   "cell_type": "code",
   "execution_count": 66,
   "metadata": {},
   "outputs": [
    {
     "data": {
      "text/plain": [
       "['a1', 'a2', 'a3', 'a4', 'a5', 'a6', 'b1', 'b2', 'b3']"
      ]
     },
     "execution_count": 66,
     "metadata": {},
     "output_type": "execute_result"
    }
   ],
   "source": [
    "calib.channels"
   ]
  },
  {
   "cell_type": "code",
   "execution_count": 5,
   "metadata": {},
   "outputs": [
    {
     "name": "stdout",
     "output_type": "stream",
     "text": [
      "2018012800\n",
      "2018012800.div247\n",
      "2018012801.div247\n",
      "2018012802.div247\n"
     ]
    },
    {
     "name": "stderr",
     "output_type": "stream",
     "text": [
      "INFO:diviner.calib:Calibrating from 2018-01-28 00:00:00.207000 to 2018-01-28 03:00:01.393000.\n",
      "INFO:diviner.calib:Performing radiance correction on 2018-01-28 00:00:00.207000\n"
     ]
    },
    {
     "name": "stdout",
     "output_type": "stream",
     "text": [
      "2018022800\n",
      "2018022800.div247\n",
      "2018022801.div247\n",
      "2018022802.div247\n"
     ]
    },
    {
     "name": "stderr",
     "output_type": "stream",
     "text": [
      "INFO:diviner.calib:Calibrating from 2018-02-28 00:00:02.001999 to 2018-02-28 03:00:01.120000.\n",
      "WARNING:diviner.calib:No caldata in calib_label at 2018-02-28 00:00:02.001999. Found only 80 moving samples.\n",
      "INFO:diviner.calib:Performing radiance correction on 2018-02-28 00:00:02.001999\n"
     ]
    },
    {
     "name": "stdout",
     "output_type": "stream",
     "text": [
      "2018032800\n",
      "2018032800.div247\n",
      "2018032801.div247\n",
      "2018032802.div247\n"
     ]
    },
    {
     "name": "stderr",
     "output_type": "stream",
     "text": [
      "INFO:diviner.calib:Calibrating from 2018-03-28 00:00:00.682000 to 2018-03-28 03:00:01.907000.\n",
      "INFO:diviner.calib:Performing radiance correction on 2018-03-28 00:00:00.682000\n"
     ]
    },
    {
     "name": "stdout",
     "output_type": "stream",
     "text": [
      "2018042800\n",
      "2018042800.div247\n",
      "2018042801.div247\n",
      "2018042802.div247\n"
     ]
    },
    {
     "name": "stderr",
     "output_type": "stream",
     "text": [
      "INFO:diviner.calib:Calibrating from 2018-04-28 00:00:00.477000 to 2018-04-28 03:00:01.649000.\n",
      "INFO:diviner.calib:Performing radiance correction on 2018-04-28 00:00:00.477000\n"
     ]
    },
    {
     "name": "stdout",
     "output_type": "stream",
     "text": [
      "2018052800\n",
      "2018052800.div247\n",
      "2018052801.div247\n",
      "2018052802.div247\n"
     ]
    },
    {
     "name": "stderr",
     "output_type": "stream",
     "text": [
      "INFO:diviner.calib:Calibrating from 2018-05-28 00:00:01.052999 to 2018-05-28 03:00:00.175000.\n",
      "INFO:diviner.calib:Performing radiance correction on 2018-05-28 00:00:01.052999\n"
     ]
    },
    {
     "name": "stdout",
     "output_type": "stream",
     "text": [
      "2018062800\n",
      "2018062800.div247\n",
      "2018062801.div247\n",
      "2018062802.div247\n"
     ]
    },
    {
     "name": "stderr",
     "output_type": "stream",
     "text": [
      "INFO:diviner.calib:Calibrating from 2018-06-28 00:00:00.360000 to 2018-06-28 03:00:01.588000.\n",
      "INFO:diviner.calib:Performing radiance correction on 2018-06-28 00:00:00.360000\n"
     ]
    },
    {
     "name": "stdout",
     "output_type": "stream",
     "text": [
      "2018072800\n",
      "No files found. Searched like this:\n",
      "\n",
      "/luna1/marks/div247/201807/2018072800*\n"
     ]
    },
    {
     "ename": "IndexError",
     "evalue": "list index out of range",
     "output_type": "error",
     "traceback": [
      "\u001b[0;31m---------------------------------------------------------------------------\u001b[0m",
      "\u001b[0;31mIndexError\u001b[0m                                Traceback (most recent call last)",
      "\u001b[0;32m<ipython-input-5-3c38c322c902>\u001b[0m in \u001b[0;36m<module>\u001b[0;34m\u001b[0m\n\u001b[1;32m     19\u001b[0m         \u001b[0mtstr\u001b[0m \u001b[0;34m=\u001b[0m \u001b[0;34mf\"{yr}{str(month).zfill(2)}2800\"\u001b[0m\u001b[0;34m\u001b[0m\u001b[0;34m\u001b[0m\u001b[0m\n\u001b[1;32m     20\u001b[0m         \u001b[0mprint\u001b[0m\u001b[0;34m(\u001b[0m\u001b[0mtstr\u001b[0m\u001b[0;34m)\u001b[0m\u001b[0;34m\u001b[0m\u001b[0;34m\u001b[0m\u001b[0m\n\u001b[0;32m---> 21\u001b[0;31m         \u001b[0mcalculate_calib_stats\u001b[0m\u001b[0;34m(\u001b[0m\u001b[0mtstr\u001b[0m\u001b[0;34m)\u001b[0m\u001b[0;34m\u001b[0m\u001b[0;34m\u001b[0m\u001b[0m\n\u001b[0m",
      "\u001b[0;32m<ipython-input-5-3c38c322c902>\u001b[0m in \u001b[0;36mcalculate_calib_stats\u001b[0;34m(tstr)\u001b[0m\n\u001b[1;32m      5\u001b[0m     \u001b[0mgain\u001b[0m \u001b[0;34m=\u001b[0m \u001b[0;34m{\u001b[0m\u001b[0;34m}\u001b[0m\u001b[0;34m\u001b[0m\u001b[0;34m\u001b[0m\u001b[0m\n\u001b[1;32m      6\u001b[0m     \u001b[0moffset\u001b[0m\u001b[0;34m[\u001b[0m\u001b[0;34m'time'\u001b[0m\u001b[0;34m]\u001b[0m \u001b[0;34m=\u001b[0m \u001b[0mgain\u001b[0m\u001b[0;34m[\u001b[0m\u001b[0;34m'time'\u001b[0m\u001b[0;34m]\u001b[0m \u001b[0;34m=\u001b[0m \u001b[0mfu\u001b[0m\u001b[0;34m.\u001b[0m\u001b[0mtstr_to_datetime\u001b[0m\u001b[0;34m(\u001b[0m\u001b[0mtstr\u001b[0m\u001b[0;34m)\u001b[0m\u001b[0;34m\u001b[0m\u001b[0;34m\u001b[0m\u001b[0m\n\u001b[0;32m----> 7\u001b[0;31m     \u001b[0mpump\u001b[0m \u001b[0;34m=\u001b[0m \u001b[0mfu\u001b[0m\u001b[0;34m.\u001b[0m\u001b[0mDiv247DataPump\u001b[0m\u001b[0;34m(\u001b[0m\u001b[0mtstr\u001b[0m\u001b[0;34m)\u001b[0m\u001b[0;34m\u001b[0m\u001b[0;34m\u001b[0m\u001b[0m\n\u001b[0m\u001b[1;32m      8\u001b[0m     \u001b[0mdf\u001b[0m \u001b[0;34m=\u001b[0m \u001b[0mpump\u001b[0m\u001b[0;34m.\u001b[0m\u001b[0mget_n_hours_from_t\u001b[0m\u001b[0;34m(\u001b[0m\u001b[0;36m3\u001b[0m\u001b[0;34m)\u001b[0m\u001b[0;34m\u001b[0m\u001b[0;34m\u001b[0m\u001b[0m\n\u001b[1;32m      9\u001b[0m     \u001b[0mcal\u001b[0m \u001b[0;34m=\u001b[0m \u001b[0mcalib\u001b[0m\u001b[0;34m.\u001b[0m\u001b[0mCalibrator\u001b[0m\u001b[0;34m(\u001b[0m\u001b[0mdf\u001b[0m\u001b[0;34m)\u001b[0m\u001b[0;34m\u001b[0m\u001b[0;34m\u001b[0m\u001b[0m\n",
      "\u001b[0;32m~/src/diviner/diviner/file_utils.py\u001b[0m in \u001b[0;36m__init__\u001b[0;34m(self, tstr)\u001b[0m\n\u001b[1;32m    816\u001b[0m         \u001b[0mself\u001b[0m\u001b[0;34m.\u001b[0m\u001b[0mtime\u001b[0m \u001b[0;34m=\u001b[0m \u001b[0mdt\u001b[0m\u001b[0;34m.\u001b[0m\u001b[0mstrptime\u001b[0m\u001b[0;34m(\u001b[0m\u001b[0mtstr\u001b[0m\u001b[0;34m,\u001b[0m \u001b[0mself\u001b[0m\u001b[0;34m.\u001b[0m\u001b[0mtstr_parser\u001b[0m\u001b[0;34m[\u001b[0m\u001b[0mlen\u001b[0m\u001b[0;34m(\u001b[0m\u001b[0mtstr\u001b[0m\u001b[0;34m)\u001b[0m\u001b[0;34m]\u001b[0m\u001b[0;34m)\u001b[0m\u001b[0;34m\u001b[0m\u001b[0;34m\u001b[0m\u001b[0m\n\u001b[1;32m    817\u001b[0m         \u001b[0mself\u001b[0m\u001b[0;34m.\u001b[0m\u001b[0mfnames\u001b[0m \u001b[0;34m=\u001b[0m \u001b[0mself\u001b[0m\u001b[0;34m.\u001b[0m\u001b[0mfind_fnames\u001b[0m\u001b[0;34m(\u001b[0m\u001b[0;34m)\u001b[0m\u001b[0;34m\u001b[0m\u001b[0;34m\u001b[0m\u001b[0m\n\u001b[0;32m--> 818\u001b[0;31m         \u001b[0mself\u001b[0m\u001b[0;34m.\u001b[0m\u001b[0mfname\u001b[0m \u001b[0;34m=\u001b[0m \u001b[0mFileName\u001b[0m\u001b[0;34m(\u001b[0m\u001b[0mself\u001b[0m\u001b[0;34m.\u001b[0m\u001b[0mfnames\u001b[0m\u001b[0;34m[\u001b[0m\u001b[0;36m0\u001b[0m\u001b[0;34m]\u001b[0m\u001b[0;34m)\u001b[0m\u001b[0;34m\u001b[0m\u001b[0;34m\u001b[0m\u001b[0m\n\u001b[0m\u001b[1;32m    819\u001b[0m         \u001b[0mself\u001b[0m\u001b[0;34m.\u001b[0m\u001b[0mfnames\u001b[0m\u001b[0;34m.\u001b[0m\u001b[0msort\u001b[0m\u001b[0;34m(\u001b[0m\u001b[0;34m)\u001b[0m\u001b[0;34m\u001b[0m\u001b[0;34m\u001b[0m\u001b[0m\n\u001b[1;32m    820\u001b[0m \u001b[0;34m\u001b[0m\u001b[0m\n",
      "\u001b[0;31mIndexError\u001b[0m: list index out of range"
     ]
    }
   ],
   "source": [
    "offsets = []\n",
    "gains = []\n",
    "def calculate_calib_stats(tstr):\n",
    "    offset = {}\n",
    "    gain = {}\n",
    "    offset['time'] = gain['time'] = fu.tstr_to_datetime(tstr)\n",
    "    pump = fu.Div247DataPump(tstr)\n",
    "    df = pump.get_n_hours_from_t(3)\n",
    "    cal = calib.Calibrator(df)\n",
    "    cal.calibrate()\n",
    "    for c in calib.thermal_channels:\n",
    "        offset[c] = cal.offsets.filter(regex=f\"{c}_\").median().median()\n",
    "        gain[c] = cal.gains.filter(regex=f\"{c}_\").median().median()\n",
    "    offsets.append(offset)\n",
    "    gains.append(gain)\n",
    "    \n",
    "for yr in range(2018, 2019):\n",
    "    for month in range(1, 13):\n",
    "        tstr = f\"{yr}{str(month).zfill(2)}2800\"\n",
    "        print(tstr)\n",
    "        calculate_calib_stats(tstr)"
   ]
  },
  {
   "cell_type": "code",
   "execution_count": 6,
   "metadata": {},
   "outputs": [],
   "source": [
    "offsets_prelim = pd.DataFrame(offsets)"
   ]
  },
  {
   "cell_type": "code",
   "execution_count": 7,
   "metadata": {},
   "outputs": [],
   "source": [
    "gains_prelim = pd.DataFrame(gains)"
   ]
  },
  {
   "cell_type": "code",
   "execution_count": 8,
   "metadata": {},
   "outputs": [],
   "source": [
    "offsets_1 = pd.read_hdf(\"offsets_prelim.hdf\")"
   ]
  },
  {
   "cell_type": "code",
   "execution_count": 9,
   "metadata": {},
   "outputs": [],
   "source": [
    "gains_1 = pd.read_hdf(\"gains_prelim.hdf\")"
   ]
  },
  {
   "cell_type": "code",
   "execution_count": 11,
   "metadata": {},
   "outputs": [],
   "source": [
    "offsets = pd.concat([offsets_1, offsets_prelim])"
   ]
  },
  {
   "cell_type": "code",
   "execution_count": 17,
   "metadata": {},
   "outputs": [],
   "source": [
    "gains = pd.concat([gains_1, gains_prelim])"
   ]
  },
  {
   "cell_type": "code",
   "execution_count": 169,
   "metadata": {},
   "outputs": [],
   "source": [
    "offsets_prelim.to_hdf(\"offsets_prelim.hdf\", \"df\")"
   ]
  },
  {
   "cell_type": "code",
   "execution_count": 170,
   "metadata": {},
   "outputs": [],
   "source": [
    "gains_prelim.to_hdf(\"gains_prelim.hdf\", \"df\")"
   ]
  },
  {
   "cell_type": "code",
   "execution_count": 133,
   "metadata": {},
   "outputs": [],
   "source": [
    "offsets_prelim.drop([\"a1\", \"a2\"], axis=1, inplace=True)"
   ]
  },
  {
   "cell_type": "code",
   "execution_count": 165,
   "metadata": {},
   "outputs": [],
   "source": [
    "offsets_prelim.drop(\"fit_a3\", axis=1, inplace=True)"
   ]
  },
  {
   "cell_type": "code",
   "execution_count": 142,
   "metadata": {},
   "outputs": [],
   "source": [
    "gains_prelim.drop([\"a1\", \"a2\"], axis=1, inplace=True)"
   ]
  },
  {
   "cell_type": "code",
   "execution_count": 130,
   "metadata": {},
   "outputs": [],
   "source": [
    "x = np.arange(\n",
    "    offsets_prelim.time.size\n",
    ")  # = array([0, 1, 2, ..., 3598, 3599, 3600])\n",
    "fit = np.polyfit(x, offsets_prelim[\"a3\"], 1)\n",
    "fit_fn = np.poly1d(fit)"
   ]
  },
  {
   "cell_type": "code",
   "execution_count": 14,
   "metadata": {},
   "outputs": [],
   "source": [
    "%matplotlib widget"
   ]
  },
  {
   "cell_type": "code",
   "execution_count": 139,
   "metadata": {},
   "outputs": [],
   "source": [
    "offsets_prelim[\"fit_a3\"] = fit_fn(x)"
   ]
  },
  {
   "cell_type": "code",
   "execution_count": 15,
   "metadata": {},
   "outputs": [
    {
     "data": {
      "application/vnd.jupyter.widget-view+json": {
       "model_id": "117bf69ab749454ab93601899e13389d",
       "version_major": 2,
       "version_minor": 0
      },
      "text/plain": [
       "FigureCanvasNbAgg()"
      ]
     },
     "metadata": {},
     "output_type": "display_data"
    }
   ],
   "source": [
    "ax = offsets.set_index(\"time\").plot()\n",
    "ax.legend(ncol=4, bbox_to_anchor=(0.75, 0.35))\n",
    "ax.set_title(\"Lifetime offsets\")\n",
    "ax.grid()\n",
    "ax.figure.savefig(\"offsets.pdf\")"
   ]
  },
  {
   "cell_type": "code",
   "execution_count": 148,
   "metadata": {},
   "outputs": [],
   "source": [
    "from diviner import plot_utils as pu"
   ]
  },
  {
   "cell_type": "code",
   "execution_count": 18,
   "metadata": {},
   "outputs": [
    {
     "data": {
      "application/vnd.jupyter.widget-view+json": {
       "model_id": "0ec1b1a1592d4934a9e2c96339b9e4eb",
       "version_major": 2,
       "version_minor": 0
      },
      "text/plain": [
       "FigureCanvasNbAgg()"
      ]
     },
     "metadata": {},
     "output_type": "display_data"
    }
   ],
   "source": [
    "ax = gains.set_index(\"time\").plot()\n",
    "ax.legend(ncol=4, bbox_to_anchor=(0.8, 0.5))\n",
    "ax.grid()\n",
    "ax.set_title(\"Lifetime gains\")\n",
    "ax.figure.savefig(\"gains.pdf\")"
   ]
  },
  {
   "cell_type": "code",
   "execution_count": 115,
   "metadata": {},
   "outputs": [
    {
     "data": {
      "text/plain": [
       "['a3', 'a4', 'a5', 'a6', 'b1', 'b2', 'b3']"
      ]
     },
     "execution_count": 115,
     "metadata": {},
     "output_type": "execute_result"
    }
   ],
   "source": [
    "calib.thermal_channels"
   ]
  },
  {
   "cell_type": "code",
   "execution_count": null,
   "metadata": {},
   "outputs": [],
   "source": []
  },
  {
   "cell_type": "code",
   "execution_count": 125,
   "metadata": {},
   "outputs": [],
   "source": [
    "offsets_molten = pd.melt(\n",
    "    offsets_prelim,\n",
    "    id_vars=\"time\",\n",
    "    value_vars=calib.thermal_channels,\n",
    "    var_name=\"channel\",\n",
    "    value_name=\"offset\",\n",
    ")"
   ]
  },
  {
   "cell_type": "code",
   "execution_count": null,
   "metadata": {},
   "outputs": [],
   "source": []
  }
 ],
 "metadata": {
  "kernelspec": {
   "display_name": "Python 3",
   "language": "python",
   "name": "python3"
  },
  "language_info": {
   "codemirror_mode": {
    "name": "ipython",
    "version": 3
   },
   "file_extension": ".py",
   "mimetype": "text/x-python",
   "name": "python",
   "nbconvert_exporter": "python",
   "pygments_lexer": "ipython3",
   "version": "3.7.1"
  }
 },
 "nbformat": 4,
 "nbformat_minor": 2
}
