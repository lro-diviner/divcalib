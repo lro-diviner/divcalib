{
 "cells": [
  {
   "cell_type": "code",
   "execution_count": 1,
   "metadata": {},
   "outputs": [],
   "source": [
    "from diviner import file_utils as fu\n",
    "tstr_accumulate = '2010011317'"
   ]
  },
  {
   "cell_type": "code",
   "execution_count": 2,
   "metadata": {},
   "outputs": [],
   "source": [
    "from pathlib import Path"
   ]
  },
  {
   "cell_type": "code",
   "execution_count": 3,
   "metadata": {},
   "outputs": [],
   "source": [
    "p = Path(fu.datapath) / 'rdr_data' / '2013052205_RDR.TAB.zip'"
   ]
  },
  {
   "cell_type": "code",
   "execution_count": 4,
   "metadata": {},
   "outputs": [
    {
     "data": {
      "text/plain": [
       "'2010011317'"
      ]
     },
     "execution_count": 4,
     "metadata": {},
     "output_type": "execute_result"
    }
   ],
   "source": [
    "fu.get_tstr(tstr_accumulate)"
   ]
  },
  {
   "cell_type": "code",
   "execution_count": 5,
   "metadata": {},
   "outputs": [
    {
     "data": {
      "text/plain": [
       "'2013052205'"
      ]
     },
     "execution_count": 5,
     "metadata": {},
     "output_type": "execute_result"
    }
   ],
   "source": [
    "# with path\n",
    "fu.get_tstr(p)"
   ]
  },
  {
   "cell_type": "code",
   "execution_count": 6,
   "metadata": {},
   "outputs": [
    {
     "data": {
      "text/plain": [
       "'2010011317'"
      ]
     },
     "execution_count": 6,
     "metadata": {},
     "output_type": "execute_result"
    }
   ],
   "source": [
    "# with datetime object\n",
    "import datetime\n",
    "fu.get_tstr(datetime.datetime(2010,1, 13, 17))"
   ]
  },
  {
   "cell_type": "code",
   "execution_count": 7,
   "metadata": {},
   "outputs": [
    {
     "data": {
      "text/plain": [
       "datetime.datetime(2010, 1, 13, 17, 0)"
      ]
     },
     "execution_count": 7,
     "metadata": {},
     "output_type": "execute_result"
    }
   ],
   "source": [
    "fu.tstr_to_datetime(tstr_accumulate)"
   ]
  },
  {
   "cell_type": "code",
   "execution_count": 8,
   "metadata": {},
   "outputs": [
    {
     "data": {
      "text/plain": [
       "'2013052205'"
      ]
     },
     "execution_count": 8,
     "metadata": {},
     "output_type": "execute_result"
    }
   ],
   "source": [
    "fu.fname_to_tstr(p)"
   ]
  },
  {
   "cell_type": "code",
   "execution_count": 9,
   "metadata": {},
   "outputs": [
    {
     "data": {
      "text/plain": [
       "'/Users/klay6683/data/diviner/l1a_data/2010011317_L1A.TAB'"
      ]
     },
     "execution_count": 9,
     "metadata": {},
     "output_type": "execute_result"
    }
   ],
   "source": [
    "fu.tstr_to_l1a_fname(tstr_accumulate)"
   ]
  },
  {
   "cell_type": "code",
   "execution_count": 10,
   "metadata": {},
   "outputs": [
    {
     "data": {
      "text/plain": [
       "['2010010500',\n",
       " '2010010501',\n",
       " '2010010502',\n",
       " '2010010503',\n",
       " '2010010504',\n",
       " '2010010505',\n",
       " '2010010506',\n",
       " '2010010507',\n",
       " '2010010508',\n",
       " '2010010509',\n",
       " '2010010510',\n",
       " '2010010511',\n",
       " '2010010512',\n",
       " '2010010513',\n",
       " '2010010514',\n",
       " '2010010515',\n",
       " '2010010516',\n",
       " '2010010517',\n",
       " '2010010518',\n",
       " '2010010519',\n",
       " '2010010520',\n",
       " '2010010521',\n",
       " '2010010522',\n",
       " '2010010523']"
      ]
     },
     "execution_count": 10,
     "metadata": {},
     "output_type": "execute_result"
    }
   ],
   "source": [
    "fu.timestrings_for_day(\"20100105\")"
   ]
  },
  {
   "cell_type": "code",
   "execution_count": 11,
   "metadata": {},
   "outputs": [
    {
     "data": {
      "text/plain": [
       "['2010010105',\n",
       " '2010010106',\n",
       " '2010010107',\n",
       " '2010010108',\n",
       " '2010010109',\n",
       " '2010010110']"
      ]
     },
     "execution_count": 11,
     "metadata": {},
     "output_type": "execute_result"
    }
   ],
   "source": [
    "fu.calc_daterange(\"2010010105\",\"2010010110\" )"
   ]
  },
  {
   "cell_type": "code",
   "execution_count": 12,
   "metadata": {},
   "outputs": [
    {
     "data": {
      "text/plain": [
       "'/Users/klay6683/data/diviner/rdr20_month_samples/nominal'"
      ]
     },
     "execution_count": 12,
     "metadata": {},
     "output_type": "execute_result"
    }
   ],
   "source": [
    "fu.get_month_sample_path_from_mode('nominal')"
   ]
  },
  {
   "cell_type": "code",
   "execution_count": 14,
   "metadata": {},
   "outputs": [],
   "source": [
    "divhour = fu.DivTime(tstr_accumulate)"
   ]
  },
  {
   "cell_type": "code",
   "execution_count": 15,
   "metadata": {},
   "outputs": [
    {
     "data": {
      "text/plain": [
       "DivTime\n",
       "2010-01-13 17:00:00"
      ]
     },
     "execution_count": 15,
     "metadata": {},
     "output_type": "execute_result"
    }
   ],
   "source": [
    "divhour"
   ]
  },
  {
   "cell_type": "code",
   "execution_count": 16,
   "metadata": {},
   "outputs": [
    {
     "data": {
      "text/plain": [
       "'2010011317'"
      ]
     },
     "execution_count": 16,
     "metadata": {},
     "output_type": "execute_result"
    }
   ],
   "source": [
    "divhour.tstr"
   ]
  },
  {
   "cell_type": "code",
   "execution_count": 17,
   "metadata": {},
   "outputs": [
    {
     "data": {
      "text/plain": [
       "'2010'"
      ]
     },
     "execution_count": 17,
     "metadata": {},
     "output_type": "execute_result"
    }
   ],
   "source": [
    "divhour.year"
   ]
  },
  {
   "cell_type": "code",
   "execution_count": 17,
   "metadata": {},
   "outputs": [
    {
     "data": {
      "text/plain": [
       "'01'"
      ]
     },
     "execution_count": 17,
     "metadata": {},
     "output_type": "execute_result"
    }
   ],
   "source": [
    "divhour.month"
   ]
  },
  {
   "cell_type": "code",
   "execution_count": 18,
   "metadata": {},
   "outputs": [
    {
     "data": {
      "text/plain": [
       "'13'"
      ]
     },
     "execution_count": 18,
     "metadata": {},
     "output_type": "execute_result"
    }
   ],
   "source": [
    "divhour.day"
   ]
  },
  {
   "cell_type": "code",
   "execution_count": 19,
   "metadata": {},
   "outputs": [
    {
     "data": {
      "text/plain": [
       "'17'"
      ]
     },
     "execution_count": 19,
     "metadata": {},
     "output_type": "execute_result"
    }
   ],
   "source": [
    "divhour.hour"
   ]
  },
  {
   "cell_type": "code",
   "execution_count": 20,
   "metadata": {},
   "outputs": [
    {
     "data": {
      "text/plain": [
       "datetime.datetime(2010, 1, 13, 17, 0)"
      ]
     },
     "execution_count": 20,
     "metadata": {},
     "output_type": "execute_result"
    }
   ],
   "source": [
    "divhour.dtime"
   ]
  },
  {
   "cell_type": "code",
   "execution_count": 21,
   "metadata": {},
   "outputs": [
    {
     "data": {
      "text/plain": [
       "'%Y%m%d%H'"
      ]
     },
     "execution_count": 21,
     "metadata": {},
     "output_type": "execute_result"
    }
   ],
   "source": [
    "divhour.fmt"
   ]
  },
  {
   "cell_type": "code",
   "execution_count": 22,
   "metadata": {},
   "outputs": [
    {
     "data": {
      "text/plain": [
       "10"
      ]
     },
     "execution_count": 22,
     "metadata": {},
     "output_type": "execute_result"
    }
   ],
   "source": [
    "divhour.lentstr"
   ]
  },
  {
   "cell_type": "code",
   "execution_count": 23,
   "metadata": {},
   "outputs": [
    {
     "data": {
      "text/plain": [
       "'20100113 17'"
      ]
     },
     "execution_count": 23,
     "metadata": {},
     "output_type": "execute_result"
    }
   ],
   "source": [
    "divhour.tindex"
   ]
  },
  {
   "cell_type": "code",
   "execution_count": 24,
   "metadata": {},
   "outputs": [
    {
     "data": {
      "text/plain": [
       "DivHour\n",
       "2010-01-13 16:00:00"
      ]
     },
     "execution_count": 24,
     "metadata": {},
     "output_type": "execute_result"
    }
   ],
   "source": [
    "divhour.previous"
   ]
  },
  {
   "cell_type": "code",
   "execution_count": 25,
   "metadata": {},
   "outputs": [
    {
     "data": {
      "text/plain": [
       "DivHour\n",
       "2010-01-13 18:00:00"
      ]
     },
     "execution_count": 25,
     "metadata": {},
     "output_type": "execute_result"
    }
   ],
   "source": [
    "divhour.next"
   ]
  },
  {
   "cell_type": "code",
   "execution_count": 26,
   "metadata": {},
   "outputs": [],
   "source": [
    "divday = fu.DivDay(tstr_accumulate[:-2])"
   ]
  },
  {
   "cell_type": "code",
   "execution_count": 27,
   "metadata": {},
   "outputs": [
    {
     "data": {
      "text/plain": [
       "DivDay\n",
       "2010-01-13 00:00:00"
      ]
     },
     "execution_count": 27,
     "metadata": {},
     "output_type": "execute_result"
    }
   ],
   "source": [
    "divday"
   ]
  },
  {
   "cell_type": "code",
   "execution_count": 28,
   "metadata": {},
   "outputs": [],
   "source": [
    "obs = fu.DivObs.from_fname(p)"
   ]
  },
  {
   "cell_type": "code",
   "execution_count": 29,
   "metadata": {},
   "outputs": [
    {
     "data": {
      "text/plain": [
       "DivHour\n",
       "2013-05-22 05:00:00"
      ]
     },
     "execution_count": 29,
     "metadata": {},
     "output_type": "execute_result"
    }
   ],
   "source": [
    "obs.time"
   ]
  },
  {
   "cell_type": "code",
   "execution_count": 30,
   "metadata": {},
   "outputs": [
    {
     "data": {
      "text/plain": [
       "L1AFileName\n",
       "Dir: /luna5/marks/feidata/DIV:opsL1A/data\n",
       "Base: 2013052205_L1A.TAB"
      ]
     },
     "execution_count": 30,
     "metadata": {},
     "output_type": "execute_result"
    }
   ],
   "source": [
    "obs.l1afname"
   ]
  },
  {
   "cell_type": "code",
   "execution_count": 31,
   "metadata": {},
   "outputs": [
    {
     "data": {
      "text/plain": [
       "DivObs\n",
       "L1A: L1AFileName\n",
       "Dir: /luna5/marks/feidata/DIV:opsL1A/data\n",
       "Base: 2013052204_L1A.TAB\n",
       "RDRR: RDRRFileName\n",
       "Dir: /luna7/marks/rdrr_data\n",
       "Base: 2013052204.rdrr\n",
       "RDRS: RDRSFileName\n",
       "Dir: /luna5/marks/rdrs_data\n",
       "Base: 2013052204.rdrs"
      ]
     },
     "execution_count": 31,
     "metadata": {},
     "output_type": "execute_result"
    }
   ],
   "source": [
    "obs.previous"
   ]
  },
  {
   "cell_type": "code",
   "execution_count": 32,
   "metadata": {},
   "outputs": [],
   "source": [
    "l1afname = obs.l1afname"
   ]
  },
  {
   "cell_type": "code",
   "execution_count": 33,
   "metadata": {},
   "outputs": [
    {
     "data": {
      "text/plain": [
       "'2013052205_L1A.TAB'"
      ]
     },
     "execution_count": 33,
     "metadata": {},
     "output_type": "execute_result"
    }
   ],
   "source": [
    "l1afname.basename"
   ]
  },
  {
   "cell_type": "code",
   "execution_count": 34,
   "metadata": {},
   "outputs": [
    {
     "data": {
      "text/plain": [
       "'/luna5/marks/feidata/DIV:opsL1A/data'"
      ]
     },
     "execution_count": 34,
     "metadata": {},
     "output_type": "execute_result"
    }
   ],
   "source": [
    "l1afname.dirname"
   ]
  },
  {
   "cell_type": "code",
   "execution_count": 35,
   "metadata": {},
   "outputs": [
    {
     "data": {
      "text/plain": [
       "'2013052205_L1A'"
      ]
     },
     "execution_count": 35,
     "metadata": {},
     "output_type": "execute_result"
    }
   ],
   "source": [
    "l1afname.file_id"
   ]
  },
  {
   "cell_type": "code",
   "execution_count": 36,
   "metadata": {},
   "outputs": [
    {
     "data": {
      "text/plain": [
       "'2013052205'"
      ]
     },
     "execution_count": 36,
     "metadata": {},
     "output_type": "execute_result"
    }
   ],
   "source": [
    "l1afname.tstr"
   ]
  },
  {
   "cell_type": "code",
   "execution_count": 37,
   "metadata": {},
   "outputs": [
    {
     "data": {
      "text/plain": [
       "'_L1A.TAB'"
      ]
     },
     "execution_count": 37,
     "metadata": {},
     "output_type": "execute_result"
    }
   ],
   "source": [
    "l1afname.rest"
   ]
  },
  {
   "cell_type": "code",
   "execution_count": 38,
   "metadata": {},
   "outputs": [
    {
     "data": {
      "text/plain": [
       "DivHour\n",
       "2013-05-22 05:00:00"
      ]
     },
     "execution_count": 38,
     "metadata": {},
     "output_type": "execute_result"
    }
   ],
   "source": [
    "l1afname.divhour"
   ]
  },
  {
   "cell_type": "code",
   "execution_count": 39,
   "metadata": {},
   "outputs": [
    {
     "data": {
      "text/plain": [
       "'/luna5/marks/feidata/DIV:opsL1A/data/2013052205_L1A.TAB'"
      ]
     },
     "execution_count": 39,
     "metadata": {},
     "output_type": "execute_result"
    }
   ],
   "source": [
    "l1afname.path"
   ]
  },
  {
   "cell_type": "code",
   "execution_count": 40,
   "metadata": {},
   "outputs": [
    {
     "data": {
      "text/plain": [
       "'/luna5/marks/feidata/DIV:opsL1A/data/2013052205_L1A.TAB'"
      ]
     },
     "execution_count": 40,
     "metadata": {},
     "output_type": "execute_result"
    }
   ],
   "source": [
    "l1afname.name"
   ]
  },
  {
   "cell_type": "code",
   "execution_count": 41,
   "metadata": {},
   "outputs": [
    {
     "data": {
      "text/plain": [
       "'/luna5/marks/feidata/DIV:opsL1A/data/2013052205_L1A.TAB'"
      ]
     },
     "execution_count": 41,
     "metadata": {},
     "output_type": "execute_result"
    }
   ],
   "source": [
    "l1afname.fname"
   ]
  },
  {
   "cell_type": "code",
   "execution_count": 42,
   "metadata": {},
   "outputs": [],
   "source": [
    "rdrfname = obs.rdrrfname"
   ]
  },
  {
   "cell_type": "code",
   "execution_count": 43,
   "metadata": {},
   "outputs": [
    {
     "data": {
      "text/plain": [
       "'.rdrr'"
      ]
     },
     "execution_count": 43,
     "metadata": {},
     "output_type": "execute_result"
    }
   ],
   "source": [
    "rdrfname.ext"
   ]
  },
  {
   "cell_type": "code",
   "execution_count": 44,
   "metadata": {
    "scrolled": true
   },
   "outputs": [
    {
     "name": "stdout",
     "output_type": "stream",
     "text": [
      "['q', 'date', 'utc', 'sclk', 'sounding', 'from_pkt', 'pkt_count', 'safing', 'safed', 'freezing', 'frozen', 'rolling', 'dumping', 'moving', 'temp_fault', 'sc_time_secs', 'sc_time_subs', 'ticks_pkt_start', 'ticks_at_sc_time', 'ost_index', 'est_index', 'sst_index', 'last_az_cmd', 'last_el_cmd', 'fpa_temp', 'fpb_temp', 'baffle_a_temp', 'baffle_b_temp', 'bb_1_temp', 'oba_1_temp', 'error_time', 'error_id', 'error_detail', 'error_count', 'commands_received', 'commands_executed', 'commands_rejected', 'last_command_rec', 'cmd', 'req_id', 'last_time_command', 'last_eqx_prediction', 'hybrid_temp', 'fpa_temp_cyc', 'fpb_temp_cyc', 'baffle_a_temp_cyc', 'baffle_b_temp_cyc', 'oba_1_temp_cyc', 'oba_2_temp', 'bb_1_temp_cyc', 'bb_2_temp', 'solar_target_temp', 'yoke_temp', 'el_actuator_temp', 'az_actuator_temp', 'min_15v', 'plu_15v', 'solar_base_temp', 'plu_5v', 'a1_01', 'a1_02', 'a1_03', 'a1_04', 'a1_05', 'a1_06', 'a1_07', 'a1_08', 'a1_09', 'a1_10', 'a1_11', 'a1_12', 'a1_13', 'a1_14', 'a1_15', 'a1_16', 'a1_17', 'a1_18', 'a1_19', 'a1_20', 'a1_21', 'a2_01', 'a2_02', 'a2_03', 'a2_04', 'a2_05', 'a2_06', 'a2_07', 'a2_08', 'a2_09', 'a2_10', 'a2_11', 'a2_12', 'a2_13', 'a2_14', 'a2_15', 'a2_16', 'a2_17', 'a2_18', 'a2_19', 'a2_20', 'a2_21', 'a3_01', 'a3_02', 'a3_03', 'a3_04', 'a3_05', 'a3_06', 'a3_07', 'a3_08', 'a3_09', 'a3_10', 'a3_11', 'a3_12', 'a3_13', 'a3_14', 'a3_15', 'a3_16', 'a3_17', 'a3_18', 'a3_19', 'a3_20', 'a3_21', 'a4_01', 'a4_02', 'a4_03', 'a4_04', 'a4_05', 'a4_06', 'a4_07', 'a4_08', 'a4_09', 'a4_10', 'a4_11', 'a4_12', 'a4_13', 'a4_14', 'a4_15', 'a4_16', 'a4_17', 'a4_18', 'a4_19', 'a4_20', 'a4_21', 'a5_01', 'a5_02', 'a5_03', 'a5_04', 'a5_05', 'a5_06', 'a5_07', 'a5_08', 'a5_09', 'a5_10', 'a5_11', 'a5_12', 'a5_13', 'a5_14', 'a5_15', 'a5_16', 'a5_17', 'a5_18', 'a5_19', 'a5_20', 'a5_21', 'a6_01', 'a6_02', 'a6_03', 'a6_04', 'a6_05', 'a6_06', 'a6_07', 'a6_08', 'a6_09', 'a6_10', 'a6_11', 'a6_12', 'a6_13', 'a6_14', 'a6_15', 'a6_16', 'a6_17', 'a6_18', 'a6_19', 'a6_20', 'a6_21', 'b1_01', 'b1_02', 'b1_03', 'b1_04', 'b1_05', 'b1_06', 'b1_07', 'b1_08', 'b1_09', 'b1_10', 'b1_11', 'b1_12', 'b1_13', 'b1_14', 'b1_15', 'b1_16', 'b1_17', 'b1_18', 'b1_19', 'b1_20', 'b1_21', 'b2_01', 'b2_02', 'b2_03', 'b2_04', 'b2_05', 'b2_06', 'b2_07', 'b2_08', 'b2_09', 'b2_10', 'b2_11', 'b2_12', 'b2_13', 'b2_14', 'b2_15', 'b2_16', 'b2_17', 'b2_18', 'b2_19', 'b2_20', 'b2_21', 'b3_01', 'b3_02', 'b3_03', 'b3_04', 'b3_05', 'b3_06', 'b3_07', 'b3_08', 'b3_09', 'b3_10', 'b3_11', 'b3_12', 'b3_13', 'b3_14', 'b3_15', 'b3_16', 'b3_17', 'b3_18', 'b3_19', 'b3_20', 'b3_21']\n"
     ]
    }
   ],
   "source": [
    "print(fu.L1AHeader.columns)"
   ]
  },
  {
   "cell_type": "code",
   "execution_count": 45,
   "metadata": {},
   "outputs": [
    {
     "name": "stdout",
     "output_type": "stream",
     "text": [
      "['a1_01', 'a1_02', 'a1_03', 'a1_04', 'a1_05', 'a1_06', 'a1_07', 'a1_08', 'a1_09', 'a1_10', 'a1_11', 'a1_12', 'a1_13', 'a1_14', 'a1_15', 'a1_16', 'a1_17', 'a1_18', 'a1_19', 'a1_20', 'a1_21', 'a2_01', 'a2_02', 'a2_03', 'a2_04', 'a2_05', 'a2_06', 'a2_07', 'a2_08', 'a2_09', 'a2_10', 'a2_11', 'a2_12', 'a2_13', 'a2_14', 'a2_15', 'a2_16', 'a2_17', 'a2_18', 'a2_19', 'a2_20', 'a2_21', 'a3_01', 'a3_02', 'a3_03', 'a3_04', 'a3_05', 'a3_06', 'a3_07', 'a3_08', 'a3_09', 'a3_10', 'a3_11', 'a3_12', 'a3_13', 'a3_14', 'a3_15', 'a3_16', 'a3_17', 'a3_18', 'a3_19', 'a3_20', 'a3_21', 'a4_01', 'a4_02', 'a4_03', 'a4_04', 'a4_05', 'a4_06', 'a4_07', 'a4_08', 'a4_09', 'a4_10', 'a4_11', 'a4_12', 'a4_13', 'a4_14', 'a4_15', 'a4_16', 'a4_17', 'a4_18', 'a4_19', 'a4_20', 'a4_21', 'a5_01', 'a5_02', 'a5_03', 'a5_04', 'a5_05', 'a5_06', 'a5_07', 'a5_08', 'a5_09', 'a5_10', 'a5_11', 'a5_12', 'a5_13', 'a5_14', 'a5_15', 'a5_16', 'a5_17', 'a5_18', 'a5_19', 'a5_20', 'a5_21', 'a6_01', 'a6_02', 'a6_03', 'a6_04', 'a6_05', 'a6_06', 'a6_07', 'a6_08', 'a6_09', 'a6_10', 'a6_11', 'a6_12', 'a6_13', 'a6_14', 'a6_15', 'a6_16', 'a6_17', 'a6_18', 'a6_19', 'a6_20', 'a6_21']\n"
     ]
    }
   ],
   "source": [
    "print(fu.L1AHeader.tel1cols)"
   ]
  },
  {
   "cell_type": "code",
   "execution_count": 46,
   "metadata": {},
   "outputs": [
    {
     "name": "stdout",
     "output_type": "stream",
     "text": [
      "['b1_01', 'b1_02', 'b1_03', 'b1_04', 'b1_05', 'b1_06', 'b1_07', 'b1_08', 'b1_09', 'b1_10', 'b1_11', 'b1_12', 'b1_13', 'b1_14', 'b1_15', 'b1_16', 'b1_17', 'b1_18', 'b1_19', 'b1_20', 'b1_21', 'b2_01', 'b2_02', 'b2_03', 'b2_04', 'b2_05', 'b2_06', 'b2_07', 'b2_08', 'b2_09', 'b2_10', 'b2_11', 'b2_12', 'b2_13', 'b2_14', 'b2_15', 'b2_16', 'b2_17', 'b2_18', 'b2_19', 'b2_20', 'b2_21', 'b3_01', 'b3_02', 'b3_03', 'b3_04', 'b3_05', 'b3_06', 'b3_07', 'b3_08', 'b3_09', 'b3_10', 'b3_11', 'b3_12', 'b3_13', 'b3_14', 'b3_15', 'b3_16', 'b3_17', 'b3_18', 'b3_19', 'b3_20', 'b3_21']\n"
     ]
    }
   ],
   "source": [
    "print(fu.L1AHeader.tel2cols)"
   ]
  },
  {
   "cell_type": "code",
   "execution_count": 47,
   "metadata": {},
   "outputs": [
    {
     "name": "stdout",
     "output_type": "stream",
     "text": [
      "['a1_01', 'a1_02', 'a1_03', 'a1_04', 'a1_05', 'a1_06', 'a1_07', 'a1_08', 'a1_09', 'a1_10', 'a1_11', 'a1_12', 'a1_13', 'a1_14', 'a1_15', 'a1_16', 'a1_17', 'a1_18', 'a1_19', 'a1_20', 'a1_21', 'a2_01', 'a2_02', 'a2_03', 'a2_04', 'a2_05', 'a2_06', 'a2_07', 'a2_08', 'a2_09', 'a2_10', 'a2_11', 'a2_12', 'a2_13', 'a2_14', 'a2_15', 'a2_16', 'a2_17', 'a2_18', 'a2_19', 'a2_20', 'a2_21', 'a3_01', 'a3_02', 'a3_03', 'a3_04', 'a3_05', 'a3_06', 'a3_07', 'a3_08', 'a3_09', 'a3_10', 'a3_11', 'a3_12', 'a3_13', 'a3_14', 'a3_15', 'a3_16', 'a3_17', 'a3_18', 'a3_19', 'a3_20', 'a3_21', 'a4_01', 'a4_02', 'a4_03', 'a4_04', 'a4_05', 'a4_06', 'a4_07', 'a4_08', 'a4_09', 'a4_10', 'a4_11', 'a4_12', 'a4_13', 'a4_14', 'a4_15', 'a4_16', 'a4_17', 'a4_18', 'a4_19', 'a4_20', 'a4_21', 'a5_01', 'a5_02', 'a5_03', 'a5_04', 'a5_05', 'a5_06', 'a5_07', 'a5_08', 'a5_09', 'a5_10', 'a5_11', 'a5_12', 'a5_13', 'a5_14', 'a5_15', 'a5_16', 'a5_17', 'a5_18', 'a5_19', 'a5_20', 'a5_21', 'a6_01', 'a6_02', 'a6_03', 'a6_04', 'a6_05', 'a6_06', 'a6_07', 'a6_08', 'a6_09', 'a6_10', 'a6_11', 'a6_12', 'a6_13', 'a6_14', 'a6_15', 'a6_16', 'a6_17', 'a6_18', 'a6_19', 'a6_20', 'a6_21', 'b1_01', 'b1_02', 'b1_03', 'b1_04', 'b1_05', 'b1_06', 'b1_07', 'b1_08', 'b1_09', 'b1_10', 'b1_11', 'b1_12', 'b1_13', 'b1_14', 'b1_15', 'b1_16', 'b1_17', 'b1_18', 'b1_19', 'b1_20', 'b1_21', 'b2_01', 'b2_02', 'b2_03', 'b2_04', 'b2_05', 'b2_06', 'b2_07', 'b2_08', 'b2_09', 'b2_10', 'b2_11', 'b2_12', 'b2_13', 'b2_14', 'b2_15', 'b2_16', 'b2_17', 'b2_18', 'b2_19', 'b2_20', 'b2_21', 'b3_01', 'b3_02', 'b3_03', 'b3_04', 'b3_05', 'b3_06', 'b3_07', 'b3_08', 'b3_09', 'b3_10', 'b3_11', 'b3_12', 'b3_13', 'b3_14', 'b3_15', 'b3_16', 'b3_17', 'b3_18', 'b3_19', 'b3_20', 'b3_21']\n"
     ]
    }
   ],
   "source": [
    "print(fu.L1AHeader.datacols)"
   ]
  },
  {
   "cell_type": "code",
   "execution_count": 48,
   "metadata": {},
   "outputs": [
    {
     "name": "stdout",
     "output_type": "stream",
     "text": [
      "['az_actuator_temp', 'baffle_a_temp', 'baffle_a_temp_cyc', 'baffle_b_temp', 'baffle_b_temp_cyc', 'bb_1_temp', 'bb_1_temp_cyc', 'bb_2_temp', 'cmd', 'commands_executed', 'commands_received', 'commands_rejected', 'date', 'dumping', 'el_actuator_temp', 'error_count', 'error_detail', 'error_id', 'error_time', 'est_index', 'fpa_temp', 'fpa_temp_cyc', 'fpb_temp', 'fpb_temp_cyc', 'freezing', 'from_pkt', 'frozen', 'hybrid_temp', 'last_az_cmd', 'last_command_rec', 'last_el_cmd', 'last_eqx_prediction', 'last_time_command', 'min_15v', 'moving', 'oba_1_temp', 'oba_1_temp_cyc', 'oba_2_temp', 'ost_index', 'pkt_count', 'plu_15v', 'plu_5v', 'q', 'req_id', 'rolling', 'safed', 'safing', 'sc_time_secs', 'sc_time_subs', 'sclk', 'solar_base_temp', 'solar_target_temp', 'sounding', 'sst_index', 'temp_fault', 'ticks_at_sc_time', 'ticks_pkt_start', 'utc', 'yoke_temp']\n"
     ]
    }
   ],
   "source": [
    "print(fu.L1AHeader.metadatacols)"
   ]
  },
  {
   "cell_type": "code",
   "execution_count": 49,
   "metadata": {},
   "outputs": [
    {
     "data": {
      "text/plain": [
       "PosixPath('/luna2/maye/rdr_data/2013052205_RDR.TAB.zip')"
      ]
     },
     "execution_count": 49,
     "metadata": {},
     "output_type": "execute_result"
    }
   ],
   "source": [
    "p"
   ]
  },
  {
   "cell_type": "markdown",
   "metadata": {},
   "source": [
    "### add GroundCalibFile test\n",
    "\n",
    "(where?)"
   ]
  },
  {
   "cell_type": "code",
   "execution_count": 50,
   "metadata": {},
   "outputs": [
    {
     "data": {
      "text/plain": [
       "PosixPath('/luna2/maye/rdr_data/2013052205_RDR.TAB.zip')"
      ]
     },
     "execution_count": 50,
     "metadata": {},
     "output_type": "execute_result"
    }
   ],
   "source": [
    "p"
   ]
  },
  {
   "cell_type": "code",
   "execution_count": 51,
   "metadata": {},
   "outputs": [
    {
     "data": {
      "text/plain": [
       "'/luna5/marks/feidata/DIV:opsRdr/data'"
      ]
     },
     "execution_count": 51,
     "metadata": {},
     "output_type": "execute_result"
    }
   ],
   "source": [
    "fu.RDRReader.datapath"
   ]
  },
  {
   "cell_type": "code",
   "execution_count": 52,
   "metadata": {},
   "outputs": [
    {
     "name": "stdout",
     "output_type": "stream",
     "text": [
      "2010011317\n"
     ]
    }
   ],
   "source": [
    "print(tstr_accumulate)\n",
    "rdr = fu.RDRReader.from_tstr(tstr_accumulate)"
   ]
  },
  {
   "cell_type": "code",
   "execution_count": 53,
   "metadata": {},
   "outputs": [
    {
     "data": {
      "text/plain": [
       "'/luna5/marks/feidata/DIV:opsRdr/data/2010011317_RDR.TAB.zip'"
      ]
     },
     "execution_count": 53,
     "metadata": {},
     "output_type": "execute_result"
    }
   ],
   "source": [
    "rdr.fname"
   ]
  },
  {
   "cell_type": "code",
   "execution_count": 54,
   "metadata": {},
   "outputs": [
    {
     "name": "stdout",
     "output_type": "stream",
     "text": [
      "['date', 'utc', 'jdate', 'orbit', 'sundist', 'sunlat', 'sunlon', 'sclk', 'sclat', 'sclon', 'scrad', 'scalt', 'el_cmd', 'az_cmd', 'af', 'orientlat', 'orientlon', 'c', 'det', 'vlookx', 'vlooky', 'vlookz', 'radiance', 'tb', 'clat', 'clon', 'cemis', 'csunzen', 'csunazi', 'cloctime', 'qca', 'qge', 'qmi']\n"
     ]
    }
   ],
   "source": [
    "print(rdr.headers)"
   ]
  },
  {
   "cell_type": "code",
   "execution_count": 55,
   "metadata": {},
   "outputs": [
    {
     "ename": "AttributeError",
     "evalue": "'RDRReader' object has no attribute 'find_fnames'",
     "output_type": "error",
     "traceback": [
      "\u001b[0;31m---------------------------------------------------------------------------\u001b[0m",
      "\u001b[0;31mAttributeError\u001b[0m                            Traceback (most recent call last)",
      "\u001b[0;32m<ipython-input-55-8460ba03e77e>\u001b[0m in \u001b[0;36m<module>\u001b[0;34m\u001b[0m\n\u001b[0;32m----> 1\u001b[0;31m \u001b[0mrdr\u001b[0m\u001b[0;34m.\u001b[0m\u001b[0mfind_fnames\u001b[0m\u001b[0;34m(\u001b[0m\u001b[0;34m)\u001b[0m\u001b[0;34m\u001b[0m\u001b[0;34m\u001b[0m\u001b[0m\n\u001b[0m",
      "\u001b[0;31mAttributeError\u001b[0m: 'RDRReader' object has no attribute 'find_fnames'"
     ]
    }
   ],
   "source": [
    "rdr.find_fnames()"
   ]
  },
  {
   "cell_type": "code",
   "execution_count": 56,
   "metadata": {},
   "outputs": [],
   "source": [
    "df = rdr.open()"
   ]
  },
  {
   "cell_type": "code",
   "execution_count": 57,
   "metadata": {},
   "outputs": [
    {
     "data": {
      "text/html": [
       "<div>\n",
       "<style scoped>\n",
       "    .dataframe tbody tr th:only-of-type {\n",
       "        vertical-align: middle;\n",
       "    }\n",
       "\n",
       "    .dataframe tbody tr th {\n",
       "        vertical-align: top;\n",
       "    }\n",
       "\n",
       "    .dataframe thead th {\n",
       "        text-align: right;\n",
       "    }\n",
       "</style>\n",
       "<table border=\"1\" class=\"dataframe\">\n",
       "  <thead>\n",
       "    <tr style=\"text-align: right;\">\n",
       "      <th></th>\n",
       "      <th>jdate</th>\n",
       "      <th>orbit</th>\n",
       "      <th>sundist</th>\n",
       "      <th>sunlat</th>\n",
       "      <th>sunlon</th>\n",
       "      <th>sclk</th>\n",
       "      <th>sclat</th>\n",
       "      <th>sclon</th>\n",
       "      <th>scrad</th>\n",
       "      <th>scalt</th>\n",
       "      <th>...</th>\n",
       "      <th>tb</th>\n",
       "      <th>clat</th>\n",
       "      <th>clon</th>\n",
       "      <th>cemis</th>\n",
       "      <th>csunzen</th>\n",
       "      <th>csunazi</th>\n",
       "      <th>cloctime</th>\n",
       "      <th>qca</th>\n",
       "      <th>qge</th>\n",
       "      <th>qmi</th>\n",
       "    </tr>\n",
       "  </thead>\n",
       "  <tbody>\n",
       "    <tr>\n",
       "      <th>2010-01-13 17:00:00.057</th>\n",
       "      <td>2.455210e+06</td>\n",
       "      <td>2529</td>\n",
       "      <td>0.98103</td>\n",
       "      <td>0.08427</td>\n",
       "      <td>200.87921</td>\n",
       "      <td>2.850948e+08</td>\n",
       "      <td>-28.06408</td>\n",
       "      <td>96.5227</td>\n",
       "      <td>1803.89718</td>\n",
       "      <td>66.64996</td>\n",
       "      <td>...</td>\n",
       "      <td>0.837</td>\n",
       "      <td>-9999.0</td>\n",
       "      <td>-9999.0</td>\n",
       "      <td>-9999.0</td>\n",
       "      <td>-9999.0</td>\n",
       "      <td>-9999.0</td>\n",
       "      <td>-9999.0</td>\n",
       "      <td>2</td>\n",
       "      <td>12</td>\n",
       "      <td>32</td>\n",
       "    </tr>\n",
       "    <tr>\n",
       "      <th>2010-01-13 17:00:00.057</th>\n",
       "      <td>2.455210e+06</td>\n",
       "      <td>2529</td>\n",
       "      <td>0.98103</td>\n",
       "      <td>0.08427</td>\n",
       "      <td>200.87921</td>\n",
       "      <td>2.850948e+08</td>\n",
       "      <td>-28.06408</td>\n",
       "      <td>96.5227</td>\n",
       "      <td>1803.89718</td>\n",
       "      <td>66.64996</td>\n",
       "      <td>...</td>\n",
       "      <td>0.829</td>\n",
       "      <td>-9999.0</td>\n",
       "      <td>-9999.0</td>\n",
       "      <td>-9999.0</td>\n",
       "      <td>-9999.0</td>\n",
       "      <td>-9999.0</td>\n",
       "      <td>-9999.0</td>\n",
       "      <td>2</td>\n",
       "      <td>12</td>\n",
       "      <td>32</td>\n",
       "    </tr>\n",
       "    <tr>\n",
       "      <th>2010-01-13 17:00:00.057</th>\n",
       "      <td>2.455210e+06</td>\n",
       "      <td>2529</td>\n",
       "      <td>0.98103</td>\n",
       "      <td>0.08427</td>\n",
       "      <td>200.87921</td>\n",
       "      <td>2.850948e+08</td>\n",
       "      <td>-28.06408</td>\n",
       "      <td>96.5227</td>\n",
       "      <td>1803.89718</td>\n",
       "      <td>66.64996</td>\n",
       "      <td>...</td>\n",
       "      <td>0.880</td>\n",
       "      <td>-9999.0</td>\n",
       "      <td>-9999.0</td>\n",
       "      <td>-9999.0</td>\n",
       "      <td>-9999.0</td>\n",
       "      <td>-9999.0</td>\n",
       "      <td>-9999.0</td>\n",
       "      <td>2</td>\n",
       "      <td>12</td>\n",
       "      <td>32</td>\n",
       "    </tr>\n",
       "    <tr>\n",
       "      <th>2010-01-13 17:00:00.057</th>\n",
       "      <td>2.455210e+06</td>\n",
       "      <td>2529</td>\n",
       "      <td>0.98103</td>\n",
       "      <td>0.08427</td>\n",
       "      <td>200.87921</td>\n",
       "      <td>2.850948e+08</td>\n",
       "      <td>-28.06408</td>\n",
       "      <td>96.5227</td>\n",
       "      <td>1803.89718</td>\n",
       "      <td>66.64996</td>\n",
       "      <td>...</td>\n",
       "      <td>0.849</td>\n",
       "      <td>-9999.0</td>\n",
       "      <td>-9999.0</td>\n",
       "      <td>-9999.0</td>\n",
       "      <td>-9999.0</td>\n",
       "      <td>-9999.0</td>\n",
       "      <td>-9999.0</td>\n",
       "      <td>2</td>\n",
       "      <td>12</td>\n",
       "      <td>32</td>\n",
       "    </tr>\n",
       "    <tr>\n",
       "      <th>2010-01-13 17:00:00.057</th>\n",
       "      <td>2.455210e+06</td>\n",
       "      <td>2529</td>\n",
       "      <td>0.98103</td>\n",
       "      <td>0.08427</td>\n",
       "      <td>200.87921</td>\n",
       "      <td>2.850948e+08</td>\n",
       "      <td>-28.06408</td>\n",
       "      <td>96.5227</td>\n",
       "      <td>1803.89718</td>\n",
       "      <td>66.64996</td>\n",
       "      <td>...</td>\n",
       "      <td>0.887</td>\n",
       "      <td>-9999.0</td>\n",
       "      <td>-9999.0</td>\n",
       "      <td>-9999.0</td>\n",
       "      <td>-9999.0</td>\n",
       "      <td>-9999.0</td>\n",
       "      <td>-9999.0</td>\n",
       "      <td>2</td>\n",
       "      <td>12</td>\n",
       "      <td>32</td>\n",
       "    </tr>\n",
       "  </tbody>\n",
       "</table>\n",
       "<p>5 rows × 31 columns</p>\n",
       "</div>"
      ],
      "text/plain": [
       "                                jdate  orbit  sundist   sunlat     sunlon  \\\n",
       "2010-01-13 17:00:00.057  2.455210e+06   2529  0.98103  0.08427  200.87921   \n",
       "2010-01-13 17:00:00.057  2.455210e+06   2529  0.98103  0.08427  200.87921   \n",
       "2010-01-13 17:00:00.057  2.455210e+06   2529  0.98103  0.08427  200.87921   \n",
       "2010-01-13 17:00:00.057  2.455210e+06   2529  0.98103  0.08427  200.87921   \n",
       "2010-01-13 17:00:00.057  2.455210e+06   2529  0.98103  0.08427  200.87921   \n",
       "\n",
       "                                 sclk     sclat    sclon       scrad  \\\n",
       "2010-01-13 17:00:00.057  2.850948e+08 -28.06408  96.5227  1803.89718   \n",
       "2010-01-13 17:00:00.057  2.850948e+08 -28.06408  96.5227  1803.89718   \n",
       "2010-01-13 17:00:00.057  2.850948e+08 -28.06408  96.5227  1803.89718   \n",
       "2010-01-13 17:00:00.057  2.850948e+08 -28.06408  96.5227  1803.89718   \n",
       "2010-01-13 17:00:00.057  2.850948e+08 -28.06408  96.5227  1803.89718   \n",
       "\n",
       "                            scalt  ...     tb    clat    clon   cemis  \\\n",
       "2010-01-13 17:00:00.057  66.64996  ...  0.837 -9999.0 -9999.0 -9999.0   \n",
       "2010-01-13 17:00:00.057  66.64996  ...  0.829 -9999.0 -9999.0 -9999.0   \n",
       "2010-01-13 17:00:00.057  66.64996  ...  0.880 -9999.0 -9999.0 -9999.0   \n",
       "2010-01-13 17:00:00.057  66.64996  ...  0.849 -9999.0 -9999.0 -9999.0   \n",
       "2010-01-13 17:00:00.057  66.64996  ...  0.887 -9999.0 -9999.0 -9999.0   \n",
       "\n",
       "                         csunzen  csunazi  cloctime  qca  qge  qmi  \n",
       "2010-01-13 17:00:00.057  -9999.0  -9999.0   -9999.0    2   12   32  \n",
       "2010-01-13 17:00:00.057  -9999.0  -9999.0   -9999.0    2   12   32  \n",
       "2010-01-13 17:00:00.057  -9999.0  -9999.0   -9999.0    2   12   32  \n",
       "2010-01-13 17:00:00.057  -9999.0  -9999.0   -9999.0    2   12   32  \n",
       "2010-01-13 17:00:00.057  -9999.0  -9999.0   -9999.0    2   12   32  \n",
       "\n",
       "[5 rows x 31 columns]"
      ]
     },
     "execution_count": 57,
     "metadata": {},
     "output_type": "execute_result"
    }
   ],
   "source": [
    "df.head()"
   ]
  },
  {
   "cell_type": "code",
   "execution_count": 58,
   "metadata": {},
   "outputs": [
    {
     "data": {
      "text/plain": [
       "(5315436, 31)"
      ]
     },
     "execution_count": 58,
     "metadata": {},
     "output_type": "execute_result"
    }
   ],
   "source": [
    "df.shape"
   ]
  },
  {
   "cell_type": "code",
   "execution_count": 59,
   "metadata": {},
   "outputs": [
    {
     "data": {
      "text/html": [
       "<div>\n",
       "<style scoped>\n",
       "    .dataframe tbody tr th:only-of-type {\n",
       "        vertical-align: middle;\n",
       "    }\n",
       "\n",
       "    .dataframe tbody tr th {\n",
       "        vertical-align: top;\n",
       "    }\n",
       "\n",
       "    .dataframe thead th {\n",
       "        text-align: right;\n",
       "    }\n",
       "</style>\n",
       "<table border=\"1\" class=\"dataframe\">\n",
       "  <thead>\n",
       "    <tr style=\"text-align: right;\">\n",
       "      <th></th>\n",
       "      <th>jdate</th>\n",
       "      <th>orbit</th>\n",
       "      <th>sundist</th>\n",
       "      <th>sunlat</th>\n",
       "      <th>sunlon</th>\n",
       "      <th>sclk</th>\n",
       "      <th>sclat</th>\n",
       "      <th>sclon</th>\n",
       "      <th>scrad</th>\n",
       "      <th>scalt</th>\n",
       "      <th>...</th>\n",
       "      <th>tb</th>\n",
       "      <th>clat</th>\n",
       "      <th>clon</th>\n",
       "      <th>cemis</th>\n",
       "      <th>csunzen</th>\n",
       "      <th>csunazi</th>\n",
       "      <th>cloctime</th>\n",
       "      <th>qca</th>\n",
       "      <th>qge</th>\n",
       "      <th>qmi</th>\n",
       "    </tr>\n",
       "  </thead>\n",
       "  <tbody>\n",
       "    <tr>\n",
       "      <th>2010-01-13 17:59:59.883</th>\n",
       "      <td>2.455210e+06</td>\n",
       "      <td>2530</td>\n",
       "      <td>0.98103</td>\n",
       "      <td>0.08525</td>\n",
       "      <td>200.37142</td>\n",
       "      <td>2.850984e+08</td>\n",
       "      <td>36.07294</td>\n",
       "      <td>276.12927</td>\n",
       "      <td>1795.01459</td>\n",
       "      <td>57.4746</td>\n",
       "      <td>...</td>\n",
       "      <td>-9999.0</td>\n",
       "      <td>-9999.0</td>\n",
       "      <td>-9999.0</td>\n",
       "      <td>-9999.0</td>\n",
       "      <td>-9999.0</td>\n",
       "      <td>-9999.0</td>\n",
       "      <td>-9999.0</td>\n",
       "      <td>8</td>\n",
       "      <td>12</td>\n",
       "      <td>32</td>\n",
       "    </tr>\n",
       "    <tr>\n",
       "      <th>2010-01-13 17:59:59.883</th>\n",
       "      <td>2.455210e+06</td>\n",
       "      <td>2530</td>\n",
       "      <td>0.98103</td>\n",
       "      <td>0.08525</td>\n",
       "      <td>200.37142</td>\n",
       "      <td>2.850984e+08</td>\n",
       "      <td>36.07294</td>\n",
       "      <td>276.12927</td>\n",
       "      <td>1795.01459</td>\n",
       "      <td>57.4746</td>\n",
       "      <td>...</td>\n",
       "      <td>-9999.0</td>\n",
       "      <td>-9999.0</td>\n",
       "      <td>-9999.0</td>\n",
       "      <td>-9999.0</td>\n",
       "      <td>-9999.0</td>\n",
       "      <td>-9999.0</td>\n",
       "      <td>-9999.0</td>\n",
       "      <td>8</td>\n",
       "      <td>12</td>\n",
       "      <td>32</td>\n",
       "    </tr>\n",
       "    <tr>\n",
       "      <th>2010-01-13 17:59:59.883</th>\n",
       "      <td>2.455210e+06</td>\n",
       "      <td>2530</td>\n",
       "      <td>0.98103</td>\n",
       "      <td>0.08525</td>\n",
       "      <td>200.37142</td>\n",
       "      <td>2.850984e+08</td>\n",
       "      <td>36.07294</td>\n",
       "      <td>276.12927</td>\n",
       "      <td>1795.01459</td>\n",
       "      <td>57.4746</td>\n",
       "      <td>...</td>\n",
       "      <td>-9999.0</td>\n",
       "      <td>-9999.0</td>\n",
       "      <td>-9999.0</td>\n",
       "      <td>-9999.0</td>\n",
       "      <td>-9999.0</td>\n",
       "      <td>-9999.0</td>\n",
       "      <td>-9999.0</td>\n",
       "      <td>8</td>\n",
       "      <td>12</td>\n",
       "      <td>32</td>\n",
       "    </tr>\n",
       "    <tr>\n",
       "      <th>2010-01-13 17:59:59.883</th>\n",
       "      <td>2.455210e+06</td>\n",
       "      <td>2530</td>\n",
       "      <td>0.98103</td>\n",
       "      <td>0.08525</td>\n",
       "      <td>200.37142</td>\n",
       "      <td>2.850984e+08</td>\n",
       "      <td>36.07294</td>\n",
       "      <td>276.12927</td>\n",
       "      <td>1795.01459</td>\n",
       "      <td>57.4746</td>\n",
       "      <td>...</td>\n",
       "      <td>-9999.0</td>\n",
       "      <td>-9999.0</td>\n",
       "      <td>-9999.0</td>\n",
       "      <td>-9999.0</td>\n",
       "      <td>-9999.0</td>\n",
       "      <td>-9999.0</td>\n",
       "      <td>-9999.0</td>\n",
       "      <td>8</td>\n",
       "      <td>12</td>\n",
       "      <td>32</td>\n",
       "    </tr>\n",
       "    <tr>\n",
       "      <th>2010-01-13 17:59:59.883</th>\n",
       "      <td>2.455210e+06</td>\n",
       "      <td>2530</td>\n",
       "      <td>0.98103</td>\n",
       "      <td>0.08525</td>\n",
       "      <td>200.37142</td>\n",
       "      <td>2.850984e+08</td>\n",
       "      <td>36.07294</td>\n",
       "      <td>276.12927</td>\n",
       "      <td>1795.01459</td>\n",
       "      <td>57.4746</td>\n",
       "      <td>...</td>\n",
       "      <td>-9999.0</td>\n",
       "      <td>-9999.0</td>\n",
       "      <td>-9999.0</td>\n",
       "      <td>-9999.0</td>\n",
       "      <td>-9999.0</td>\n",
       "      <td>-9999.0</td>\n",
       "      <td>-9999.0</td>\n",
       "      <td>8</td>\n",
       "      <td>12</td>\n",
       "      <td>32</td>\n",
       "    </tr>\n",
       "  </tbody>\n",
       "</table>\n",
       "<p>5 rows × 31 columns</p>\n",
       "</div>"
      ],
      "text/plain": [
       "                                jdate  orbit  sundist   sunlat     sunlon  \\\n",
       "2010-01-13 17:59:59.883  2.455210e+06   2530  0.98103  0.08525  200.37142   \n",
       "2010-01-13 17:59:59.883  2.455210e+06   2530  0.98103  0.08525  200.37142   \n",
       "2010-01-13 17:59:59.883  2.455210e+06   2530  0.98103  0.08525  200.37142   \n",
       "2010-01-13 17:59:59.883  2.455210e+06   2530  0.98103  0.08525  200.37142   \n",
       "2010-01-13 17:59:59.883  2.455210e+06   2530  0.98103  0.08525  200.37142   \n",
       "\n",
       "                                 sclk     sclat      sclon       scrad  \\\n",
       "2010-01-13 17:59:59.883  2.850984e+08  36.07294  276.12927  1795.01459   \n",
       "2010-01-13 17:59:59.883  2.850984e+08  36.07294  276.12927  1795.01459   \n",
       "2010-01-13 17:59:59.883  2.850984e+08  36.07294  276.12927  1795.01459   \n",
       "2010-01-13 17:59:59.883  2.850984e+08  36.07294  276.12927  1795.01459   \n",
       "2010-01-13 17:59:59.883  2.850984e+08  36.07294  276.12927  1795.01459   \n",
       "\n",
       "                           scalt  ...      tb    clat    clon   cemis  \\\n",
       "2010-01-13 17:59:59.883  57.4746  ... -9999.0 -9999.0 -9999.0 -9999.0   \n",
       "2010-01-13 17:59:59.883  57.4746  ... -9999.0 -9999.0 -9999.0 -9999.0   \n",
       "2010-01-13 17:59:59.883  57.4746  ... -9999.0 -9999.0 -9999.0 -9999.0   \n",
       "2010-01-13 17:59:59.883  57.4746  ... -9999.0 -9999.0 -9999.0 -9999.0   \n",
       "2010-01-13 17:59:59.883  57.4746  ... -9999.0 -9999.0 -9999.0 -9999.0   \n",
       "\n",
       "                         csunzen  csunazi  cloctime  qca  qge  qmi  \n",
       "2010-01-13 17:59:59.883  -9999.0  -9999.0   -9999.0    8   12   32  \n",
       "2010-01-13 17:59:59.883  -9999.0  -9999.0   -9999.0    8   12   32  \n",
       "2010-01-13 17:59:59.883  -9999.0  -9999.0   -9999.0    8   12   32  \n",
       "2010-01-13 17:59:59.883  -9999.0  -9999.0   -9999.0    8   12   32  \n",
       "2010-01-13 17:59:59.883  -9999.0  -9999.0   -9999.0    8   12   32  \n",
       "\n",
       "[5 rows x 31 columns]"
      ]
     },
     "execution_count": 59,
     "metadata": {},
     "output_type": "execute_result"
    }
   ],
   "source": [
    "df.tail()"
   ]
  },
  {
   "cell_type": "code",
   "execution_count": 60,
   "metadata": {},
   "outputs": [],
   "source": [
    "import zipfile"
   ]
  },
  {
   "cell_type": "code",
   "execution_count": 61,
   "metadata": {},
   "outputs": [
    {
     "data": {
      "text/plain": [
       "False"
      ]
     },
     "execution_count": 61,
     "metadata": {},
     "output_type": "execute_result"
    }
   ],
   "source": [
    "isinstance(p, zipfile.ZipFile)"
   ]
  },
  {
   "cell_type": "code",
   "execution_count": 62,
   "metadata": {},
   "outputs": [
    {
     "data": {
      "text/plain": [
       "PosixPath('/luna2/maye/rdr_data/2013052205_RDR.TAB.zip')"
      ]
     },
     "execution_count": 62,
     "metadata": {},
     "output_type": "execute_result"
    }
   ],
   "source": [
    "p"
   ]
  },
  {
   "cell_type": "code",
   "execution_count": 10,
   "metadata": {},
   "outputs": [],
   "source": [
    "zfile = zipfile.ZipFile(p)"
   ]
  },
  {
   "cell_type": "code",
   "execution_count": 11,
   "metadata": {},
   "outputs": [],
   "source": [
    "f = zfile.open(zfile.namelist()[0])"
   ]
  },
  {
   "cell_type": "code",
   "execution_count": 12,
   "metadata": {},
   "outputs": [],
   "source": [
    "line = f.readline()"
   ]
  },
  {
   "cell_type": "code",
   "execution_count": 13,
   "metadata": {},
   "outputs": [
    {
     "data": {
      "text/plain": [
       "bytes"
      ]
     },
     "execution_count": 13,
     "metadata": {},
     "output_type": "execute_result"
    }
   ],
   "source": [
    "type(line)"
   ]
  },
  {
   "cell_type": "code",
   "execution_count": 14,
   "metadata": {},
   "outputs": [
    {
     "data": {
      "text/plain": [
       "'#        date,            utc,             jdate, orbit, sundist,   sunlat,    sunlon,             sclk,     sclat,     sclon,       scrad,       scalt,  el_cmd,  az_cmd,   af, orientlat, orientlon, c, det,    vlookx,    vlooky,    vlookz,   radiance,       tb,      clat,      clon,     cemis,   csunzen,   csunazi, cloctime, qca, qge, qmi\\n'"
      ]
     },
     "execution_count": 14,
     "metadata": {},
     "output_type": "execute_result"
    }
   ],
   "source": [
    "line.decode('utf-8')"
   ]
  },
  {
   "cell_type": "code",
   "execution_count": 5,
   "metadata": {},
   "outputs": [
    {
     "ename": "NameError",
     "evalue": "name 'df' is not defined",
     "output_type": "error",
     "traceback": [
      "\u001b[0;31m---------------------------------------------------------------------------\u001b[0m",
      "\u001b[0;31mNameError\u001b[0m                                 Traceback (most recent call last)",
      "\u001b[0;32m<ipython-input-5-08c554537916>\u001b[0m in \u001b[0;36m<module>\u001b[0;34m\u001b[0m\n\u001b[0;32m----> 1\u001b[0;31m \u001b[0mdf\u001b[0m\u001b[0;34m.\u001b[0m\u001b[0mindex\u001b[0m\u001b[0;34m\u001b[0m\u001b[0m\n\u001b[0m",
      "\u001b[0;31mNameError\u001b[0m: name 'df' is not defined"
     ]
    }
   ],
   "source": [
    "df.index"
   ]
  },
  {
   "cell_type": "code",
   "execution_count": 5,
   "metadata": {},
   "outputs": [
    {
     "data": {
      "text/plain": [
       "<matplotlib.axes.AxesSubplot at 0x11776d210>"
      ]
     },
     "execution_count": 5,
     "metadata": {},
     "output_type": "execute_result"
    }
   ],
   "source": [
    "df.b3_11.plot()"
   ]
  },
  {
   "cell_type": "code",
   "execution_count": 63,
   "metadata": {},
   "outputs": [],
   "source": [
    "obs = fu.DivObs(tstr_accumulate)"
   ]
  },
  {
   "cell_type": "code",
   "execution_count": 64,
   "metadata": {},
   "outputs": [],
   "source": [
    "df =obs.get_l1a()"
   ]
  },
  {
   "cell_type": "code",
   "execution_count": 75,
   "metadata": {},
   "outputs": [],
   "source": [
    "from diviner import calib"
   ]
  },
  {
   "cell_type": "code",
   "execution_count": 79,
   "metadata": {},
   "outputs": [],
   "source": [
    "import logging\n",
    "import sys"
   ]
  },
  {
   "cell_type": "code",
   "execution_count": 80,
   "metadata": {},
   "outputs": [
    {
     "name": "stderr",
     "output_type": "stream",
     "text": [
      "INFO:diviner.calib:Calibrating from 2010-01-13 17:00:00.564000 to 2010-01-13 18:00:00.907000.\n"
     ]
    },
    {
     "name": "stdout",
     "output_type": "stream",
     "text": [
      "2019-02-09 23:15:44,675 - diviner.calib - INFO - Calibrating from 2010-01-13 17:00:00.564000 to 2010-01-13 18:00:00.907000.\n"
     ]
    },
    {
     "ename": "ValueError",
     "evalue": "No objects to concatenate",
     "output_type": "error",
     "traceback": [
      "\u001b[0;31m---------------------------------------------------------------------------\u001b[0m",
      "\u001b[0;31mValueError\u001b[0m                                Traceback (most recent call last)",
      "\u001b[0;32m<ipython-input-80-998289ec8932>\u001b[0m in \u001b[0;36m<module>\u001b[0;34m\u001b[0m\n\u001b[1;32m      8\u001b[0m \u001b[0mroot\u001b[0m\u001b[0;34m.\u001b[0m\u001b[0maddHandler\u001b[0m\u001b[0;34m(\u001b[0m\u001b[0mch\u001b[0m\u001b[0;34m)\u001b[0m\u001b[0;34m\u001b[0m\u001b[0;34m\u001b[0m\u001b[0m\n\u001b[1;32m      9\u001b[0m \u001b[0;34m\u001b[0m\u001b[0m\n\u001b[0;32m---> 10\u001b[0;31m \u001b[0mcalib\u001b[0m\u001b[0;34m.\u001b[0m\u001b[0mCalibrator\u001b[0m\u001b[0;34m(\u001b[0m\u001b[0mdf\u001b[0m\u001b[0;34m)\u001b[0m\u001b[0;34m.\u001b[0m\u001b[0mcalibrate\u001b[0m\u001b[0;34m(\u001b[0m\u001b[0;34m)\u001b[0m\u001b[0;34m\u001b[0m\u001b[0;34m\u001b[0m\u001b[0m\n\u001b[0m",
      "\u001b[0;32m~/src/diviner/diviner/calib.py\u001b[0m in \u001b[0;36mcalibrate\u001b[0;34m(self)\u001b[0m\n\u001b[1;32m    625\u001b[0m         \u001b[0;31m# Process CalBlocks\u001b[0m\u001b[0;34m\u001b[0m\u001b[0;34m\u001b[0m\u001b[0;34m\u001b[0m\u001b[0m\n\u001b[1;32m    626\u001b[0m         \u001b[0;31m#####\u001b[0m\u001b[0;34m\u001b[0m\u001b[0;34m\u001b[0m\u001b[0;34m\u001b[0m\u001b[0m\n\u001b[0;32m--> 627\u001b[0;31m         \u001b[0mself\u001b[0m\u001b[0;34m.\u001b[0m\u001b[0mprocess_calblocks\u001b[0m\u001b[0;34m(\u001b[0m\u001b[0;34m)\u001b[0m\u001b[0;34m\u001b[0m\u001b[0;34m\u001b[0m\u001b[0m\n\u001b[0m\u001b[1;32m    628\u001b[0m \u001b[0;34m\u001b[0m\u001b[0m\n\u001b[1;32m    629\u001b[0m         \u001b[0;31m#####\u001b[0m\u001b[0;34m\u001b[0m\u001b[0;34m\u001b[0m\u001b[0;34m\u001b[0m\u001b[0m\n",
      "\u001b[0;32m~/src/diviner/diviner/calib.py\u001b[0m in \u001b[0;36mprocess_calblocks\u001b[0;34m(self)\u001b[0m\n\u001b[1;32m    723\u001b[0m             \u001b[0mgain_container\u001b[0m\u001b[0;34m.\u001b[0m\u001b[0mappend\u001b[0m\u001b[0;34m(\u001b[0m\u001b[0mcb\u001b[0m\u001b[0;34m.\u001b[0m\u001b[0mget_gains\u001b[0m\u001b[0;34m(\u001b[0m\u001b[0;34m)\u001b[0m\u001b[0;34m)\u001b[0m\u001b[0;34m\u001b[0m\u001b[0;34m\u001b[0m\u001b[0m\n\u001b[1;32m    724\u001b[0m             \u001b[0moffset_container\u001b[0m\u001b[0;34m.\u001b[0m\u001b[0mappend\u001b[0m\u001b[0;34m(\u001b[0m\u001b[0mcb\u001b[0m\u001b[0;34m.\u001b[0m\u001b[0moffsets\u001b[0m\u001b[0;34m)\u001b[0m\u001b[0;34m\u001b[0m\u001b[0;34m\u001b[0m\u001b[0m\n\u001b[0;32m--> 725\u001b[0;31m         \u001b[0mself\u001b[0m\u001b[0;34m.\u001b[0m\u001b[0mgains\u001b[0m \u001b[0;34m=\u001b[0m \u001b[0mpd\u001b[0m\u001b[0;34m.\u001b[0m\u001b[0mconcat\u001b[0m\u001b[0;34m(\u001b[0m\u001b[0mgain_container\u001b[0m\u001b[0;34m)\u001b[0m\u001b[0;34m\u001b[0m\u001b[0;34m\u001b[0m\u001b[0m\n\u001b[0m\u001b[1;32m    726\u001b[0m         \u001b[0mself\u001b[0m\u001b[0;34m.\u001b[0m\u001b[0moffsets\u001b[0m \u001b[0;34m=\u001b[0m \u001b[0mpd\u001b[0m\u001b[0;34m.\u001b[0m\u001b[0mconcat\u001b[0m\u001b[0;34m(\u001b[0m\u001b[0moffset_container\u001b[0m\u001b[0;34m)\u001b[0m\u001b[0;34m\u001b[0m\u001b[0;34m\u001b[0m\u001b[0m\n\u001b[1;32m    727\u001b[0m \u001b[0;34m\u001b[0m\u001b[0m\n",
      "\u001b[0;32m/usr/local/epd/miniconda/envs/py37/lib/python3.7/site-packages/pandas/core/reshape/concat.py\u001b[0m in \u001b[0;36mconcat\u001b[0;34m(objs, axis, join, join_axes, ignore_index, keys, levels, names, verify_integrity, sort, copy)\u001b[0m\n\u001b[1;32m    226\u001b[0m                        \u001b[0mkeys\u001b[0m\u001b[0;34m=\u001b[0m\u001b[0mkeys\u001b[0m\u001b[0;34m,\u001b[0m \u001b[0mlevels\u001b[0m\u001b[0;34m=\u001b[0m\u001b[0mlevels\u001b[0m\u001b[0;34m,\u001b[0m \u001b[0mnames\u001b[0m\u001b[0;34m=\u001b[0m\u001b[0mnames\u001b[0m\u001b[0;34m,\u001b[0m\u001b[0;34m\u001b[0m\u001b[0;34m\u001b[0m\u001b[0m\n\u001b[1;32m    227\u001b[0m                        \u001b[0mverify_integrity\u001b[0m\u001b[0;34m=\u001b[0m\u001b[0mverify_integrity\u001b[0m\u001b[0;34m,\u001b[0m\u001b[0;34m\u001b[0m\u001b[0;34m\u001b[0m\u001b[0m\n\u001b[0;32m--> 228\u001b[0;31m                        copy=copy, sort=sort)\n\u001b[0m\u001b[1;32m    229\u001b[0m     \u001b[0;32mreturn\u001b[0m \u001b[0mop\u001b[0m\u001b[0;34m.\u001b[0m\u001b[0mget_result\u001b[0m\u001b[0;34m(\u001b[0m\u001b[0;34m)\u001b[0m\u001b[0;34m\u001b[0m\u001b[0;34m\u001b[0m\u001b[0m\n\u001b[1;32m    230\u001b[0m \u001b[0;34m\u001b[0m\u001b[0m\n",
      "\u001b[0;32m/usr/local/epd/miniconda/envs/py37/lib/python3.7/site-packages/pandas/core/reshape/concat.py\u001b[0m in \u001b[0;36m__init__\u001b[0;34m(self, objs, axis, join, join_axes, keys, levels, names, ignore_index, verify_integrity, copy, sort)\u001b[0m\n\u001b[1;32m    260\u001b[0m \u001b[0;34m\u001b[0m\u001b[0m\n\u001b[1;32m    261\u001b[0m         \u001b[0;32mif\u001b[0m \u001b[0mlen\u001b[0m\u001b[0;34m(\u001b[0m\u001b[0mobjs\u001b[0m\u001b[0;34m)\u001b[0m \u001b[0;34m==\u001b[0m \u001b[0;36m0\u001b[0m\u001b[0;34m:\u001b[0m\u001b[0;34m\u001b[0m\u001b[0;34m\u001b[0m\u001b[0m\n\u001b[0;32m--> 262\u001b[0;31m             \u001b[0;32mraise\u001b[0m \u001b[0mValueError\u001b[0m\u001b[0;34m(\u001b[0m\u001b[0;34m'No objects to concatenate'\u001b[0m\u001b[0;34m)\u001b[0m\u001b[0;34m\u001b[0m\u001b[0;34m\u001b[0m\u001b[0m\n\u001b[0m\u001b[1;32m    263\u001b[0m \u001b[0;34m\u001b[0m\u001b[0m\n\u001b[1;32m    264\u001b[0m         \u001b[0;32mif\u001b[0m \u001b[0mkeys\u001b[0m \u001b[0;32mis\u001b[0m \u001b[0;32mNone\u001b[0m\u001b[0;34m:\u001b[0m\u001b[0;34m\u001b[0m\u001b[0;34m\u001b[0m\u001b[0m\n",
      "\u001b[0;31mValueError\u001b[0m: No objects to concatenate"
     ]
    }
   ],
   "source": [
    "root = logging.getLogger()\n",
    "root.setLevel(logging.DEBUG)\n",
    "\n",
    "ch = logging.StreamHandler(sys.stdout)\n",
    "ch.setLevel(logging.DEBUG)\n",
    "formatter = logging.Formatter('%(asctime)s - %(name)s - %(levelname)s - %(message)s')\n",
    "ch.setFormatter(formatter)\n",
    "root.addHandler(ch)\n",
    "\n",
    "calib.Calibrator(df).calibrate()"
   ]
  },
  {
   "cell_type": "code",
   "execution_count": 26,
   "metadata": {},
   "outputs": [
    {
     "ename": "TypeError",
     "evalue": "argument of type 'StreamHandler' is not iterable",
     "output_type": "error",
     "traceback": [
      "\u001b[0;31m---------------------------------------------------------------------------\u001b[0m\n\u001b[0;31mTypeError\u001b[0m                                 Traceback (most recent call last)",
      "\u001b[0;32m<ipython-input-26-e239325c6bb1>\u001b[0m in \u001b[0;36m<module>\u001b[0;34m()\u001b[0m\n\u001b[1;32m      6\u001b[0m \u001b[0mformatter\u001b[0m \u001b[0;34m=\u001b[0m \u001b[0mlogging\u001b[0m\u001b[0;34m.\u001b[0m\u001b[0mFormatter\u001b[0m\u001b[0;34m(\u001b[0m\u001b[0;34m'%(asctime)s - %(name)s - %(levelname)s - %(message)s'\u001b[0m\u001b[0;34m)\u001b[0m\u001b[0;34m\u001b[0m\u001b[0m\n\u001b[1;32m      7\u001b[0m \u001b[0mch\u001b[0m\u001b[0;34m.\u001b[0m\u001b[0msetFormatter\u001b[0m\u001b[0;34m(\u001b[0m\u001b[0mformatter\u001b[0m\u001b[0;34m)\u001b[0m\u001b[0;34m\u001b[0m\u001b[0m\n\u001b[0;32m----> 8\u001b[0;31m \u001b[0mroot\u001b[0m\u001b[0;34m.\u001b[0m\u001b[0maddHandler\u001b[0m\u001b[0;34m(\u001b[0m\u001b[0mch\u001b[0m\u001b[0;34m)\u001b[0m\u001b[0;34m\u001b[0m\u001b[0m\n\u001b[0m",
      "\u001b[0;32m/Applications/Canopy.app/appdata/canopy-1.3.0.1715.macosx-x86_64/Canopy.app/Contents/lib/python2.7/logging/__init__.pyc\u001b[0m in \u001b[0;36maddHandler\u001b[0;34m(self, hdlr)\u001b[0m\n\u001b[1;32m   1285\u001b[0m         \u001b[0m_acquireLock\u001b[0m\u001b[0;34m(\u001b[0m\u001b[0;34m)\u001b[0m\u001b[0;34m\u001b[0m\u001b[0m\n\u001b[1;32m   1286\u001b[0m         \u001b[0;32mtry\u001b[0m\u001b[0;34m:\u001b[0m\u001b[0;34m\u001b[0m\u001b[0m\n\u001b[0;32m-> 1287\u001b[0;31m             \u001b[0;32mif\u001b[0m \u001b[0;32mnot\u001b[0m \u001b[0;34m(\u001b[0m\u001b[0mhdlr\u001b[0m \u001b[0;32min\u001b[0m \u001b[0mself\u001b[0m\u001b[0;34m.\u001b[0m\u001b[0mhandlers\u001b[0m\u001b[0;34m)\u001b[0m\u001b[0;34m:\u001b[0m\u001b[0;34m\u001b[0m\u001b[0m\n\u001b[0m\u001b[1;32m   1288\u001b[0m                 \u001b[0mself\u001b[0m\u001b[0;34m.\u001b[0m\u001b[0mhandlers\u001b[0m\u001b[0;34m.\u001b[0m\u001b[0mappend\u001b[0m\u001b[0;34m(\u001b[0m\u001b[0mhdlr\u001b[0m\u001b[0;34m)\u001b[0m\u001b[0;34m\u001b[0m\u001b[0m\n\u001b[1;32m   1289\u001b[0m         \u001b[0;32mfinally\u001b[0m\u001b[0;34m:\u001b[0m\u001b[0;34m\u001b[0m\u001b[0m\n",
      "\u001b[0;31mTypeError\u001b[0m: argument of type 'StreamHandler' is not iterable"
     ]
    }
   ],
   "source": [
    "root = logging.getLogger()\n",
    "root.setLevel(logging.DEBUG)\n",
    "\n",
    "ch = logging.StreamHandler(sys.stdout)\n",
    "ch.setLevel(logging.DEBUG)\n",
    "formatter = logging.Formatter('%(asctime)s - %(name)s - %(levelname)s - %(message)s')\n",
    "ch.setFormatter(formatter)\n",
    "root.addHandler(ch)\n"
   ]
  },
  {
   "cell_type": "code",
   "execution_count": 29,
   "metadata": {},
   "outputs": [],
   "source": [
    "l = []\n",
    "l.append(root.handlers)"
   ]
  },
  {
   "cell_type": "code",
   "execution_count": 31,
   "metadata": {},
   "outputs": [],
   "source": [
    "root.handlers = l"
   ]
  },
  {
   "cell_type": "code",
   "execution_count": 25,
   "metadata": {},
   "outputs": [
    {
     "ename": "TypeError",
     "evalue": "'StreamHandler' object is not iterable",
     "output_type": "error",
     "traceback": [
      "\u001b[0;31m---------------------------------------------------------------------------\u001b[0m\n\u001b[0;31mTypeError\u001b[0m                                 Traceback (most recent call last)",
      "\u001b[0;32m<ipython-input-25-b915cbce928d>\u001b[0m in \u001b[0;36m<module>\u001b[0;34m()\u001b[0m\n\u001b[0;32m----> 1\u001b[0;31m \u001b[0mroot\u001b[0m\u001b[0;34m.\u001b[0m\u001b[0mhandlers\u001b[0m \u001b[0;34m=\u001b[0m \u001b[0mlist\u001b[0m\u001b[0;34m(\u001b[0m\u001b[0mroot\u001b[0m\u001b[0;34m.\u001b[0m\u001b[0mhandlers\u001b[0m\u001b[0;34m)\u001b[0m\u001b[0;34m\u001b[0m\u001b[0m\n\u001b[0m",
      "\u001b[0;31mTypeError\u001b[0m: 'StreamHandler' object is not iterable"
     ]
    }
   ],
   "source": [
    "root.handlers = list(root.handlers)"
   ]
  },
  {
   "cell_type": "code",
   "execution_count": 32,
   "metadata": {},
   "outputs": [
    {
     "name": "stdout",
     "output_type": "stream",
     "text": [
      "2014-04-21 12:37:30,806 - root - INFO - Calibrating from 2010-01-13 16:00:00.084000 to 2010-01-13 21:00:00.285000.\n",
      "2014-04-21 12:37:31,211 - root - DEBUG - Processing label 1\n",
      "2014-04-21 12:37:31,218 - root - INFO - Found less than 2 SPACE labels in CalBlock at 2010-01-13 16:00:00.084000.\n",
      "2014-04-21 12:37:31,220 - root - DEBUG - Processing label 2\n",
      "2014-04-21 12:37:31,222 - root - WARNING - No caldata in calib_label at 2010-01-13 16:00:00.084000.  Found only 96 moving samples.\n",
      "2014-04-21 12:37:31,222 - root - DEBUG - Processing label 3\n",
      "2014-04-21 12:37:31,359 - root - WARNING - Only one gain found. Propagating over whole hour at 2010-01-13 16:00:00.084000.\n",
      "2014-04-21 12:37:31,751 - root - WARNING - Only one offsets found. Propagating over whole hour at 2010-01-13 16:00:00.084000.\n",
      "2014-04-21 12:37:33,470 - root - INFO - Performing radiance correction on 2010-01-13 16:00:00.084000\n",
      "2014-04-21 12:37:34,602 - root - DEBUG - Calculated radiances.\n",
      "2014-04-21 12:37:35,432 - root - DEBUG - Calculated brightness temperatures.\n"
     ]
    }
   ],
   "source": [
    "calib.Calibrator(df).calibrate()"
   ]
  },
  {
   "cell_type": "code",
   "execution_count": null,
   "metadata": {},
   "outputs": [],
   "source": []
  }
 ],
 "metadata": {
  "kernelspec": {
   "display_name": "Python 3",
   "language": "python",
   "name": "python3"
  },
  "language_info": {
   "codemirror_mode": {
    "name": "ipython",
    "version": 3
   },
   "file_extension": ".py",
   "mimetype": "text/x-python",
   "name": "python",
   "nbconvert_exporter": "python",
   "pygments_lexer": "ipython3",
   "version": "3.7.6"
  },
  "widgets": {
   "application/vnd.jupyter.widget-state+json": {
    "state": {},
    "version_major": 2,
    "version_minor": 0
   }
  }
 },
 "nbformat": 4,
 "nbformat_minor": 4
}
