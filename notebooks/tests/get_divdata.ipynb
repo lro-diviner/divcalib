{
 "cells": [
  {
   "cell_type": "code",
   "execution_count": 1,
   "metadata": {
    "collapsed": false,
    "jupyter": {
     "outputs_hidden": false
    }
   },
   "outputs": [],
   "source": [
    "from diviner import file_utils as fu\n",
    "import pandas as pd\n",
    "from diviner import data_prep as dp"
   ]
  },
  {
   "cell_type": "code",
   "execution_count": 2,
   "metadata": {
    "collapsed": false,
    "jupyter": {
     "outputs_hidden": false
    }
   },
   "outputs": [
    {
     "ename": "AttributeError",
     "evalue": "module 'diviner.file_utils' has no attribute 'get_divdata'",
     "output_type": "error",
     "traceback": [
      "\u001b[0;31m---------------------------------------------------------------------------\u001b[0m",
      "\u001b[0;31mAttributeError\u001b[0m                            Traceback (most recent call last)",
      "\u001b[0;32m<ipython-input-2-a9256e6c9aef>\u001b[0m in \u001b[0;36m<module>\u001b[0;34m\u001b[0m\n\u001b[1;32m      1\u001b[0m \u001b[0mtstr\u001b[0m \u001b[0;34m=\u001b[0m \u001b[0;34m'2010010402'\u001b[0m\u001b[0;34m\u001b[0m\u001b[0;34m\u001b[0m\u001b[0m\n\u001b[1;32m      2\u001b[0m \u001b[0moutfname\u001b[0m \u001b[0;34m=\u001b[0m \u001b[0mtstr\u001b[0m \u001b[0;34m+\u001b[0m \u001b[0;34m'_divdata.csv'\u001b[0m\u001b[0;34m\u001b[0m\u001b[0;34m\u001b[0m\u001b[0m\n\u001b[0;32m----> 3\u001b[0;31m \u001b[0mdf\u001b[0m \u001b[0;34m=\u001b[0m \u001b[0mfu\u001b[0m\u001b[0;34m.\u001b[0m\u001b[0mget_divdata\u001b[0m\u001b[0;34m(\u001b[0m\u001b[0mtstr\u001b[0m\u001b[0;34m,\u001b[0m\u001b[0;36m5\u001b[0m\u001b[0;34m,\u001b[0m\u001b[0;36m11\u001b[0m\u001b[0;34m,\u001b[0m \u001b[0mcend\u001b[0m\u001b[0;34m=\u001b[0m\u001b[0;36m7\u001b[0m\u001b[0;34m)\u001b[0m\u001b[0;34m\u001b[0m\u001b[0;34m\u001b[0m\u001b[0m\n\u001b[0m\u001b[1;32m      4\u001b[0m \u001b[0mdf\u001b[0m\u001b[0;34m.\u001b[0m\u001b[0mhead\u001b[0m\u001b[0;34m(\u001b[0m\u001b[0;34m)\u001b[0m\u001b[0;34m\u001b[0m\u001b[0;34m\u001b[0m\u001b[0m\n",
      "\u001b[0;31mAttributeError\u001b[0m: module 'diviner.file_utils' has no attribute 'get_divdata'"
     ]
    }
   ],
   "source": [
    "tstr = '2010010402'\n",
    "outfname = tstr + '_divdata.csv'\n",
    "df = fu.get_divdata(tstr,5,11, cend=7)\n",
    "df.head()"
   ]
  },
  {
   "cell_type": "code",
   "execution_count": 38,
   "metadata": {
    "collapsed": false,
    "jupyter": {
     "outputs_hidden": false
    }
   },
   "outputs": [
    {
     "name": "stdout",
     "output_type": "stream",
     "text": [
      "6042440\n"
     ]
    }
   ],
   "source": [
    "import os\n",
    "if os.path.exists(outfname):\n",
    "    print os.path.getsize(outfname)"
   ]
  },
  {
   "cell_type": "code",
   "execution_count": 51,
   "metadata": {
    "collapsed": false,
    "jupyter": {
     "outputs_hidden": false
    }
   },
   "outputs": [
    {
     "data": {
      "text/html": [
       "<div style=\"max-height:1000px;max-width:1500px;overflow:auto;\">\n",
       "<table border=\"1\" class=\"dataframe\">\n",
       "  <thead>\n",
       "    <tr style=\"text-align: right;\">\n",
       "      <th></th>\n",
       "      <th>jdate</th>\n",
       "      <th>clat</th>\n",
       "      <th>clon</th>\n",
       "      <th>radiance</th>\n",
       "      <th>tb</th>\n",
       "    </tr>\n",
       "  </thead>\n",
       "  <tbody>\n",
       "    <tr>\n",
       "      <th>2010-01-04 02:00:00.102000</th>\n",
       "      <td> 2455200.583335</td>\n",
       "      <td> 8.18071</td>\n",
       "      <td> 43.091671</td>\n",
       "      <td> 0.3464</td>\n",
       "      <td> 202.278000</td>\n",
       "    </tr>\n",
       "    <tr>\n",
       "      <th>2010-01-04 02:00:00.232000</th>\n",
       "      <td> 2455200.583336</td>\n",
       "      <td> 8.18767</td>\n",
       "      <td> 43.091660</td>\n",
       "      <td> 0.3441</td>\n",
       "      <td> 201.261002</td>\n",
       "    </tr>\n",
       "    <tr>\n",
       "      <th>2010-01-04 02:00:00.360000</th>\n",
       "      <td> 2455200.583338</td>\n",
       "      <td> 8.19452</td>\n",
       "      <td> 43.091648</td>\n",
       "      <td> 0.3464</td>\n",
       "      <td> 202.276993</td>\n",
       "    </tr>\n",
       "    <tr>\n",
       "      <th>2010-01-04 02:00:00.488000</th>\n",
       "      <td> 2455200.583339</td>\n",
       "      <td> 8.20137</td>\n",
       "      <td> 43.091640</td>\n",
       "      <td> 0.3372</td>\n",
       "      <td> 198.207001</td>\n",
       "    </tr>\n",
       "    <tr>\n",
       "      <th>2010-01-04 02:00:00.616000</th>\n",
       "      <td> 2455200.583340</td>\n",
       "      <td> 8.20823</td>\n",
       "      <td> 43.091640</td>\n",
       "      <td> 0.3464</td>\n",
       "      <td> 202.276993</td>\n",
       "    </tr>\n",
       "    <tr>\n",
       "      <th>2010-01-04 02:00:00.744000</th>\n",
       "      <td> 2455200.583342</td>\n",
       "      <td> 8.21508</td>\n",
       "      <td> 43.091629</td>\n",
       "      <td> 0.3464</td>\n",
       "      <td> 202.276993</td>\n",
       "    </tr>\n",
       "    <tr>\n",
       "      <th>2010-01-04 02:00:00.872000</th>\n",
       "      <td> 2455200.583343</td>\n",
       "      <td> 8.22193</td>\n",
       "      <td> 43.091621</td>\n",
       "      <td> 0.3511</td>\n",
       "      <td> 204.309998</td>\n",
       "    </tr>\n",
       "    <tr>\n",
       "      <th>2010-01-04 02:00:01</th>\n",
       "      <td> 2455200.583345</td>\n",
       "      <td> 8.22878</td>\n",
       "      <td> 43.091610</td>\n",
       "      <td> 0.3534</td>\n",
       "      <td> 205.324997</td>\n",
       "    </tr>\n",
       "    <tr>\n",
       "      <th>2010-01-04 02:00:01.127999</th>\n",
       "      <td> 2455200.583346</td>\n",
       "      <td> 8.23564</td>\n",
       "      <td> 43.091599</td>\n",
       "      <td> 0.3464</td>\n",
       "      <td> 202.276993</td>\n",
       "    </tr>\n",
       "    <tr>\n",
       "      <th>2010-01-04 02:00:01.256000</th>\n",
       "      <td> 2455200.583348</td>\n",
       "      <td> 8.24249</td>\n",
       "      <td> 43.091591</td>\n",
       "      <td> 0.3118</td>\n",
       "      <td> 186.968002</td>\n",
       "    </tr>\n",
       "  </tbody>\n",
       "</table>\n",
       "<p>10 rows × 5 columns</p>\n",
       "</div>"
      ],
      "text/plain": [
       "                                     jdate     clat       clon  radiance  \\\n",
       "2010-01-04 02:00:00.102000  2455200.583335  8.18071  43.091671    0.3464   \n",
       "2010-01-04 02:00:00.232000  2455200.583336  8.18767  43.091660    0.3441   \n",
       "2010-01-04 02:00:00.360000  2455200.583338  8.19452  43.091648    0.3464   \n",
       "2010-01-04 02:00:00.488000  2455200.583339  8.20137  43.091640    0.3372   \n",
       "2010-01-04 02:00:00.616000  2455200.583340  8.20823  43.091640    0.3464   \n",
       "2010-01-04 02:00:00.744000  2455200.583342  8.21508  43.091629    0.3464   \n",
       "2010-01-04 02:00:00.872000  2455200.583343  8.22193  43.091621    0.3511   \n",
       "2010-01-04 02:00:01         2455200.583345  8.22878  43.091610    0.3534   \n",
       "2010-01-04 02:00:01.127999  2455200.583346  8.23564  43.091599    0.3464   \n",
       "2010-01-04 02:00:01.256000  2455200.583348  8.24249  43.091591    0.3118   \n",
       "\n",
       "                                    tb  \n",
       "2010-01-04 02:00:00.102000  202.278000  \n",
       "2010-01-04 02:00:00.232000  201.261002  \n",
       "2010-01-04 02:00:00.360000  202.276993  \n",
       "2010-01-04 02:00:00.488000  198.207001  \n",
       "2010-01-04 02:00:00.616000  202.276993  \n",
       "2010-01-04 02:00:00.744000  202.276993  \n",
       "2010-01-04 02:00:00.872000  204.309998  \n",
       "2010-01-04 02:00:01         205.324997  \n",
       "2010-01-04 02:00:01.127999  202.276993  \n",
       "2010-01-04 02:00:01.256000  186.968002  \n",
       "\n",
       "[10 rows x 5 columns]"
      ]
     },
     "execution_count": 51,
     "metadata": {},
     "output_type": "execute_result"
    }
   ],
   "source": [
    "df = pd.read_csv(outfname, nrows=10, delim_whitespace=True)\n",
    "df.drop(df.columns[0],axis=1,inplace=True)\n",
    "df = dp.index_by_time(df)\n",
    "df"
   ]
  },
  {
   "cell_type": "code",
   "execution_count": 55,
   "metadata": {
    "collapsed": false,
    "jupyter": {
     "outputs_hidden": false
    }
   },
   "outputs": [
    {
     "data": {
      "text/plain": [
       "count    26044.000000\n",
       "mean       -61.099627\n",
       "std         89.234629\n",
       "min       -139.132797\n",
       "25%       -137.405872\n",
       "50%       -137.364471\n",
       "75%         43.074343\n",
       "max         45.257568\n",
       "Name: clon, dtype: float64"
      ]
     },
     "execution_count": 55,
     "metadata": {},
     "output_type": "execute_result"
    }
   ],
   "source": [
    "df.clon.describe()"
   ]
  },
  {
   "cell_type": "code",
   "execution_count": 58,
   "metadata": {
    "collapsed": false,
    "jupyter": {
     "outputs_hidden": false
    }
   },
   "outputs": [],
   "source": [
    "df.groupby(df.clon.round()).mean?"
   ]
  },
  {
   "cell_type": "code",
   "execution_count": null,
   "metadata": {
    "collapsed": false,
    "jupyter": {
     "outputs_hidden": false
    }
   },
   "outputs": [],
   "source": [
    "df.groupby(df.clon.round()).mean"
   ]
  },
  {
   "cell_type": "code",
   "execution_count": 59,
   "metadata": {
    "collapsed": false,
    "jupyter": {
     "outputs_hidden": false
    }
   },
   "outputs": [],
   "source": [
    "df.mean?"
   ]
  },
  {
   "cell_type": "code",
   "execution_count": null,
   "metadata": {
    "collapsed": false,
    "jupyter": {
     "outputs_hidden": false
    }
   },
   "outputs": [],
   "source": []
  }
 ],
 "metadata": {
  "kernelspec": {
   "display_name": "Python [conda env:py37] *",
   "language": "python",
   "name": "conda-env-py37-py"
  },
  "language_info": {
   "codemirror_mode": {
    "name": "ipython",
    "version": 3
   },
   "file_extension": ".py",
   "mimetype": "text/x-python",
   "name": "python",
   "nbconvert_exporter": "python",
   "pygments_lexer": "ipython3",
   "version": "3.7.6"
  }
 },
 "nbformat": 4,
 "nbformat_minor": 4
}
