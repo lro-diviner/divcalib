{
 "cells": [
  {
   "cell_type": "code",
   "execution_count": 1,
   "metadata": {
    "collapsed": false,
    "jupyter": {
     "outputs_hidden": false
    }
   },
   "outputs": [],
   "source": [
    "import pandas as pd\n",
    "from diviner import file_utils as fu\n",
    "from diviner import calib"
   ]
  },
  {
   "cell_type": "code",
   "execution_count": 2,
   "metadata": {
    "collapsed": false,
    "jupyter": {
     "outputs_hidden": false
    }
   },
   "outputs": [],
   "source": [
    "pump = fu.L1AParquetDataPump('20171001')"
   ]
  },
  {
   "cell_type": "code",
   "execution_count": 3,
   "metadata": {
    "collapsed": false,
    "jupyter": {
     "outputs_hidden": false
    }
   },
   "outputs": [],
   "source": [
    "fn = fu.FileName('20130305.div247')"
   ]
  },
  {
   "cell_type": "code",
   "execution_count": 4,
   "metadata": {
    "collapsed": false,
    "jupyter": {
     "outputs_hidden": false
    }
   },
   "outputs": [
    {
     "ename": "AttributeError",
     "evalue": "'FileName' object has no attribute 'get_previous_hour'",
     "output_type": "error",
     "traceback": [
      "\u001b[0;31m---------------------------------------------------------------------------\u001b[0m",
      "\u001b[0;31mAttributeError\u001b[0m                            Traceback (most recent call last)",
      "\u001b[0;32m<ipython-input-4-af4bf5529028>\u001b[0m in \u001b[0;36m<module>\u001b[0;34m\u001b[0m\n\u001b[0;32m----> 1\u001b[0;31m \u001b[0mfn\u001b[0m\u001b[0;34m.\u001b[0m\u001b[0mget_previous_hour\u001b[0m\u001b[0;34m(\u001b[0m\u001b[0;34m)\u001b[0m\u001b[0;34m\u001b[0m\u001b[0;34m\u001b[0m\u001b[0m\n\u001b[0m",
      "\u001b[0;31mAttributeError\u001b[0m: 'FileName' object has no attribute 'get_previous_hour'"
     ]
    }
   ],
   "source": [
    "fn."
   ]
  },
  {
   "cell_type": "code",
   "execution_count": 3,
   "metadata": {
    "collapsed": false,
    "jupyter": {
     "outputs_hidden": false
    }
   },
   "outputs": [
    {
     "data": {
      "text/plain": [
       "[PosixPath('/luna4/maye/l1a_parquet/2017/2017100100_L1A.parquet'),\n",
       " PosixPath('/luna4/maye/l1a_parquet/2017/2017100101_L1A.parquet'),\n",
       " PosixPath('/luna4/maye/l1a_parquet/2017/2017100102_L1A.parquet'),\n",
       " PosixPath('/luna4/maye/l1a_parquet/2017/2017100103_L1A.parquet'),\n",
       " PosixPath('/luna4/maye/l1a_parquet/2017/2017100104_L1A.parquet'),\n",
       " PosixPath('/luna4/maye/l1a_parquet/2017/2017100105_L1A.parquet'),\n",
       " PosixPath('/luna4/maye/l1a_parquet/2017/2017100106_L1A.parquet'),\n",
       " PosixPath('/luna4/maye/l1a_parquet/2017/2017100107_L1A.parquet'),\n",
       " PosixPath('/luna4/maye/l1a_parquet/2017/2017100108_L1A.parquet'),\n",
       " PosixPath('/luna4/maye/l1a_parquet/2017/2017100109_L1A.parquet'),\n",
       " PosixPath('/luna4/maye/l1a_parquet/2017/2017100110_L1A.parquet'),\n",
       " PosixPath('/luna4/maye/l1a_parquet/2017/2017100111_L1A.parquet'),\n",
       " PosixPath('/luna4/maye/l1a_parquet/2017/2017100112_L1A.parquet'),\n",
       " PosixPath('/luna4/maye/l1a_parquet/2017/2017100113_L1A.parquet'),\n",
       " PosixPath('/luna4/maye/l1a_parquet/2017/2017100114_L1A.parquet'),\n",
       " PosixPath('/luna4/maye/l1a_parquet/2017/2017100115_L1A.parquet'),\n",
       " PosixPath('/luna4/maye/l1a_parquet/2017/2017100116_L1A.parquet'),\n",
       " PosixPath('/luna4/maye/l1a_parquet/2017/2017100117_L1A.parquet'),\n",
       " PosixPath('/luna4/maye/l1a_parquet/2017/2017100118_L1A.parquet'),\n",
       " PosixPath('/luna4/maye/l1a_parquet/2017/2017100119_L1A.parquet'),\n",
       " PosixPath('/luna4/maye/l1a_parquet/2017/2017100120_L1A.parquet'),\n",
       " PosixPath('/luna4/maye/l1a_parquet/2017/2017100121_L1A.parquet'),\n",
       " PosixPath('/luna4/maye/l1a_parquet/2017/2017100122_L1A.parquet'),\n",
       " PosixPath('/luna4/maye/l1a_parquet/2017/2017100123_L1A.parquet')]"
      ]
     },
     "execution_count": 3,
     "metadata": {},
     "output_type": "execute_result"
    }
   ],
   "source": [
    "pump.find_fnames()"
   ]
  },
  {
   "cell_type": "code",
   "execution_count": 18,
   "metadata": {
    "collapsed": false,
    "jupyter": {
     "outputs_hidden": false
    }
   },
   "outputs": [
    {
     "data": {
      "text/html": [
       "<pre>\n",
       "&lt;class 'pandas.core.frame.DataFrame'&gt;\n",
       "DatetimeIndex: 84384 entries, 2013-03-05 11:00:00.514000 to 2013-03-05 14:00:01.736000\n",
       "Columns: 259 entries, q to is_calib\n",
       "dtypes: bool(6), float64(50), int32(4), int64(193), object(6)\n",
       "</pre>"
      ],
      "text/plain": [
       "<class 'pandas.core.frame.DataFrame'>\n",
       "DatetimeIndex: 84384 entries, 2013-03-05 11:00:00.514000 to 2013-03-05 14:00:01.736000\n",
       "Columns: 259 entries, q to is_calib\n",
       "dtypes: bool(6), float64(50), int32(4), int64(193), object(6)"
      ]
     },
     "execution_count": 18,
     "metadata": {},
     "output_type": "execute_result"
    }
   ],
   "source": [
    "df = pump.get_3_hour_block(pump.fnames[12])\n",
    "df"
   ]
  },
  {
   "cell_type": "code",
   "execution_count": 19,
   "metadata": {
    "collapsed": false,
    "jupyter": {
     "outputs_hidden": false
    }
   },
   "outputs": [
    {
     "data": {
      "text/plain": [
       "<matplotlib.axes.AxesSubplot at 0x119444e10>"
      ]
     },
     "execution_count": 19,
     "metadata": {},
     "output_type": "execute_result"
    }
   ],
   "source": [
    "df.is_calib.plot()"
   ]
  },
  {
   "cell_type": "code",
   "execution_count": 5,
   "metadata": {
    "collapsed": false,
    "jupyter": {
     "outputs_hidden": false
    }
   },
   "outputs": [],
   "source": [
    "c = calib.Calibrator(df)"
   ]
  },
  {
   "cell_type": "code",
   "execution_count": 6,
   "metadata": {
    "collapsed": false,
    "jupyter": {
     "outputs_hidden": false
    }
   },
   "outputs": [
    {
     "name": "stdout",
     "output_type": "stream",
     "text": [
      "192\n",
      " [*********************100%***********************]  147 of 147 complete"
     ]
    }
   ],
   "source": [
    "c.calibrate()"
   ]
  },
  {
   "cell_type": "code",
   "execution_count": 7,
   "metadata": {
    "collapsed": false,
    "jupyter": {
     "outputs_hidden": false
    }
   },
   "outputs": [],
   "source": [
    "fn = fu.FileName(pump.fnames[0])"
   ]
  },
  {
   "cell_type": "code",
   "execution_count": 8,
   "metadata": {
    "collapsed": false,
    "jupyter": {
     "outputs_hidden": false
    }
   },
   "outputs": [],
   "source": [
    "tbout = c.Tb.ix[c.Tb.index.hour == int(fn.hour)]\n",
    "radout = c.abs_radiance.ix[c.abs_radiance.index.hour == int(fn.hour)]"
   ]
  },
  {
   "cell_type": "code",
   "execution_count": 9,
   "metadata": {
    "collapsed": false,
    "jupyter": {
     "outputs_hidden": false
    }
   },
   "outputs": [
    {
     "name": "stdout",
     "output_type": "stream",
     "text": [
      "<class 'pandas.core.frame.DataFrame'>\n",
      "DatetimeIndex: 26124 entries, 2013-03-01 00:00:00.090000 to 2013-03-01 00:59:59.912000\n",
      "Columns: 147 entries, a3_01 to b3_21\n",
      "dtypes: float64(147)None\n",
      "<class 'pandas.core.frame.DataFrame'>\n",
      "DatetimeIndex: 26124 entries, 2013-03-01 00:00:00.090000 to 2013-03-01 00:59:59.912000\n",
      "Columns: 189 entries, a1_01 to b3_21\n",
      "dtypes: float64(189)None\n"
     ]
    }
   ],
   "source": [
    "print tbout.info()\n",
    "print radout.info()"
   ]
  },
  {
   "cell_type": "code",
   "execution_count": 10,
   "metadata": {
    "collapsed": false,
    "jupyter": {
     "outputs_hidden": false
    }
   },
   "outputs": [],
   "source": [
    "tbout = tbout.filter(regex='b3_')\n",
    "radout = radout.filter(regex='b3_')"
   ]
  },
  {
   "cell_type": "code",
   "execution_count": 13,
   "metadata": {
    "collapsed": false,
    "jupyter": {
     "outputs_hidden": false
    }
   },
   "outputs": [
    {
     "data": {
      "text/plain": [
       "[21, 20, 19, 18, 17, 16, 15, 14, 13, 12, 11, 10, 9, 8, 7, 6, 5, 4, 3, 2, 1]"
      ]
     },
     "execution_count": 13,
     "metadata": {},
     "output_type": "execute_result"
    }
   ],
   "source": [
    "tbout\n",
    "range(21,0,-1)"
   ]
  },
  {
   "cell_type": "code",
   "execution_count": 14,
   "metadata": {
    "collapsed": false,
    "jupyter": {
     "outputs_hidden": false
    }
   },
   "outputs": [],
   "source": [
    "tbout.columns = range(21,0,-1)"
   ]
  },
  {
   "cell_type": "code",
   "execution_count": 15,
   "metadata": {
    "collapsed": false,
    "jupyter": {
     "outputs_hidden": false
    }
   },
   "outputs": [
    {
     "data": {
      "text/html": [
       "<pre>\n",
       "&lt;class 'pandas.core.frame.DataFrame'&gt;\n",
       "DatetimeIndex: 26124 entries, 2013-03-01 00:00:00.090000 to 2013-03-01 00:59:59.912000\n",
       "Data columns (total 21 columns):\n",
       "21    26124  non-null values\n",
       "20    26124  non-null values\n",
       "19    26124  non-null values\n",
       "18    26124  non-null values\n",
       "17    26124  non-null values\n",
       "16    26124  non-null values\n",
       "15    26124  non-null values\n",
       "14    26124  non-null values\n",
       "13    26124  non-null values\n",
       "12    26124  non-null values\n",
       "11    26124  non-null values\n",
       "10    26124  non-null values\n",
       "9     26124  non-null values\n",
       "8     26124  non-null values\n",
       "7     26124  non-null values\n",
       "6     26124  non-null values\n",
       "5     26124  non-null values\n",
       "4     26124  non-null values\n",
       "3     26124  non-null values\n",
       "2     26124  non-null values\n",
       "1     26124  non-null values\n",
       "dtypes: float64(21)\n",
       "</pre>"
      ],
      "text/plain": [
       "<class 'pandas.core.frame.DataFrame'>\n",
       "DatetimeIndex: 26124 entries, 2013-03-01 00:00:00.090000 to 2013-03-01 00:59:59.912000\n",
       "Data columns (total 21 columns):\n",
       "21    26124  non-null values\n",
       "20    26124  non-null values\n",
       "19    26124  non-null values\n",
       "18    26124  non-null values\n",
       "17    26124  non-null values\n",
       "16    26124  non-null values\n",
       "15    26124  non-null values\n",
       "14    26124  non-null values\n",
       "13    26124  non-null values\n",
       "12    26124  non-null values\n",
       "11    26124  non-null values\n",
       "10    26124  non-null values\n",
       "9     26124  non-null values\n",
       "8     26124  non-null values\n",
       "7     26124  non-null values\n",
       "6     26124  non-null values\n",
       "5     26124  non-null values\n",
       "4     26124  non-null values\n",
       "3     26124  non-null values\n",
       "2     26124  non-null values\n",
       "1     26124  non-null values\n",
       "dtypes: float64(21)"
      ]
     },
     "execution_count": 15,
     "metadata": {},
     "output_type": "execute_result"
    }
   ],
   "source": [
    "tbout"
   ]
  },
  {
   "cell_type": "code",
   "execution_count": 31,
   "metadata": {
    "collapsed": true,
    "jupyter": {
     "outputs_hidden": true
    }
   },
   "outputs": [
    {
     "ename": "IndexError",
     "evalue": "invalid index to scalar variable.",
     "output_type": "error",
     "traceback": [
      "\u001b[1;31m---------------------------------------------------------------------------\u001b[0m\n\u001b[1;31mIndexError\u001b[0m                                Traceback (most recent call last)",
      "\u001b[1;32m<ipython-input-31-a30deda9983c>\u001b[0m in \u001b[0;36m<module>\u001b[1;34m()\u001b[0m\n\u001b[1;32m----> 1\u001b[1;33m \u001b[0mtbout\u001b[0m\u001b[1;33m.\u001b[0m\u001b[0mrename\u001b[0m\u001b[1;33m(\u001b[0m\u001b[0mcolumns\u001b[0m\u001b[1;33m=\u001b[0m\u001b[1;32mlambda\u001b[0m \u001b[0mx\u001b[0m\u001b[1;33m:\u001b[0m\u001b[0mint\u001b[0m\u001b[1;33m(\u001b[0m\u001b[0mx\u001b[0m\u001b[1;33m[\u001b[0m\u001b[1;36m3\u001b[0m\u001b[1;33m:\u001b[0m\u001b[1;33m]\u001b[0m\u001b[1;33m)\u001b[0m\u001b[1;33m,\u001b[0m \u001b[0minplace\u001b[0m\u001b[1;33m=\u001b[0m\u001b[0mTrue\u001b[0m\u001b[1;33m)\u001b[0m\u001b[1;33m\u001b[0m\u001b[0m\n\u001b[0m\u001b[0;32m      2\u001b[0m \u001b[0mtbout\u001b[0m\u001b[1;33m\u001b[0m\u001b[0m\n",
      "\u001b[1;32m/usr/local/epd/lib/python2.7/site-packages/pandas-0.12.0.dev_99ae9ce-py2.7-linux-x86_64.egg/pandas/core/frame.pyc\u001b[0m in \u001b[0;36mrename\u001b[1;34m(self, index, columns, copy, inplace)\u001b[0m\n\u001b[0;32m   3800\u001b[0m \u001b[1;33m\u001b[0m\u001b[0m\n\u001b[0;32m   3801\u001b[0m         \u001b[1;32mif\u001b[0m \u001b[0mcolumns\u001b[0m \u001b[1;32mis\u001b[0m \u001b[1;32mnot\u001b[0m \u001b[0mNone\u001b[0m\u001b[1;33m:\u001b[0m\u001b[1;33m\u001b[0m\u001b[0m\n\u001b[1;32m-> 3802\u001b[1;33m             \u001b[0mresult\u001b[0m\u001b[1;33m.\u001b[0m\u001b[0m_rename_columns_inplace\u001b[0m\u001b[1;33m(\u001b[0m\u001b[0mcolumns_f\u001b[0m\u001b[1;33m)\u001b[0m\u001b[1;33m\u001b[0m\u001b[0m\n\u001b[0m\u001b[0;32m   3803\u001b[0m \u001b[1;33m\u001b[0m\u001b[0m\n\u001b[0;32m   3804\u001b[0m         \u001b[1;32mif\u001b[0m \u001b[1;32mnot\u001b[0m \u001b[0minplace\u001b[0m\u001b[1;33m:\u001b[0m\u001b[1;33m\u001b[0m\u001b[0m\n",
      "\u001b[1;32m/usr/local/epd/lib/python2.7/site-packages/pandas-0.12.0.dev_99ae9ce-py2.7-linux-x86_64.egg/pandas/core/frame.pyc\u001b[0m in \u001b[0;36m_rename_columns_inplace\u001b[1;34m(self, mapper)\u001b[0m\n\u001b[0;32m   3810\u001b[0m \u001b[1;33m\u001b[0m\u001b[0m\n\u001b[0;32m   3811\u001b[0m     \u001b[1;32mdef\u001b[0m \u001b[0m_rename_columns_inplace\u001b[0m\u001b[1;33m(\u001b[0m\u001b[0mself\u001b[0m\u001b[1;33m,\u001b[0m \u001b[0mmapper\u001b[0m\u001b[1;33m)\u001b[0m\u001b[1;33m:\u001b[0m\u001b[1;33m\u001b[0m\u001b[0m\n\u001b[1;32m-> 3812\u001b[1;33m         \u001b[0mself\u001b[0m\u001b[1;33m.\u001b[0m\u001b[0m_data\u001b[0m \u001b[1;33m=\u001b[0m \u001b[0mself\u001b[0m\u001b[1;33m.\u001b[0m\u001b[0m_data\u001b[0m\u001b[1;33m.\u001b[0m\u001b[0mrename_items\u001b[0m\u001b[1;33m(\u001b[0m\u001b[0mmapper\u001b[0m\u001b[1;33m,\u001b[0m \u001b[0mcopydata\u001b[0m\u001b[1;33m=\u001b[0m\u001b[0mFalse\u001b[0m\u001b[1;33m)\u001b[0m\u001b[1;33m\u001b[0m\u001b[0m\n\u001b[0m\u001b[0;32m   3813\u001b[0m         \u001b[0mself\u001b[0m\u001b[1;33m.\u001b[0m\u001b[0m_clear_item_cache\u001b[0m\u001b[1;33m(\u001b[0m\u001b[1;33m)\u001b[0m\u001b[1;33m\u001b[0m\u001b[0m\n\u001b[0;32m   3814\u001b[0m \u001b[1;33m\u001b[0m\u001b[0m\n",
      "\u001b[1;32m/usr/local/epd/lib/python2.7/site-packages/pandas-0.12.0.dev_99ae9ce-py2.7-linux-x86_64.egg/pandas/core/internals.pyc\u001b[0m in \u001b[0;36mrename_items\u001b[1;34m(self, mapper, copydata)\u001b[0m\n\u001b[0;32m   2161\u001b[0m             \u001b[0mnew_items\u001b[0m \u001b[1;33m=\u001b[0m \u001b[0mMultiIndex\u001b[0m\u001b[1;33m.\u001b[0m\u001b[0mfrom_tuples\u001b[0m\u001b[1;33m(\u001b[0m\u001b[0mitems\u001b[0m\u001b[1;33m,\u001b[0m \u001b[0mnames\u001b[0m\u001b[1;33m=\u001b[0m\u001b[0mself\u001b[0m\u001b[1;33m.\u001b[0m\u001b[0mitems\u001b[0m\u001b[1;33m.\u001b[0m\u001b[0mnames\u001b[0m\u001b[1;33m)\u001b[0m\u001b[1;33m\u001b[0m\u001b[0m\n\u001b[0;32m   2162\u001b[0m         \u001b[1;32melse\u001b[0m\u001b[1;33m:\u001b[0m\u001b[1;33m\u001b[0m\u001b[0m\n\u001b[1;32m-> 2163\u001b[1;33m             \u001b[0mitems\u001b[0m \u001b[1;33m=\u001b[0m \u001b[1;33m[\u001b[0m\u001b[0mmapper\u001b[0m\u001b[1;33m(\u001b[0m\u001b[0mx\u001b[0m\u001b[1;33m)\u001b[0m \u001b[1;32mfor\u001b[0m \u001b[0mx\u001b[0m \u001b[1;32min\u001b[0m \u001b[0mself\u001b[0m\u001b[1;33m.\u001b[0m\u001b[0mitems\u001b[0m\u001b[1;33m]\u001b[0m\u001b[1;33m\u001b[0m\u001b[0m\n\u001b[0m\u001b[0;32m   2164\u001b[0m             \u001b[0mnew_items\u001b[0m \u001b[1;33m=\u001b[0m \u001b[0mIndex\u001b[0m\u001b[1;33m(\u001b[0m\u001b[0mitems\u001b[0m\u001b[1;33m,\u001b[0m \u001b[0mnames\u001b[0m\u001b[1;33m=\u001b[0m\u001b[0mself\u001b[0m\u001b[1;33m.\u001b[0m\u001b[0mitems\u001b[0m\u001b[1;33m.\u001b[0m\u001b[0mnames\u001b[0m\u001b[1;33m)\u001b[0m\u001b[1;33m\u001b[0m\u001b[0m\n\u001b[0;32m   2165\u001b[0m \u001b[1;33m\u001b[0m\u001b[0m\n",
      "\u001b[1;32m<ipython-input-31-a30deda9983c>\u001b[0m in \u001b[0;36m<lambda>\u001b[1;34m(x)\u001b[0m\n\u001b[1;32m----> 1\u001b[1;33m \u001b[0mtbout\u001b[0m\u001b[1;33m.\u001b[0m\u001b[0mrename\u001b[0m\u001b[1;33m(\u001b[0m\u001b[0mcolumns\u001b[0m\u001b[1;33m=\u001b[0m\u001b[1;32mlambda\u001b[0m \u001b[0mx\u001b[0m\u001b[1;33m:\u001b[0m\u001b[0mint\u001b[0m\u001b[1;33m(\u001b[0m\u001b[0mx\u001b[0m\u001b[1;33m[\u001b[0m\u001b[1;36m3\u001b[0m\u001b[1;33m:\u001b[0m\u001b[1;33m]\u001b[0m\u001b[1;33m)\u001b[0m\u001b[1;33m,\u001b[0m \u001b[0minplace\u001b[0m\u001b[1;33m=\u001b[0m\u001b[0mTrue\u001b[0m\u001b[1;33m)\u001b[0m\u001b[1;33m\u001b[0m\u001b[0m\n\u001b[0m\u001b[0;32m      2\u001b[0m \u001b[0mtbout\u001b[0m\u001b[1;33m\u001b[0m\u001b[0m\n",
      "\u001b[1;31mIndexError\u001b[0m: invalid index to scalar variable."
     ]
    }
   ],
   "source": [
    "tbout.rename(columns=lambda x:int(x[3:]), inplace=True)"
   ]
  },
  {
   "cell_type": "code",
   "execution_count": 32,
   "metadata": {
    "collapsed": false,
    "jupyter": {
     "outputs_hidden": false
    }
   },
   "outputs": [
    {
     "data": {
      "text/html": [
       "<pre>\n",
       "&lt;class 'pandas.core.frame.DataFrame'&gt;\n",
       "DatetimeIndex: 26124 entries, 2013-03-01 00:00:00.090000 to 2013-03-01 00:59:59.912000\n",
       "Data columns (total 21 columns):\n",
       "1     26124  non-null values\n",
       "2     26124  non-null values\n",
       "3     26124  non-null values\n",
       "4     26124  non-null values\n",
       "5     26124  non-null values\n",
       "6     26124  non-null values\n",
       "7     26124  non-null values\n",
       "8     26124  non-null values\n",
       "9     26124  non-null values\n",
       "10    26124  non-null values\n",
       "11    26124  non-null values\n",
       "12    26124  non-null values\n",
       "13    26124  non-null values\n",
       "14    26124  non-null values\n",
       "15    26124  non-null values\n",
       "16    26124  non-null values\n",
       "17    26124  non-null values\n",
       "18    26124  non-null values\n",
       "19    26124  non-null values\n",
       "20    26124  non-null values\n",
       "21    26124  non-null values\n",
       "dtypes: float64(21)\n",
       "</pre>"
      ],
      "text/plain": [
       "<class 'pandas.core.frame.DataFrame'>\n",
       "DatetimeIndex: 26124 entries, 2013-03-01 00:00:00.090000 to 2013-03-01 00:59:59.912000\n",
       "Data columns (total 21 columns):\n",
       "1     26124  non-null values\n",
       "2     26124  non-null values\n",
       "3     26124  non-null values\n",
       "4     26124  non-null values\n",
       "5     26124  non-null values\n",
       "6     26124  non-null values\n",
       "7     26124  non-null values\n",
       "8     26124  non-null values\n",
       "9     26124  non-null values\n",
       "10    26124  non-null values\n",
       "11    26124  non-null values\n",
       "12    26124  non-null values\n",
       "13    26124  non-null values\n",
       "14    26124  non-null values\n",
       "15    26124  non-null values\n",
       "16    26124  non-null values\n",
       "17    26124  non-null values\n",
       "18    26124  non-null values\n",
       "19    26124  non-null values\n",
       "20    26124  non-null values\n",
       "21    26124  non-null values\n",
       "dtypes: float64(21)"
      ]
     },
     "execution_count": 32,
     "metadata": {},
     "output_type": "execute_result"
    }
   ],
   "source": [
    "tbout"
   ]
  },
  {
   "cell_type": "code",
   "execution_count": 26,
   "metadata": {
    "collapsed": false,
    "jupyter": {
     "outputs_hidden": false
    }
   },
   "outputs": [],
   "source": [
    "rdr = fu.RDRReader.from_timestr(fn.timestr)"
   ]
  },
  {
   "cell_type": "code",
   "execution_count": 27,
   "metadata": {
    "collapsed": false,
    "jupyter": {
     "outputs_hidden": false
    }
   },
   "outputs": [
    {
     "data": {
      "text/plain": [
       "'/raid1/maye/rdr_data/2013030100_RDR.TAB.zip'"
      ]
     },
     "execution_count": 27,
     "metadata": {},
     "output_type": "execute_result"
    }
   ],
   "source": [
    "rdr.fname"
   ]
  },
  {
   "cell_type": "code",
   "execution_count": 28,
   "metadata": {
    "collapsed": false,
    "jupyter": {
     "outputs_hidden": false
    }
   },
   "outputs": [],
   "source": [
    "rdrdf = rdr.read_df(do_parse_times=False)"
   ]
  },
  {
   "cell_type": "code",
   "execution_count": 39,
   "metadata": {
    "collapsed": false,
    "jupyter": {
     "outputs_hidden": false
    }
   },
   "outputs": [],
   "source": [
    "rdrch = rdrdf[rdrdf.c==9]"
   ]
  },
  {
   "cell_type": "code",
   "execution_count": 40,
   "metadata": {
    "collapsed": false,
    "jupyter": {
     "outputs_hidden": false
    }
   },
   "outputs": [],
   "source": [
    "rdrout = rdrch[['date','utc','clat','clon','det']]"
   ]
  },
  {
   "cell_type": "code",
   "execution_count": 41,
   "metadata": {
    "collapsed": false,
    "jupyter": {
     "outputs_hidden": false
    }
   },
   "outputs": [
    {
     "data": {
      "text/html": [
       "<div style=\"max-height:1000px;max-width:1500px;overflow:auto;\">\n",
       "<table border=\"1\" class=\"dataframe\">\n",
       "  <thead>\n",
       "    <tr style=\"text-align: right;\">\n",
       "      <th></th>\n",
       "      <th>date</th>\n",
       "      <th>utc</th>\n",
       "      <th>clat</th>\n",
       "      <th>clon</th>\n",
       "      <th>det</th>\n",
       "    </tr>\n",
       "  </thead>\n",
       "  <tbody>\n",
       "    <tr>\n",
       "      <th>168</th>\n",
       "      <td> 01-Mar-2013</td>\n",
       "      <td> 00:00:00.090</td>\n",
       "      <td> 16.45645</td>\n",
       "      <td> 328.72565</td>\n",
       "      <td> 1</td>\n",
       "    </tr>\n",
       "    <tr>\n",
       "      <th>169</th>\n",
       "      <td> 01-Mar-2013</td>\n",
       "      <td> 00:00:00.090</td>\n",
       "      <td> 16.45692</td>\n",
       "      <td> 328.71259</td>\n",
       "      <td> 2</td>\n",
       "    </tr>\n",
       "    <tr>\n",
       "      <th>170</th>\n",
       "      <td> 01-Mar-2013</td>\n",
       "      <td> 00:00:00.090</td>\n",
       "      <td> 16.45698</td>\n",
       "      <td> 328.69949</td>\n",
       "      <td> 3</td>\n",
       "    </tr>\n",
       "    <tr>\n",
       "      <th>171</th>\n",
       "      <td> 01-Mar-2013</td>\n",
       "      <td> 00:00:00.090</td>\n",
       "      <td> 16.45726</td>\n",
       "      <td> 328.68533</td>\n",
       "      <td> 4</td>\n",
       "    </tr>\n",
       "    <tr>\n",
       "      <th>172</th>\n",
       "      <td> 01-Mar-2013</td>\n",
       "      <td> 00:00:00.090</td>\n",
       "      <td> 16.45802</td>\n",
       "      <td> 328.67154</td>\n",
       "      <td> 5</td>\n",
       "    </tr>\n",
       "  </tbody>\n",
       "</table>\n",
       "</div>"
      ],
      "text/plain": [
       "            date           utc      clat       clon  det\n",
       "168  01-Mar-2013  00:00:00.090  16.45645  328.72565    1\n",
       "169  01-Mar-2013  00:00:00.090  16.45692  328.71259    2\n",
       "170  01-Mar-2013  00:00:00.090  16.45698  328.69949    3\n",
       "171  01-Mar-2013  00:00:00.090  16.45726  328.68533    4\n",
       "172  01-Mar-2013  00:00:00.090  16.45802  328.67154    5"
      ]
     },
     "execution_count": 41,
     "metadata": {},
     "output_type": "execute_result"
    }
   ],
   "source": [
    "rdrout.head()"
   ]
  },
  {
   "cell_type": "code",
   "execution_count": 53,
   "metadata": {
    "collapsed": false,
    "jupyter": {
     "outputs_hidden": false
    }
   },
   "outputs": [
    {
     "data": {
      "text/html": [
       "<pre>\n",
       "&lt;class 'pandas.core.frame.DataFrame'&gt;\n",
       "DatetimeIndex: 26124 entries, 2013-03-01 00:00:00.090000 to 2013-03-01 00:59:59.912000\n",
       "Data columns (total 21 columns):\n",
       "1     26124  non-null values\n",
       "2     26124  non-null values\n",
       "3     26124  non-null values\n",
       "4     26124  non-null values\n",
       "5     26124  non-null values\n",
       "6     26124  non-null values\n",
       "7     26124  non-null values\n",
       "8     26124  non-null values\n",
       "9     26124  non-null values\n",
       "10    26124  non-null values\n",
       "11    26124  non-null values\n",
       "12    26124  non-null values\n",
       "13    26124  non-null values\n",
       "14    26124  non-null values\n",
       "15    26124  non-null values\n",
       "16    26124  non-null values\n",
       "17    26124  non-null values\n",
       "18    26124  non-null values\n",
       "19    26124  non-null values\n",
       "20    26124  non-null values\n",
       "21    26124  non-null values\n",
       "dtypes: float64(21)\n",
       "</pre>"
      ],
      "text/plain": [
       "<class 'pandas.core.frame.DataFrame'>\n",
       "DatetimeIndex: 26124 entries, 2013-03-01 00:00:00.090000 to 2013-03-01 00:59:59.912000\n",
       "Data columns (total 21 columns):\n",
       "1     26124  non-null values\n",
       "2     26124  non-null values\n",
       "3     26124  non-null values\n",
       "4     26124  non-null values\n",
       "5     26124  non-null values\n",
       "6     26124  non-null values\n",
       "7     26124  non-null values\n",
       "8     26124  non-null values\n",
       "9     26124  non-null values\n",
       "10    26124  non-null values\n",
       "11    26124  non-null values\n",
       "12    26124  non-null values\n",
       "13    26124  non-null values\n",
       "14    26124  non-null values\n",
       "15    26124  non-null values\n",
       "16    26124  non-null values\n",
       "17    26124  non-null values\n",
       "18    26124  non-null values\n",
       "19    26124  non-null values\n",
       "20    26124  non-null values\n",
       "21    26124  non-null values\n",
       "dtypes: float64(21)"
      ]
     },
     "execution_count": 53,
     "metadata": {},
     "output_type": "execute_result"
    }
   ],
   "source": [
    "tbout"
   ]
  },
  {
   "cell_type": "code",
   "execution_count": 51,
   "metadata": {
    "collapsed": false,
    "jupyter": {
     "outputs_hidden": false
    }
   },
   "outputs": [],
   "source": [
    "orig_dateutc = df[['date','utc']].ix[df.index.hour == int(fn.hour)]"
   ]
  },
  {
   "cell_type": "code",
   "execution_count": 57,
   "metadata": {
    "collapsed": false,
    "jupyter": {
     "outputs_hidden": false
    }
   },
   "outputs": [
    {
     "data": {
      "text/html": [
       "<pre>\n",
       "&lt;class 'pandas.core.frame.DataFrame'&gt;\n",
       "DatetimeIndex: 26124 entries, 2013-03-01 00:00:00.090000 to 2013-03-01 00:59:59.912000\n",
       "Data columns (total 2 columns):\n",
       "date    26124  non-null values\n",
       "utc     26124  non-null values\n",
       "dtypes: object(2)\n",
       "</pre>"
      ],
      "text/plain": [
       "<class 'pandas.core.frame.DataFrame'>\n",
       "DatetimeIndex: 26124 entries, 2013-03-01 00:00:00.090000 to 2013-03-01 00:59:59.912000\n",
       "Data columns (total 2 columns):\n",
       "date    26124  non-null values\n",
       "utc     26124  non-null values\n",
       "dtypes: object(2)"
      ]
     },
     "execution_count": 57,
     "metadata": {},
     "output_type": "execute_result"
    }
   ],
   "source": [
    "orig_dateutc.reindex(index=tbout.index)"
   ]
  },
  {
   "cell_type": "code",
   "execution_count": 58,
   "metadata": {
    "collapsed": false,
    "jupyter": {
     "outputs_hidden": false
    }
   },
   "outputs": [],
   "source": [
    "tbout['date']=orig_dateutc.date\n",
    "tbout['utc']=orig_dateutc.utc"
   ]
  },
  {
   "cell_type": "code",
   "execution_count": 59,
   "metadata": {
    "collapsed": false,
    "jupyter": {
     "outputs_hidden": false
    }
   },
   "outputs": [
    {
     "data": {
      "text/html": [
       "<pre>\n",
       "&lt;class 'pandas.core.frame.DataFrame'&gt;\n",
       "DatetimeIndex: 26124 entries, 2013-03-01 00:00:00.090000 to 2013-03-01 00:59:59.912000\n",
       "Data columns (total 23 columns):\n",
       "1       26124  non-null values\n",
       "2       26124  non-null values\n",
       "3       26124  non-null values\n",
       "4       26124  non-null values\n",
       "5       26124  non-null values\n",
       "6       26124  non-null values\n",
       "7       26124  non-null values\n",
       "8       26124  non-null values\n",
       "9       26124  non-null values\n",
       "10      26124  non-null values\n",
       "11      26124  non-null values\n",
       "12      26124  non-null values\n",
       "13      26124  non-null values\n",
       "14      26124  non-null values\n",
       "15      26124  non-null values\n",
       "16      26124  non-null values\n",
       "17      26124  non-null values\n",
       "18      26124  non-null values\n",
       "19      26124  non-null values\n",
       "20      26124  non-null values\n",
       "21      26124  non-null values\n",
       "date    26124  non-null values\n",
       "utc     26124  non-null values\n",
       "dtypes: float64(21), object(2)\n",
       "</pre>"
      ],
      "text/plain": [
       "<class 'pandas.core.frame.DataFrame'>\n",
       "DatetimeIndex: 26124 entries, 2013-03-01 00:00:00.090000 to 2013-03-01 00:59:59.912000\n",
       "Data columns (total 23 columns):\n",
       "1       26124  non-null values\n",
       "2       26124  non-null values\n",
       "3       26124  non-null values\n",
       "4       26124  non-null values\n",
       "5       26124  non-null values\n",
       "6       26124  non-null values\n",
       "7       26124  non-null values\n",
       "8       26124  non-null values\n",
       "9       26124  non-null values\n",
       "10      26124  non-null values\n",
       "11      26124  non-null values\n",
       "12      26124  non-null values\n",
       "13      26124  non-null values\n",
       "14      26124  non-null values\n",
       "15      26124  non-null values\n",
       "16      26124  non-null values\n",
       "17      26124  non-null values\n",
       "18      26124  non-null values\n",
       "19      26124  non-null values\n",
       "20      26124  non-null values\n",
       "21      26124  non-null values\n",
       "date    26124  non-null values\n",
       "utc     26124  non-null values\n",
       "dtypes: float64(21), object(2)"
      ]
     },
     "execution_count": 59,
     "metadata": {},
     "output_type": "execute_result"
    }
   ],
   "source": [
    "tbout"
   ]
  },
  {
   "cell_type": "code",
   "execution_count": 62,
   "metadata": {
    "collapsed": false,
    "jupyter": {
     "outputs_hidden": false
    }
   },
   "outputs": [],
   "source": [
    "tbmolten = pd.melt(tbout, id_vars=['date','utc'],value_vars=range(1,22))"
   ]
  },
  {
   "cell_type": "code",
   "execution_count": 64,
   "metadata": {
    "collapsed": false,
    "jupyter": {
     "outputs_hidden": false
    }
   },
   "outputs": [
    {
     "data": {
      "text/html": [
       "<div style=\"max-height:1000px;max-width:1500px;overflow:auto;\">\n",
       "<table border=\"1\" class=\"dataframe\">\n",
       "  <thead>\n",
       "    <tr style=\"text-align: right;\">\n",
       "      <th></th>\n",
       "      <th>date</th>\n",
       "      <th>utc</th>\n",
       "      <th>variable</th>\n",
       "      <th>value</th>\n",
       "    </tr>\n",
       "  </thead>\n",
       "  <tbody>\n",
       "    <tr>\n",
       "      <th>548599</th>\n",
       "      <td> 01-Mar-2013</td>\n",
       "      <td> 00:59:59.400</td>\n",
       "      <td> 21</td>\n",
       "      <td> 101.012510</td>\n",
       "    </tr>\n",
       "    <tr>\n",
       "      <th>548600</th>\n",
       "      <td> 01-Mar-2013</td>\n",
       "      <td> 00:59:59.528</td>\n",
       "      <td> 21</td>\n",
       "      <td> 101.018813</td>\n",
       "    </tr>\n",
       "    <tr>\n",
       "      <th>548601</th>\n",
       "      <td> 01-Mar-2013</td>\n",
       "      <td> 00:59:59.656</td>\n",
       "      <td> 21</td>\n",
       "      <td> 105.688797</td>\n",
       "    </tr>\n",
       "    <tr>\n",
       "      <th>548602</th>\n",
       "      <td> 01-Mar-2013</td>\n",
       "      <td> 00:59:59.784</td>\n",
       "      <td> 21</td>\n",
       "      <td>  99.466281</td>\n",
       "    </tr>\n",
       "    <tr>\n",
       "      <th>548603</th>\n",
       "      <td> 01-Mar-2013</td>\n",
       "      <td> 00:59:59.912</td>\n",
       "      <td> 21</td>\n",
       "      <td> 107.246246</td>\n",
       "    </tr>\n",
       "  </tbody>\n",
       "</table>\n",
       "</div>"
      ],
      "text/plain": [
       "               date           utc  variable       value\n",
       "548599  01-Mar-2013  00:59:59.400        21  101.012510\n",
       "548600  01-Mar-2013  00:59:59.528        21  101.018813\n",
       "548601  01-Mar-2013  00:59:59.656        21  105.688797\n",
       "548602  01-Mar-2013  00:59:59.784        21   99.466281\n",
       "548603  01-Mar-2013  00:59:59.912        21  107.246246"
      ]
     },
     "execution_count": 64,
     "metadata": {},
     "output_type": "execute_result"
    }
   ],
   "source": [
    "tbmolten.tail()"
   ]
  },
  {
   "cell_type": "code",
   "execution_count": 70,
   "metadata": {
    "collapsed": false,
    "jupyter": {
     "outputs_hidden": false
    }
   },
   "outputs": [],
   "source": [
    "tbmolten.columns = ['date','utc','det','tb']"
   ]
  },
  {
   "cell_type": "code",
   "execution_count": 66,
   "metadata": {
    "collapsed": false,
    "jupyter": {
     "outputs_hidden": false
    }
   },
   "outputs": [
    {
     "data": {
      "text/html": [
       "<div style=\"max-height:1000px;max-width:1500px;overflow:auto;\">\n",
       "<table border=\"1\" class=\"dataframe\">\n",
       "  <thead>\n",
       "    <tr style=\"text-align: right;\">\n",
       "      <th></th>\n",
       "      <th>date</th>\n",
       "      <th>utc</th>\n",
       "      <th>clat</th>\n",
       "      <th>clon</th>\n",
       "      <th>det</th>\n",
       "    </tr>\n",
       "  </thead>\n",
       "  <tbody>\n",
       "    <tr>\n",
       "      <th>5315431</th>\n",
       "      <td> 01-Mar-2013</td>\n",
       "      <td> 00:59:59.912</td>\n",
       "      <td>-12.05778</td>\n",
       "      <td> 147.97281</td>\n",
       "      <td> 17</td>\n",
       "    </tr>\n",
       "    <tr>\n",
       "      <th>5315432</th>\n",
       "      <td> 01-Mar-2013</td>\n",
       "      <td> 00:59:59.912</td>\n",
       "      <td>-12.05749</td>\n",
       "      <td> 147.98279</td>\n",
       "      <td> 18</td>\n",
       "    </tr>\n",
       "    <tr>\n",
       "      <th>5315433</th>\n",
       "      <td> 01-Mar-2013</td>\n",
       "      <td> 00:59:59.912</td>\n",
       "      <td>-12.05717</td>\n",
       "      <td> 147.99361</td>\n",
       "      <td> 19</td>\n",
       "    </tr>\n",
       "    <tr>\n",
       "      <th>5315434</th>\n",
       "      <td> 01-Mar-2013</td>\n",
       "      <td> 00:59:59.912</td>\n",
       "      <td>-12.05683</td>\n",
       "      <td> 148.00471</td>\n",
       "      <td> 20</td>\n",
       "    </tr>\n",
       "    <tr>\n",
       "      <th>5315435</th>\n",
       "      <td> 01-Mar-2013</td>\n",
       "      <td> 00:59:59.912</td>\n",
       "      <td>-12.05537</td>\n",
       "      <td> 148.01550</td>\n",
       "      <td> 21</td>\n",
       "    </tr>\n",
       "  </tbody>\n",
       "</table>\n",
       "</div>"
      ],
      "text/plain": [
       "                date           utc      clat       clon  det\n",
       "5315431  01-Mar-2013  00:59:59.912 -12.05778  147.97281   17\n",
       "5315432  01-Mar-2013  00:59:59.912 -12.05749  147.98279   18\n",
       "5315433  01-Mar-2013  00:59:59.912 -12.05717  147.99361   19\n",
       "5315434  01-Mar-2013  00:59:59.912 -12.05683  148.00471   20\n",
       "5315435  01-Mar-2013  00:59:59.912 -12.05537  148.01550   21"
      ]
     },
     "execution_count": 66,
     "metadata": {},
     "output_type": "execute_result"
    }
   ],
   "source": [
    "rdrout.tail()"
   ]
  },
  {
   "cell_type": "code",
   "execution_count": 72,
   "metadata": {
    "collapsed": false,
    "jupyter": {
     "outputs_hidden": false
    }
   },
   "outputs": [],
   "source": [
    "data_out = tbmolten.merge(rdrout, on=['date','utc','det'])"
   ]
  },
  {
   "cell_type": "code",
   "execution_count": 73,
   "metadata": {
    "collapsed": false,
    "jupyter": {
     "outputs_hidden": false
    }
   },
   "outputs": [
    {
     "data": {
      "text/html": [
       "<div style=\"max-height:1000px;max-width:1500px;overflow:auto;\">\n",
       "<table border=\"1\" class=\"dataframe\">\n",
       "  <thead>\n",
       "    <tr style=\"text-align: right;\">\n",
       "      <th></th>\n",
       "      <th>date</th>\n",
       "      <th>utc</th>\n",
       "      <th>det</th>\n",
       "      <th>tb</th>\n",
       "      <th>clat</th>\n",
       "      <th>clon</th>\n",
       "    </tr>\n",
       "  </thead>\n",
       "  <tbody>\n",
       "    <tr>\n",
       "      <th>0</th>\n",
       "      <td> 01-Mar-2013</td>\n",
       "      <td> 00:00:00.090</td>\n",
       "      <td> 1</td>\n",
       "      <td> 390.849832</td>\n",
       "      <td> 16.45645</td>\n",
       "      <td> 328.72565</td>\n",
       "    </tr>\n",
       "    <tr>\n",
       "      <th>1</th>\n",
       "      <td> 01-Mar-2013</td>\n",
       "      <td> 00:00:00.218</td>\n",
       "      <td> 1</td>\n",
       "      <td> 390.847669</td>\n",
       "      <td> 16.46284</td>\n",
       "      <td> 328.72583</td>\n",
       "    </tr>\n",
       "    <tr>\n",
       "      <th>2</th>\n",
       "      <td> 01-Mar-2013</td>\n",
       "      <td> 00:00:00.346</td>\n",
       "      <td> 1</td>\n",
       "      <td> 389.881558</td>\n",
       "      <td> 16.46923</td>\n",
       "      <td> 328.72598</td>\n",
       "    </tr>\n",
       "    <tr>\n",
       "      <th>3</th>\n",
       "      <td> 01-Mar-2013</td>\n",
       "      <td> 00:00:00.474</td>\n",
       "      <td> 1</td>\n",
       "      <td> 388.904281</td>\n",
       "      <td> 16.47561</td>\n",
       "      <td> 328.72614</td>\n",
       "    </tr>\n",
       "    <tr>\n",
       "      <th>4</th>\n",
       "      <td> 01-Mar-2013</td>\n",
       "      <td> 00:00:00.602</td>\n",
       "      <td> 1</td>\n",
       "      <td> 394.579036</td>\n",
       "      <td> 16.48198</td>\n",
       "      <td> 328.72629</td>\n",
       "    </tr>\n",
       "  </tbody>\n",
       "</table>\n",
       "</div>"
      ],
      "text/plain": [
       "          date           utc  det          tb      clat       clon\n",
       "0  01-Mar-2013  00:00:00.090    1  390.849832  16.45645  328.72565\n",
       "1  01-Mar-2013  00:00:00.218    1  390.847669  16.46284  328.72583\n",
       "2  01-Mar-2013  00:00:00.346    1  389.881558  16.46923  328.72598\n",
       "3  01-Mar-2013  00:00:00.474    1  388.904281  16.47561  328.72614\n",
       "4  01-Mar-2013  00:00:00.602    1  394.579036  16.48198  328.72629"
      ]
     },
     "execution_count": 73,
     "metadata": {},
     "output_type": "execute_result"
    }
   ],
   "source": [
    "data_out.head()"
   ]
  },
  {
   "cell_type": "code",
   "execution_count": 74,
   "metadata": {
    "collapsed": false,
    "jupyter": {
     "outputs_hidden": false
    }
   },
   "outputs": [],
   "source": [
    "data_out.to_csv('/u/paige/maye/'+fn.timestr+'_rdr20.csv',index=False)"
   ]
  },
  {
   "cell_type": "code",
   "execution_count": 75,
   "metadata": {
    "collapsed": false,
    "jupyter": {
     "outputs_hidden": false
    }
   },
   "outputs": [],
   "source": [
    "first_day = '2013030100'"
   ]
  },
  {
   "cell_type": "code",
   "execution_count": 76,
   "metadata": {
    "collapsed": false,
    "jupyter": {
     "outputs_hidden": false
    }
   },
   "outputs": [],
   "source": [
    "l1a_channel = 'b3'\n",
    "rdr_channel = 9"
   ]
  },
  {
   "cell_type": "code",
   "execution_count": 78,
   "metadata": {
    "collapsed": false,
    "jupyter": {
     "outputs_hidden": false
    }
   },
   "outputs": [
    {
     "data": {
      "text/plain": [
       "'/raid1/maye/l1a_data/2013030100_L1A.TAB'"
      ]
     },
     "execution_count": 78,
     "metadata": {},
     "output_type": "execute_result"
    }
   ],
   "source": [
    "fn.fname"
   ]
  },
  {
   "cell_type": "code",
   "execution_count": 79,
   "metadata": {
    "collapsed": false,
    "jupyter": {
     "outputs_hidden": false
    }
   },
   "outputs": [
    {
     "data": {
      "text/plain": [
       "'/raid1/maye/l1a_data/2013030101_L1A.TAB'"
      ]
     },
     "execution_count": 79,
     "metadata": {},
     "output_type": "execute_result"
    }
   ],
   "source": [
    "fn.set_next_hour()"
   ]
  },
  {
   "cell_type": "code",
   "execution_count": 80,
   "metadata": {
    "collapsed": false,
    "jupyter": {
     "outputs_hidden": false
    }
   },
   "outputs": [
    {
     "data": {
      "text/plain": [
       "'/raid1/maye/l1a_data/2013030101_L1A.TAB'"
      ]
     },
     "execution_count": 80,
     "metadata": {},
     "output_type": "execute_result"
    }
   ],
   "source": [
    "fn.fname"
   ]
  },
  {
   "cell_type": "code",
   "execution_count": 3,
   "metadata": {
    "collapsed": false,
    "jupyter": {
     "outputs_hidden": false
    }
   },
   "outputs": [
    {
     "name": "stdout",
     "output_type": "stream",
     "text": [
      "/raid1/maye/rdr20_month_samples\n"
     ]
    }
   ],
   "source": [
    "cd /raid1/maye/rdr20_month_samples/"
   ]
  },
  {
   "cell_type": "code",
   "execution_count": 9,
   "metadata": {
    "collapsed": false,
    "jupyter": {
     "outputs_hidden": false
    }
   },
   "outputs": [
    {
     "name": "stdout",
     "output_type": "stream",
     "text": [
      "/raid1/maye/rdr20_month_samples/no_rad_corr\n"
     ]
    }
   ],
   "source": [
    "cd no_rad_corr"
   ]
  },
  {
   "cell_type": "code",
   "execution_count": 4,
   "metadata": {
    "collapsed": false,
    "jupyter": {
     "outputs_hidden": false
    }
   },
   "outputs": [],
   "source": [
    "fnames_out = os.listdir(fu.get_month_sample_path_from_mode('nominal'))"
   ]
  },
  {
   "cell_type": "code",
   "execution_count": 5,
   "metadata": {
    "collapsed": false,
    "jupyter": {
     "outputs_hidden": false
    }
   },
   "outputs": [
    {
     "data": {
      "text/plain": [
       "'2013030100_C3_nominal_RDR20.csv'"
      ]
     },
     "execution_count": 5,
     "metadata": {},
     "output_type": "execute_result"
    }
   ],
   "source": [
    "fnames_out[0]"
   ]
  },
  {
   "cell_type": "code",
   "execution_count": 3,
   "metadata": {
    "collapsed": false,
    "jupyter": {
     "outputs_hidden": false
    }
   },
   "outputs": [],
   "source": [
    "import os, glob"
   ]
  },
  {
   "cell_type": "code",
   "execution_count": 6,
   "metadata": {
    "collapsed": false,
    "jupyter": {
     "outputs_hidden": false
    }
   },
   "outputs": [],
   "source": [
    "timestr = '201303'"
   ]
  },
  {
   "cell_type": "code",
   "execution_count": 7,
   "metadata": {
    "collapsed": false,
    "jupyter": {
     "outputs_hidden": false
    }
   },
   "outputs": [],
   "source": [
    "fnames = glob.glob(os.path.join(fu.l1adatapath, timestr + '*_L1A.TAB'))"
   ]
  },
  {
   "cell_type": "code",
   "execution_count": 8,
   "metadata": {
    "collapsed": false,
    "jupyter": {
     "outputs_hidden": false
    }
   },
   "outputs": [],
   "source": [
    "timestrs_done = [fu.FileName(i).timestr for i in fnames_out]"
   ]
  },
  {
   "cell_type": "code",
   "execution_count": 9,
   "metadata": {
    "collapsed": false,
    "jupyter": {
     "outputs_hidden": false
    }
   },
   "outputs": [],
   "source": [
    "timestrs_in = [fu.FileName(i).timestr for i in fnames]"
   ]
  },
  {
   "cell_type": "code",
   "execution_count": 10,
   "metadata": {
    "collapsed": false,
    "jupyter": {
     "outputs_hidden": false
    }
   },
   "outputs": [],
   "source": [
    "fnames_todo = [i for i in fnames if timestrs_done.count(fu.FileName(i).timestr) < 7]"
   ]
  },
  {
   "cell_type": "code",
   "execution_count": 11,
   "metadata": {
    "collapsed": false,
    "jupyter": {
     "outputs_hidden": false
    }
   },
   "outputs": [
    {
     "data": {
      "text/plain": [
       "317"
      ]
     },
     "execution_count": 11,
     "metadata": {},
     "output_type": "execute_result"
    }
   ],
   "source": [
    "len(fnames_todo)"
   ]
  },
  {
   "cell_type": "code",
   "execution_count": 12,
   "metadata": {
    "collapsed": false,
    "jupyter": {
     "outputs_hidden": false
    }
   },
   "outputs": [
    {
     "data": {
      "text/plain": [
       "744"
      ]
     },
     "execution_count": 12,
     "metadata": {},
     "output_type": "execute_result"
    }
   ],
   "source": [
    "len(fnames)"
   ]
  },
  {
   "cell_type": "code",
   "execution_count": null,
   "metadata": {
    "collapsed": false,
    "jupyter": {
     "outputs_hidden": false
    }
   },
   "outputs": [],
   "source": []
  }
 ],
 "metadata": {
  "kernelspec": {
   "display_name": "Python 3",
   "language": "python",
   "name": "python3"
  },
  "language_info": {
   "codemirror_mode": {
    "name": "ipython",
    "version": 3
   },
   "file_extension": ".py",
   "mimetype": "text/x-python",
   "name": "python",
   "nbconvert_exporter": "python",
   "pygments_lexer": "ipython3",
   "version": "3.7.3"
  }
 },
 "nbformat": 4,
 "nbformat_minor": 4
}
