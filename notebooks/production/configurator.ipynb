{
 "cells": [
  {
   "cell_type": "code",
   "execution_count": 1,
   "metadata": {},
   "outputs": [],
   "source": [
    "from diviner import configuration"
   ]
  },
  {
   "cell_type": "code",
   "execution_count": 2,
   "metadata": {},
   "outputs": [],
   "source": [
    "start = \"20180101\"\n",
    "end = \"20180110\""
   ]
  },
  {
   "cell_type": "code",
   "execution_count": 8,
   "metadata": {},
   "outputs": [],
   "source": [
    "config = configuration.Configurator(start, end)"
   ]
  },
  {
   "cell_type": "code",
   "execution_count": 9,
   "metadata": {},
   "outputs": [
    {
     "name": "stdout",
     "output_type": "stream",
     "text": [
      "Found config diviner_production_config.toml in home directory.\n"
     ]
    },
    {
     "data": {
      "text/plain": [
       "{'paths': {'root': '/luna4/maye/rdr_out/production',\n",
       "  'prodrun': 'no_correction',\n",
       "  'rad_tb': 'radiance_tb_hdf',\n",
       "  'pipes': 'binary_pipes'},\n",
       " 'calibration': {'overwrite': True,\n",
       "  'c_start': 3,\n",
       "  'c_end': 9,\n",
       "  'do_rad_corr': False,\n",
       "  'swap_clons': True,\n",
       "  'save_as_pipes': True},\n",
       " 'run_control': {'start': '2010-04-01', 'stop': '2010-04-02'},\n",
       " 'production_sets': {'test_names': ['Ben_2012_2',\n",
       "   'beta_0_circular',\n",
       "   'beta_0_elliptical',\n",
       "   'beta_90_circular',\n",
       "   'beta_90_elliptical']}}"
      ]
     },
     "execution_count": 9,
     "metadata": {},
     "output_type": "execute_result"
    }
   ],
   "source": [
    "config.config"
   ]
  },
  {
   "cell_type": "code",
   "execution_count": 8,
   "metadata": {},
   "outputs": [
    {
     "data": {
      "text/plain": [
       "'/raid1/maye/rdr_out/production/no_correction/binary_pipes'"
      ]
     },
     "execution_count": 8,
     "metadata": {},
     "output_type": "execute_result"
    }
   ],
   "source": [
    "config.get('paths', 'pipes')"
   ]
  },
  {
   "cell_type": "code",
   "execution_count": null,
   "metadata": {},
   "outputs": [],
   "source": []
  }
 ],
 "metadata": {
  "kernelspec": {
   "display_name": "Python 3",
   "language": "python",
   "name": "python3"
  },
  "language_info": {
   "codemirror_mode": {
    "name": "ipython",
    "version": 3
   },
   "file_extension": ".py",
   "mimetype": "text/x-python",
   "name": "python",
   "nbconvert_exporter": "python",
   "pygments_lexer": "ipython3",
   "version": "3.7.6"
  },
  "widgets": {
   "application/vnd.jupyter.widget-state+json": {
    "state": {},
    "version_major": 2,
    "version_minor": 0
   }
  }
 },
 "nbformat": 4,
 "nbformat_minor": 4
}
