{
 "cells": [
  {
   "cell_type": "code",
   "execution_count": 1,
   "metadata": {},
   "outputs": [],
   "source": [
    "from diviner import file_utils as fu"
   ]
  },
  {
   "cell_type": "code",
   "execution_count": 2,
   "metadata": {},
   "outputs": [
    {
     "data": {
      "text/plain": [
       "PosixPath('/q/marks/feidata')"
      ]
     },
     "execution_count": 2,
     "metadata": {},
     "output_type": "execute_result"
    }
   ],
   "source": [
    "fu.feipath"
   ]
  },
  {
   "cell_type": "code",
   "execution_count": 3,
   "metadata": {},
   "outputs": [
    {
     "data": {
      "text/plain": [
       "PosixPath('/q/marks/feidata/DIV:opsL1A/data')"
      ]
     },
     "execution_count": 3,
     "metadata": {},
     "output_type": "execute_result"
    }
   ],
   "source": [
    "fu.l1adatapath"
   ]
  },
  {
   "cell_type": "code",
   "execution_count": 13,
   "metadata": {},
   "outputs": [],
   "source": [
    "fn = fu.L1AParquetFileName('/luna4/maye/l1a_parquet/2017/2017123115_L1A.parquet')"
   ]
  },
  {
   "cell_type": "code",
   "execution_count": 14,
   "metadata": {},
   "outputs": [
    {
     "data": {
      "text/plain": [
       "L1AParquetFileName\n",
       "Dir: /luna4/maye/l1a_parquet/2017\n",
       "Base: 2017123115_L1A.parquet"
      ]
     },
     "execution_count": 14,
     "metadata": {},
     "output_type": "execute_result"
    }
   ],
   "source": [
    "fn"
   ]
  },
  {
   "cell_type": "code",
   "execution_count": 15,
   "metadata": {},
   "outputs": [
    {
     "data": {
      "text/plain": [
       "'2017123115_L1A.parquet'"
      ]
     },
     "execution_count": 15,
     "metadata": {},
     "output_type": "execute_result"
    }
   ],
   "source": [
    "fn.basename"
   ]
  },
  {
   "cell_type": "code",
   "execution_count": 16,
   "metadata": {},
   "outputs": [
    {
     "data": {
      "text/plain": [
       "PosixPath('/luna4/maye/l1a_parquet')"
      ]
     },
     "execution_count": 16,
     "metadata": {},
     "output_type": "execute_result"
    }
   ],
   "source": [
    "fn.datapath"
   ]
  },
  {
   "cell_type": "code",
   "execution_count": 17,
   "metadata": {},
   "outputs": [
    {
     "data": {
      "text/plain": [
       "DivTime\n",
       "2017-12-31 15:00:00"
      ]
     },
     "execution_count": 17,
     "metadata": {},
     "output_type": "execute_result"
    }
   ],
   "source": [
    "fn.divhour"
   ]
  },
  {
   "cell_type": "code",
   "execution_count": 18,
   "metadata": {},
   "outputs": [
    {
     "data": {
      "text/plain": [
       "'2017123115'"
      ]
     },
     "execution_count": 18,
     "metadata": {},
     "output_type": "execute_result"
    }
   ],
   "source": [
    "fn.tstr"
   ]
  },
  {
   "cell_type": "code",
   "execution_count": 19,
   "metadata": {},
   "outputs": [
    {
     "data": {
      "text/plain": [
       "'/luna4/maye/l1a_parquet/2017/2017123115_L1A.parquet'"
      ]
     },
     "execution_count": 19,
     "metadata": {},
     "output_type": "execute_result"
    }
   ],
   "source": [
    "fn.path"
   ]
  },
  {
   "cell_type": "code",
   "execution_count": 35,
   "metadata": {},
   "outputs": [],
   "source": [
    "class L1AParquetDataPump:\n",
    "    datapath = Path(\"/luna4/maye/l1a_parquet\")\n",
    "\n",
    "    def __init__(self, tstr):\n",
    "        self.tstr = tstr\n",
    "        self.year = tstr[:4]\n",
    "        \n",
    "    @property\n",
    "    def year_folder(self):\n",
    "        return self.datapath / self.year\n",
    "    \n",
    "    def find_fnames(self):\n",
    "        \"Needs self.datapath to be defined in derived class.\"\n",
    "        fnames = list(self.year_folder.glob(self.tstr+'*'))\n",
    "        if not fnames:\n",
    "            print(\"No files found. Searched like this:\\n\")\n",
    "            print(searchpath)\n",
    "        return sorted(fnames)\n"
   ]
  },
  {
   "cell_type": "code",
   "execution_count": 42,
   "metadata": {},
   "outputs": [],
   "source": [
    "l1apump = L1AParquetDataPump('20171201')"
   ]
  },
  {
   "cell_type": "code",
   "execution_count": 43,
   "metadata": {},
   "outputs": [
    {
     "data": {
      "text/plain": [
       "[PosixPath('/luna4/maye/l1a_parquet/2017/2017120100_L1A.parquet'),\n",
       " PosixPath('/luna4/maye/l1a_parquet/2017/2017120101_L1A.parquet'),\n",
       " PosixPath('/luna4/maye/l1a_parquet/2017/2017120102_L1A.parquet'),\n",
       " PosixPath('/luna4/maye/l1a_parquet/2017/2017120103_L1A.parquet'),\n",
       " PosixPath('/luna4/maye/l1a_parquet/2017/2017120104_L1A.parquet'),\n",
       " PosixPath('/luna4/maye/l1a_parquet/2017/2017120105_L1A.parquet'),\n",
       " PosixPath('/luna4/maye/l1a_parquet/2017/2017120106_L1A.parquet'),\n",
       " PosixPath('/luna4/maye/l1a_parquet/2017/2017120107_L1A.parquet'),\n",
       " PosixPath('/luna4/maye/l1a_parquet/2017/2017120108_L1A.parquet'),\n",
       " PosixPath('/luna4/maye/l1a_parquet/2017/2017120109_L1A.parquet'),\n",
       " PosixPath('/luna4/maye/l1a_parquet/2017/2017120110_L1A.parquet'),\n",
       " PosixPath('/luna4/maye/l1a_parquet/2017/2017120111_L1A.parquet'),\n",
       " PosixPath('/luna4/maye/l1a_parquet/2017/2017120112_L1A.parquet'),\n",
       " PosixPath('/luna4/maye/l1a_parquet/2017/2017120113_L1A.parquet'),\n",
       " PosixPath('/luna4/maye/l1a_parquet/2017/2017120114_L1A.parquet'),\n",
       " PosixPath('/luna4/maye/l1a_parquet/2017/2017120115_L1A.parquet'),\n",
       " PosixPath('/luna4/maye/l1a_parquet/2017/2017120116_L1A.parquet'),\n",
       " PosixPath('/luna4/maye/l1a_parquet/2017/2017120117_L1A.parquet'),\n",
       " PosixPath('/luna4/maye/l1a_parquet/2017/2017120118_L1A.parquet'),\n",
       " PosixPath('/luna4/maye/l1a_parquet/2017/2017120119_L1A.parquet'),\n",
       " PosixPath('/luna4/maye/l1a_parquet/2017/2017120120_L1A.parquet'),\n",
       " PosixPath('/luna4/maye/l1a_parquet/2017/2017120121_L1A.parquet'),\n",
       " PosixPath('/luna4/maye/l1a_parquet/2017/2017120122_L1A.parquet'),\n",
       " PosixPath('/luna4/maye/l1a_parquet/2017/2017120123_L1A.parquet')]"
      ]
     },
     "execution_count": 43,
     "metadata": {},
     "output_type": "execute_result"
    }
   ],
   "source": [
    "l1apump.find_fnames()"
   ]
  },
  {
   "cell_type": "code",
   "execution_count": null,
   "metadata": {},
   "outputs": [],
   "source": []
  }
 ],
 "metadata": {
  "kernelspec": {
   "display_name": "Python 3",
   "language": "python",
   "name": "python3"
  },
  "language_info": {
   "codemirror_mode": {
    "name": "ipython",
    "version": 3
   },
   "file_extension": ".py",
   "mimetype": "text/x-python",
   "name": "python",
   "nbconvert_exporter": "python",
   "pygments_lexer": "ipython3",
   "version": "3.7.3"
  }
 },
 "nbformat": 4,
 "nbformat_minor": 4
}
